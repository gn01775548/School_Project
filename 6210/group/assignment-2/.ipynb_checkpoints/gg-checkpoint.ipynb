{
 "cells": [
  {
   "cell_type": "markdown",
   "metadata": {},
   "source": [
    "# Collect Twitter Data\n"
   ]
  },
  {
   "cell_type": "code",
   "execution_count": 2,
   "metadata": {},
   "outputs": [],
   "source": [
    "import twitter"
   ]
  },
  {
   "cell_type": "code",
   "execution_count": 3,
   "metadata": {},
   "outputs": [],
   "source": [
    "import tweepy"
   ]
  },
  {
   "cell_type": "markdown",
   "metadata": {},
   "source": [
    "### Get Twitter Api"
   ]
  },
  {
   "cell_type": "code",
   "execution_count": 4,
   "metadata": {},
   "outputs": [],
   "source": [
    "auth = tweepy.OAuthHandler('NzIdrbd4Ht4Il0oLMe2IaMDXn', 'PB13487DbvYEze2MnIgX4a1w2oY75qxDmcNELvRjf0kcfsO7dU')\n",
    "auth.set_access_token('1086338263206514689-Em3wWOVgKwQ1re4Zqf9274VdfXzU09', 'My58nuVtHuInK5r2tmcSzgyEJHn09v5Jj0f9gL9Iv0o4j')\n",
    "api = tweepy.API(auth)\n"
   ]
  },
  {
   "cell_type": "markdown",
   "metadata": {},
   "source": [
    "### Collect Singers data"
   ]
  },
  {
   "cell_type": "code",
   "execution_count": 5,
   "metadata": {
    "scrolled": true
   },
   "outputs": [
    {
     "data": {
      "text/plain": [
       "User(_api=<tweepy.api.API object at 0x1097e7dd8>, _json={'id': 73992972, 'id_str': '73992972', 'name': 'Avril Lavigne', 'screen_name': 'AvrilLavigne', 'location': '', 'profile_location': None, 'description': 'BMG Records. Freesolo / Vector Management. PMKBNC. Listen to my new album #HeadAboveWater 🌊 here:https://t.co/euGdGHvWK2', 'url': 'https://t.co/niyvkKkHrn', 'entities': {'url': {'urls': [{'url': 'https://t.co/niyvkKkHrn', 'expanded_url': 'http://avrillavigne.com', 'display_url': 'avrillavigne.com', 'indices': [0, 23]}]}, 'description': {'urls': [{'url': 'https://t.co/euGdGHvWK2', 'expanded_url': 'https://avrillavigne.lnk.to/HeadAboveWaterAlbumTWQ', 'display_url': 'avrillavigne.lnk.to/HeadAboveWater…', 'indices': [97, 120]}]}}, 'protected': False, 'followers_count': 21713586, 'friends_count': 165, 'listed_count': 45858, 'created_at': 'Sun Sep 13 22:43:00 +0000 2009', 'favourites_count': 879, 'utc_offset': None, 'time_zone': None, 'geo_enabled': True, 'verified': True, 'statuses_count': 3945, 'lang': 'en', 'status': {'created_at': 'Tue Mar 05 15:31:14 +0000 2019', 'id': 1102954732732080128, 'id_str': '1102954732732080128', 'text': 'Tune in today to @cbs at 2pm ET/1pm PT to watch my live performance on @TheTalkCBS 🖤 https://t.co/dBdySjyVNV', 'truncated': False, 'entities': {'hashtags': [], 'symbols': [], 'user_mentions': [{'screen_name': 'CBS', 'name': 'CBS', 'id': 97739866, 'id_str': '97739866', 'indices': [17, 21]}, {'screen_name': 'TheTalkCBS', 'name': 'The Talk', 'id': 177249094, 'id_str': '177249094', 'indices': [71, 82]}], 'urls': [], 'media': [{'id': 1102954728994955264, 'id_str': '1102954728994955264', 'indices': [85, 108], 'media_url': 'http://pbs.twimg.com/media/D057e3kU4AAUfzo.jpg', 'media_url_https': 'https://pbs.twimg.com/media/D057e3kU4AAUfzo.jpg', 'url': 'https://t.co/dBdySjyVNV', 'display_url': 'pic.twitter.com/dBdySjyVNV', 'expanded_url': 'https://twitter.com/AvrilLavigne/status/1102954732732080128/photo/1', 'type': 'photo', 'sizes': {'thumb': {'w': 150, 'h': 150, 'resize': 'crop'}, 'large': {'w': 1024, 'h': 512, 'resize': 'fit'}, 'medium': {'w': 1024, 'h': 512, 'resize': 'fit'}, 'small': {'w': 680, 'h': 340, 'resize': 'fit'}}}]}, 'extended_entities': {'media': [{'id': 1102954728994955264, 'id_str': '1102954728994955264', 'indices': [85, 108], 'media_url': 'http://pbs.twimg.com/media/D057e3kU4AAUfzo.jpg', 'media_url_https': 'https://pbs.twimg.com/media/D057e3kU4AAUfzo.jpg', 'url': 'https://t.co/dBdySjyVNV', 'display_url': 'pic.twitter.com/dBdySjyVNV', 'expanded_url': 'https://twitter.com/AvrilLavigne/status/1102954732732080128/photo/1', 'type': 'photo', 'sizes': {'thumb': {'w': 150, 'h': 150, 'resize': 'crop'}, 'large': {'w': 1024, 'h': 512, 'resize': 'fit'}, 'medium': {'w': 1024, 'h': 512, 'resize': 'fit'}, 'small': {'w': 680, 'h': 340, 'resize': 'fit'}}}]}, 'source': '<a href=\"http://twitter.com/download/iphone\" rel=\"nofollow\">Twitter for iPhone</a>', 'in_reply_to_status_id': None, 'in_reply_to_status_id_str': None, 'in_reply_to_user_id': None, 'in_reply_to_user_id_str': None, 'in_reply_to_screen_name': None, 'geo': None, 'coordinates': None, 'place': None, 'contributors': None, 'is_quote_status': False, 'retweet_count': 367, 'favorite_count': 1835, 'favorited': False, 'retweeted': False, 'possibly_sensitive': False, 'lang': 'en'}, 'contributors_enabled': False, 'is_translator': False, 'is_translation_enabled': True, 'profile_background_color': '100C0B', 'profile_background_image_url': 'http://abs.twimg.com/images/themes/theme10/bg.gif', 'profile_background_image_url_https': 'https://abs.twimg.com/images/themes/theme10/bg.gif', 'profile_background_tile': False, 'profile_image_url': 'http://pbs.twimg.com/profile_images/1072899793054121990/QPK0Qv46_normal.jpg', 'profile_image_url_https': 'https://pbs.twimg.com/profile_images/1072899793054121990/QPK0Qv46_normal.jpg', 'profile_banner_url': 'https://pbs.twimg.com/profile_banners/73992972/1550206758', 'profile_link_color': '1B95E0', 'profile_sidebar_border_color': '000000', 'profile_sidebar_fill_color': '1A1A17', 'profile_text_color': 'ABABAB', 'profile_use_background_image': True, 'has_extended_profile': False, 'default_profile': False, 'default_profile_image': False, 'following': False, 'follow_request_sent': False, 'notifications': False, 'translator_type': 'regular'}, id=73992972, id_str='73992972', name='Avril Lavigne', screen_name='AvrilLavigne', location='', profile_location=None, description='BMG Records. Freesolo / Vector Management. PMKBNC. Listen to my new album #HeadAboveWater 🌊 here:https://t.co/euGdGHvWK2', url='https://t.co/niyvkKkHrn', entities={'url': {'urls': [{'url': 'https://t.co/niyvkKkHrn', 'expanded_url': 'http://avrillavigne.com', 'display_url': 'avrillavigne.com', 'indices': [0, 23]}]}, 'description': {'urls': [{'url': 'https://t.co/euGdGHvWK2', 'expanded_url': 'https://avrillavigne.lnk.to/HeadAboveWaterAlbumTWQ', 'display_url': 'avrillavigne.lnk.to/HeadAboveWater…', 'indices': [97, 120]}]}}, protected=False, followers_count=21713586, friends_count=165, listed_count=45858, created_at=datetime.datetime(2009, 9, 13, 22, 43), favourites_count=879, utc_offset=None, time_zone=None, geo_enabled=True, verified=True, statuses_count=3945, lang='en', status=Status(_api=<tweepy.api.API object at 0x1097e7dd8>, _json={'created_at': 'Tue Mar 05 15:31:14 +0000 2019', 'id': 1102954732732080128, 'id_str': '1102954732732080128', 'text': 'Tune in today to @cbs at 2pm ET/1pm PT to watch my live performance on @TheTalkCBS 🖤 https://t.co/dBdySjyVNV', 'truncated': False, 'entities': {'hashtags': [], 'symbols': [], 'user_mentions': [{'screen_name': 'CBS', 'name': 'CBS', 'id': 97739866, 'id_str': '97739866', 'indices': [17, 21]}, {'screen_name': 'TheTalkCBS', 'name': 'The Talk', 'id': 177249094, 'id_str': '177249094', 'indices': [71, 82]}], 'urls': [], 'media': [{'id': 1102954728994955264, 'id_str': '1102954728994955264', 'indices': [85, 108], 'media_url': 'http://pbs.twimg.com/media/D057e3kU4AAUfzo.jpg', 'media_url_https': 'https://pbs.twimg.com/media/D057e3kU4AAUfzo.jpg', 'url': 'https://t.co/dBdySjyVNV', 'display_url': 'pic.twitter.com/dBdySjyVNV', 'expanded_url': 'https://twitter.com/AvrilLavigne/status/1102954732732080128/photo/1', 'type': 'photo', 'sizes': {'thumb': {'w': 150, 'h': 150, 'resize': 'crop'}, 'large': {'w': 1024, 'h': 512, 'resize': 'fit'}, 'medium': {'w': 1024, 'h': 512, 'resize': 'fit'}, 'small': {'w': 680, 'h': 340, 'resize': 'fit'}}}]}, 'extended_entities': {'media': [{'id': 1102954728994955264, 'id_str': '1102954728994955264', 'indices': [85, 108], 'media_url': 'http://pbs.twimg.com/media/D057e3kU4AAUfzo.jpg', 'media_url_https': 'https://pbs.twimg.com/media/D057e3kU4AAUfzo.jpg', 'url': 'https://t.co/dBdySjyVNV', 'display_url': 'pic.twitter.com/dBdySjyVNV', 'expanded_url': 'https://twitter.com/AvrilLavigne/status/1102954732732080128/photo/1', 'type': 'photo', 'sizes': {'thumb': {'w': 150, 'h': 150, 'resize': 'crop'}, 'large': {'w': 1024, 'h': 512, 'resize': 'fit'}, 'medium': {'w': 1024, 'h': 512, 'resize': 'fit'}, 'small': {'w': 680, 'h': 340, 'resize': 'fit'}}}]}, 'source': '<a href=\"http://twitter.com/download/iphone\" rel=\"nofollow\">Twitter for iPhone</a>', 'in_reply_to_status_id': None, 'in_reply_to_status_id_str': None, 'in_reply_to_user_id': None, 'in_reply_to_user_id_str': None, 'in_reply_to_screen_name': None, 'geo': None, 'coordinates': None, 'place': None, 'contributors': None, 'is_quote_status': False, 'retweet_count': 367, 'favorite_count': 1835, 'favorited': False, 'retweeted': False, 'possibly_sensitive': False, 'lang': 'en'}, created_at=datetime.datetime(2019, 3, 5, 15, 31, 14), id=1102954732732080128, id_str='1102954732732080128', text='Tune in today to @cbs at 2pm ET/1pm PT to watch my live performance on @TheTalkCBS 🖤 https://t.co/dBdySjyVNV', truncated=False, entities={'hashtags': [], 'symbols': [], 'user_mentions': [{'screen_name': 'CBS', 'name': 'CBS', 'id': 97739866, 'id_str': '97739866', 'indices': [17, 21]}, {'screen_name': 'TheTalkCBS', 'name': 'The Talk', 'id': 177249094, 'id_str': '177249094', 'indices': [71, 82]}], 'urls': [], 'media': [{'id': 1102954728994955264, 'id_str': '1102954728994955264', 'indices': [85, 108], 'media_url': 'http://pbs.twimg.com/media/D057e3kU4AAUfzo.jpg', 'media_url_https': 'https://pbs.twimg.com/media/D057e3kU4AAUfzo.jpg', 'url': 'https://t.co/dBdySjyVNV', 'display_url': 'pic.twitter.com/dBdySjyVNV', 'expanded_url': 'https://twitter.com/AvrilLavigne/status/1102954732732080128/photo/1', 'type': 'photo', 'sizes': {'thumb': {'w': 150, 'h': 150, 'resize': 'crop'}, 'large': {'w': 1024, 'h': 512, 'resize': 'fit'}, 'medium': {'w': 1024, 'h': 512, 'resize': 'fit'}, 'small': {'w': 680, 'h': 340, 'resize': 'fit'}}}]}, extended_entities={'media': [{'id': 1102954728994955264, 'id_str': '1102954728994955264', 'indices': [85, 108], 'media_url': 'http://pbs.twimg.com/media/D057e3kU4AAUfzo.jpg', 'media_url_https': 'https://pbs.twimg.com/media/D057e3kU4AAUfzo.jpg', 'url': 'https://t.co/dBdySjyVNV', 'display_url': 'pic.twitter.com/dBdySjyVNV', 'expanded_url': 'https://twitter.com/AvrilLavigne/status/1102954732732080128/photo/1', 'type': 'photo', 'sizes': {'thumb': {'w': 150, 'h': 150, 'resize': 'crop'}, 'large': {'w': 1024, 'h': 512, 'resize': 'fit'}, 'medium': {'w': 1024, 'h': 512, 'resize': 'fit'}, 'small': {'w': 680, 'h': 340, 'resize': 'fit'}}}]}, source='Twitter for iPhone', source_url='http://twitter.com/download/iphone', in_reply_to_status_id=None, in_reply_to_status_id_str=None, in_reply_to_user_id=None, in_reply_to_user_id_str=None, in_reply_to_screen_name=None, geo=None, coordinates=None, place=None, contributors=None, is_quote_status=False, retweet_count=367, favorite_count=1835, favorited=False, retweeted=False, possibly_sensitive=False, lang='en'), contributors_enabled=False, is_translator=False, is_translation_enabled=True, profile_background_color='100C0B', profile_background_image_url='http://abs.twimg.com/images/themes/theme10/bg.gif', profile_background_image_url_https='https://abs.twimg.com/images/themes/theme10/bg.gif', profile_background_tile=False, profile_image_url='http://pbs.twimg.com/profile_images/1072899793054121990/QPK0Qv46_normal.jpg', profile_image_url_https='https://pbs.twimg.com/profile_images/1072899793054121990/QPK0Qv46_normal.jpg', profile_banner_url='https://pbs.twimg.com/profile_banners/73992972/1550206758', profile_link_color='1B95E0', profile_sidebar_border_color='000000', profile_sidebar_fill_color='1A1A17', profile_text_color='ABABAB', profile_use_background_image=True, has_extended_profile=False, default_profile=False, default_profile_image=False, following=False, follow_request_sent=False, notifications=False, translator_type='regular')"
      ]
     },
     "execution_count": 5,
     "metadata": {},
     "output_type": "execute_result"
    }
   ],
   "source": [
    "user = api.get_user('AvrilLavigne')\n",
    "user"
   ]
  },
  {
   "cell_type": "code",
   "execution_count": 302,
   "metadata": {},
   "outputs": [],
   "source": [
    "singer_names = []\n",
    "singer_id = []\n",
    "singer_url = []\n",
    "singer_description = []\n",
    "singer_followers_count = []"
   ]
  },
  {
   "cell_type": "markdown",
   "metadata": {},
   "source": [
    "### Collect datas of singers' information"
   ]
  },
  {
   "cell_type": "code",
   "execution_count": 303,
   "metadata": {},
   "outputs": [],
   "source": [
    "singer_id.append(user.id)\n",
    "singer_names.append(user.name)\n",
    "singer_url.append(user.url)\n",
    "singer_description.append(user.description)\n",
    "singer_followers_count.append(user.followers_count)"
   ]
  },
  {
   "cell_type": "code",
   "execution_count": 304,
   "metadata": {},
   "outputs": [],
   "source": [
    "user1 = api.get_user('ArianaGrande')"
   ]
  },
  {
   "cell_type": "code",
   "execution_count": 305,
   "metadata": {},
   "outputs": [],
   "source": [
    "singer_id.append(user1.id)\n",
    "singer_names.append(user1.name)\n",
    "singer_url.append(user1.url)\n",
    "singer_description.append(user1.description)\n",
    "singer_followers_count.append(user1.followers_count)\n"
   ]
  },
  {
   "cell_type": "code",
   "execution_count": 306,
   "metadata": {},
   "outputs": [],
   "source": [
    "user2 = api.get_user('katyperry')"
   ]
  },
  {
   "cell_type": "code",
   "execution_count": 307,
   "metadata": {},
   "outputs": [],
   "source": [
    "singer_id.append(user2.id)\n",
    "singer_names.append(user2.name)\n",
    "singer_url.append(user2.url)\n",
    "singer_description.append(user2.description)\n",
    "singer_followers_count.append(user2.followers_count)"
   ]
  },
  {
   "cell_type": "code",
   "execution_count": 308,
   "metadata": {},
   "outputs": [],
   "source": [
    "user3 = api.get_user('rihanna')"
   ]
  },
  {
   "cell_type": "code",
   "execution_count": 309,
   "metadata": {},
   "outputs": [],
   "source": [
    "singer_id.append(user3.id)\n",
    "singer_names.append(user3.name)\n",
    "singer_url.append(user3.url)\n",
    "singer_description.append(user3.description)\n",
    "singer_followers_count.append(user3.followers_count)\n"
   ]
  },
  {
   "cell_type": "code",
   "execution_count": 310,
   "metadata": {},
   "outputs": [],
   "source": [
    "user4 = api.get_user('chrisbrown')"
   ]
  },
  {
   "cell_type": "code",
   "execution_count": 311,
   "metadata": {},
   "outputs": [],
   "source": [
    "singer_id.append(user4.id)\n",
    "singer_names.append(user4.name)\n",
    "singer_url.append(user4.url)\n",
    "singer_description.append(user4.description)\n",
    "singer_followers_count.append(user4.followers_count)"
   ]
  },
  {
   "cell_type": "code",
   "execution_count": 312,
   "metadata": {},
   "outputs": [],
   "source": [
    "user5 = api.get_user('justinbieber')"
   ]
  },
  {
   "cell_type": "code",
   "execution_count": 313,
   "metadata": {},
   "outputs": [],
   "source": [
    "singer_id.append(user5.id)\n",
    "singer_names.append(user5.name)\n",
    "singer_url.append(user5.url)\n",
    "singer_description.append(user5.description)\n",
    "singer_followers_count.append(user5.followers_count)"
   ]
  },
  {
   "cell_type": "code",
   "execution_count": 314,
   "metadata": {},
   "outputs": [],
   "source": [
    "user6 = api.get_user('ladygaga')"
   ]
  },
  {
   "cell_type": "code",
   "execution_count": 315,
   "metadata": {},
   "outputs": [],
   "source": [
    "singer_id.append(user6.id)\n",
    "singer_names.append(user6.name)\n",
    "singer_url.append(user6.url)\n",
    "singer_description.append(user6.description)\n",
    "singer_followers_count.append(user6.followers_count)"
   ]
  },
  {
   "cell_type": "code",
   "execution_count": 316,
   "metadata": {},
   "outputs": [],
   "source": [
    "user7 = api.get_user('maroon5') "
   ]
  },
  {
   "cell_type": "code",
   "execution_count": 317,
   "metadata": {},
   "outputs": [],
   "source": [
    "singer_id.append(user7.id)\n",
    "singer_names.append(user7.name)\n",
    "singer_url.append(user7.url)\n",
    "singer_description.append(user7.description)\n",
    "singer_followers_count.append(user7.followers_count)"
   ]
  },
  {
   "cell_type": "code",
   "execution_count": 318,
   "metadata": {},
   "outputs": [],
   "source": [
    "user8 = api.get_user('BrunoMars') "
   ]
  },
  {
   "cell_type": "code",
   "execution_count": 319,
   "metadata": {},
   "outputs": [],
   "source": [
    "singer_id.append(user8.id)\n",
    "singer_names.append(user8.name)\n",
    "singer_url.append(user8.url)\n",
    "singer_description.append(user8.description)\n",
    "singer_followers_count.append(user8.followers_count)"
   ]
  },
  {
   "cell_type": "code",
   "execution_count": 320,
   "metadata": {},
   "outputs": [],
   "source": [
    "user9 = api.get_user('taylorswift13') "
   ]
  },
  {
   "cell_type": "code",
   "execution_count": 321,
   "metadata": {},
   "outputs": [],
   "source": [
    "singer_id.append(user9.id)\n",
    "singer_names.append(user9.name)\n",
    "singer_url.append(user9.url)\n",
    "singer_description.append(user9.description)\n",
    "singer_followers_count.append(user9.followers_count)"
   ]
  },
  {
   "cell_type": "markdown",
   "metadata": {},
   "source": [
    "### Transform dataframe to table"
   ]
  },
  {
   "cell_type": "code",
   "execution_count": 206,
   "metadata": {},
   "outputs": [],
   "source": [
    "import pandas as pd"
   ]
  },
  {
   "cell_type": "code",
   "execution_count": 207,
   "metadata": {},
   "outputs": [
    {
     "ename": "NameError",
     "evalue": "name 'singer_id' is not defined",
     "output_type": "error",
     "traceback": [
      "\u001b[0;31m---------------------------------------------------------------------------\u001b[0m",
      "\u001b[0;31mNameError\u001b[0m                                 Traceback (most recent call last)",
      "\u001b[0;32m<ipython-input-207-591a7053b885>\u001b[0m in \u001b[0;36m<module>\u001b[0;34m\u001b[0m\n\u001b[1;32m      2\u001b[0m a = {\n\u001b[1;32m      3\u001b[0m \u001b[0;34m\u001b[0m\u001b[0m\n\u001b[0;32m----> 4\u001b[0;31m         \u001b[0;34m\"singer_ID\"\u001b[0m\u001b[0;34m:\u001b[0m \u001b[0msinger_id\u001b[0m\u001b[0;34m,\u001b[0m\u001b[0;34m\u001b[0m\u001b[0;34m\u001b[0m\u001b[0m\n\u001b[0m\u001b[1;32m      5\u001b[0m         \u001b[0;34m\"singer_name\"\u001b[0m\u001b[0;34m:\u001b[0m \u001b[0msinger_names\u001b[0m\u001b[0;34m,\u001b[0m\u001b[0;34m\u001b[0m\u001b[0;34m\u001b[0m\u001b[0m\n\u001b[1;32m      6\u001b[0m         \u001b[0;34m\"singer_url\"\u001b[0m\u001b[0;34m:\u001b[0m \u001b[0msinger_url\u001b[0m\u001b[0;34m,\u001b[0m\u001b[0;34m\u001b[0m\u001b[0;34m\u001b[0m\u001b[0m\n",
      "\u001b[0;31mNameError\u001b[0m: name 'singer_id' is not defined"
     ]
    }
   ],
   "source": [
    "\n",
    "a = {\n",
    "       \n",
    "        \"singer_ID\": singer_id,\n",
    "        \"singer_name\": singer_names,\n",
    "        \"singer_url\": singer_url,\n",
    "        \"singer_description\": singer_description,\n",
    "        \"singer_followers_count\": singer_followers_count,\n",
    " }\n",
    " \n",
    "df = pd.DataFrame.from_dict(a, orient='index')\n",
    "df.transpose()\n",
    "\n"
   ]
  },
  {
   "cell_type": "markdown",
   "metadata": {},
   "source": [
    "### Collect popular Twitter posts data"
   ]
  },
  {
   "cell_type": "code",
   "execution_count": 39,
   "metadata": {},
   "outputs": [],
   "source": [
    "most_popular_post_ID = []\n",
    "post_content = []\n",
    "post_time = []\n",
    "post_retweet_count=[]\n",
    "Post_name = []\n",
    "key_word =[\"Avril Lavigne\",\"Ariana Grande\",\"katy Perry\",\"Rihanna\",\"chrisbrown\",\"Lady Gaga\",\"Maroon5\",\"Justin Bieber\",\"Bruno Mars\",\"Taylor Swift\",\"BTS\",\"Seventeen\"]\n",
    "search = tweepy.Cursor(api.search, q=\"Avril Lavigne\", result_type=\"popular\", lang=\"en\").items(1)\n",
    "search1 = tweepy.Cursor(api.search, q=\"Ariana Grande\", result_type=\"popular\", lang=\"en\").items(1)\n",
    "search2 = tweepy.Cursor(api.search, q=\"katy Perry\", result_type=\"popular\", lang=\"en\").items(1)\n",
    "search3 = tweepy.Cursor(api.search, q=\"Rihanna\", result_type=\"popular\", lang=\"en\").items(1)\n",
    "search9 = tweepy.Cursor(api.search, q=\"chrisbrown\", result_type=\"popular\", lang=\"en\").items(1)\n",
    "search4 = tweepy.Cursor(api.search, q=\"Lady Gaga\", result_type=\"popular\", lang=\"en\").items(1)\n",
    "search5 = tweepy.Cursor(api.search, q=\"Maroon5\", result_type=\"popular\", lang=\"en\").items(1)\n",
    "search6 = tweepy.Cursor(api.search, q=\"Justin Bieber\", result_type=\"popular\", lang=\"en\").items(1)\n",
    "search7 = tweepy.Cursor(api.search, q=\"Bruno Mars\", result_type=\"popular\", lang=\"en\").items(1)\n",
    "search8 = tweepy.Cursor(api.search, q=\"Taylor Swift\", result_type=\"popular\", lang=\"en\").items(1)\n",
    "search10 = tweepy.Cursor(api.search, q=\"BTS\", result_type=\"popular\", lang=\"en\").items(1)\n",
    "search11 = tweepy.Cursor(api.search, q=\"Seventeen\", result_type=\"popular\", lang=\"en\").items(1)"
   ]
  },
  {
   "cell_type": "code",
   "execution_count": 42,
   "metadata": {},
   "outputs": [],
   "source": [
    "for item in search:    \n",
    " most_popular_post_ID.append(item.id)\n",
    " post_content.append(item.text)\n",
    " post_time.append(item.created_at)\n",
    " post_retweet_count.append(item.retweet_count)\n",
    " \n"
   ]
  },
  {
   "cell_type": "code",
   "execution_count": 152,
   "metadata": {},
   "outputs": [],
   "source": [
    "for item in search1:    \n",
    " most_popular_post_ID.append(item.id)\n",
    " post_content.append(item.text)\n",
    " post_time.append(item.created_at)\n",
    " post_retweet_count.append(item.retweet_count)\n",
    "\n"
   ]
  },
  {
   "cell_type": "code",
   "execution_count": 158,
   "metadata": {},
   "outputs": [
    {
     "data": {
      "text/plain": [
       "'Taylor Swift'"
      ]
     },
     "execution_count": 158,
     "metadata": {},
     "output_type": "execute_result"
    }
   ],
   "source": []
  },
  {
   "cell_type": "code",
   "execution_count": 44,
   "metadata": {},
   "outputs": [],
   "source": [
    "for item in search2:    \n",
    " most_popular_post_ID.append(item.id)\n",
    " post_content.append(item.text)\n",
    " post_time.append(item.created_at)\n",
    " post_retweet_count.append(item.retweet_count)\n",
    " \n",
    "\n",
    "\n"
   ]
  },
  {
   "cell_type": "code",
   "execution_count": 474,
   "metadata": {},
   "outputs": [],
   "source": [
    "for item in search3:    \n",
    " most_popular_post_ID.append(item.id)\n",
    " post_content.append(item.text)\n",
    " post_time.append(item.created_at)\n",
    " post_retweet_count.append(item.retweet_count)\n"
   ]
  },
  {
   "cell_type": "code",
   "execution_count": 475,
   "metadata": {},
   "outputs": [],
   "source": [
    "for item in search9:    \n",
    " most_popular_post_ID.append(item.id)\n",
    " post_content.append(item.text)\n",
    " post_time.append(item.created_at)\n",
    " post_retweet_count.append(item.retweet_count)\n",
    " \n"
   ]
  },
  {
   "cell_type": "code",
   "execution_count": 476,
   "metadata": {},
   "outputs": [],
   "source": [
    "for item in search4:    \n",
    " most_popular_post_ID.append(item.id)\n",
    " post_content.append(item.text)\n",
    " post_time.append(item.created_at)\n",
    " post_retweet_count.append(item.retweet_count)\n"
   ]
  },
  {
   "cell_type": "code",
   "execution_count": 477,
   "metadata": {},
   "outputs": [],
   "source": [
    "for item in search5:    \n",
    " most_popular_post_ID.append(item.id)\n",
    " post_content.append(item.text)\n",
    " post_time.append(item.created_at)\n",
    " post_retweet_count.append(item.retweet_count)\n",
    "\n",
    "\n"
   ]
  },
  {
   "cell_type": "code",
   "execution_count": 478,
   "metadata": {},
   "outputs": [],
   "source": [
    "for item in search6:    \n",
    " most_popular_post_ID.append(item.id)\n",
    " post_content.append(item.text)\n",
    " post_time.append(item.created_at)\n",
    " post_retweet_count.append(item.retweet_count)\n",
    "\n",
    "\n"
   ]
  },
  {
   "cell_type": "code",
   "execution_count": 479,
   "metadata": {},
   "outputs": [],
   "source": [
    "for item in search7:    \n",
    " most_popular_post_ID.append(item.id)\n",
    " post_content.append(item.text)\n",
    " post_time.append(item.created_at)\n",
    " post_retweet_count.append(item.retweet_count)\n",
    "\n",
    "\n"
   ]
  },
  {
   "cell_type": "code",
   "execution_count": 480,
   "metadata": {},
   "outputs": [],
   "source": [
    "for item in search8:    \n",
    " most_popular_post_ID.append(item.id)\n",
    " post_content.append(item.text)\n",
    " post_time.append(item.created_at)\n",
    " post_retweet_count.append(item.retweet_count)\n",
    "\n",
    "\n"
   ]
  },
  {
   "cell_type": "code",
   "execution_count": 481,
   "metadata": {},
   "outputs": [],
   "source": [
    "for item in search10:    \n",
    " most_popular_post_ID.append(item.id)\n",
    " post_content.append(item.text)\n",
    " post_time.append(item.created_at)\n",
    " post_retweet_count.append(item.retweet_count)"
   ]
  },
  {
   "cell_type": "code",
   "execution_count": 482,
   "metadata": {},
   "outputs": [],
   "source": [
    "for item in search11:    \n",
    " most_popular_post_ID.append(item.id)\n",
    " post_content.append(item.text)\n",
    " post_time.append(item.created_at)\n",
    " post_retweet_count.append(item.retweet_count)"
   ]
  },
  {
   "cell_type": "markdown",
   "metadata": {},
   "source": [
    "### Transform dataframe to table"
   ]
  },
  {
   "cell_type": "code",
   "execution_count": 483,
   "metadata": {},
   "outputs": [
    {
     "data": {
      "text/html": [
       "<div>\n",
       "<style scoped>\n",
       "    .dataframe tbody tr th:only-of-type {\n",
       "        vertical-align: middle;\n",
       "    }\n",
       "\n",
       "    .dataframe tbody tr th {\n",
       "        vertical-align: top;\n",
       "    }\n",
       "\n",
       "    .dataframe thead th {\n",
       "        text-align: right;\n",
       "    }\n",
       "</style>\n",
       "<table border=\"1\" class=\"dataframe\">\n",
       "  <thead>\n",
       "    <tr style=\"text-align: right;\">\n",
       "      <th></th>\n",
       "      <th>keyword</th>\n",
       "      <th>most_popular_post_ID</th>\n",
       "      <th>post_content</th>\n",
       "      <th>post_time</th>\n",
       "      <th>post_retweet_count</th>\n",
       "    </tr>\n",
       "  </thead>\n",
       "  <tbody>\n",
       "    <tr>\n",
       "      <th>0</th>\n",
       "      <td>Avril Lavigne</td>\n",
       "      <td>1101307743061884931</td>\n",
       "      <td>I’m so excited to meet one of you (+guest) in ...</td>\n",
       "      <td>2019-03-01 02:26:41</td>\n",
       "      <td>712</td>\n",
       "    </tr>\n",
       "    <tr>\n",
       "      <th>1</th>\n",
       "      <td>Ariana Grande</td>\n",
       "      <td>1102071446677999622</td>\n",
       "      <td>Ariana Grande's winning streak is now official...</td>\n",
       "      <td>2019-03-03 05:01:23</td>\n",
       "      <td>220</td>\n",
       "    </tr>\n",
       "    <tr>\n",
       "      <th>2</th>\n",
       "      <td>katy Perry</td>\n",
       "      <td>1102389393602555905</td>\n",
       "      <td>Katy Perry is frickin’ hilarious, man. Her com...</td>\n",
       "      <td>2019-03-04 02:04:47</td>\n",
       "      <td>48</td>\n",
       "    </tr>\n",
       "    <tr>\n",
       "      <th>3</th>\n",
       "      <td>Rihanna</td>\n",
       "      <td>1102548147497287680</td>\n",
       "      <td>Report: Rihanna To Sell Office Supplies &amp;amp; ...</td>\n",
       "      <td>2019-03-04 12:35:37</td>\n",
       "      <td>182</td>\n",
       "    </tr>\n",
       "    <tr>\n",
       "      <th>4</th>\n",
       "      <td>chrisbrown</td>\n",
       "      <td>1100485051572199424</td>\n",
       "      <td>This week's top 5 on the Hot R&amp;amp;B Songs cha...</td>\n",
       "      <td>2019-02-26 19:57:36</td>\n",
       "      <td>311</td>\n",
       "    </tr>\n",
       "    <tr>\n",
       "      <th>5</th>\n",
       "      <td>Lady Gaga</td>\n",
       "      <td>1102298716558508032</td>\n",
       "      <td>Lady Gaga &amp;amp; Bradley Cooper's 'A Star Is Bo...</td>\n",
       "      <td>2019-03-03 20:04:28</td>\n",
       "      <td>1700</td>\n",
       "    </tr>\n",
       "    <tr>\n",
       "      <th>6</th>\n",
       "      <td>Maroon5</td>\n",
       "      <td>1102204798009466880</td>\n",
       "      <td>Last chance to send in your entries to my #Sma...</td>\n",
       "      <td>2019-03-03 13:51:16</td>\n",
       "      <td>408</td>\n",
       "    </tr>\n",
       "    <tr>\n",
       "      <th>7</th>\n",
       "      <td>Justin Bieber</td>\n",
       "      <td>1102292353598087169</td>\n",
       "      <td>i want a new justin bieber album tbh</td>\n",
       "      <td>2019-03-03 19:39:11</td>\n",
       "      <td>2439</td>\n",
       "    </tr>\n",
       "    <tr>\n",
       "      <th>8</th>\n",
       "      <td>Bruno Mars</td>\n",
       "      <td>1102209419377401856</td>\n",
       "      <td>I was trying to describe Cardi B to mom with B...</td>\n",
       "      <td>2019-03-03 14:09:38</td>\n",
       "      <td>20</td>\n",
       "    </tr>\n",
       "    <tr>\n",
       "      <th>9</th>\n",
       "      <td>Taylor Swift</td>\n",
       "      <td>1102342739935543297</td>\n",
       "      <td>Taylor Swift is back in the recording studio!!...</td>\n",
       "      <td>2019-03-03 22:59:24</td>\n",
       "      <td>580</td>\n",
       "    </tr>\n",
       "    <tr>\n",
       "      <th>10</th>\n",
       "      <td>BTS</td>\n",
       "      <td>1102389687837028357</td>\n",
       "      <td>🎬 #1. Special clips of #BTS Episode L!\\nIndeed...</td>\n",
       "      <td>2019-03-04 02:05:57</td>\n",
       "      <td>21018</td>\n",
       "    </tr>\n",
       "    <tr>\n",
       "      <th>11</th>\n",
       "      <td>Seventeen</td>\n",
       "      <td>1102070120065597441</td>\n",
       "      <td>訳[NOTICE] WOOZI Official Instagram is now open...</td>\n",
       "      <td>2019-03-03 04:56:06</td>\n",
       "      <td>945</td>\n",
       "    </tr>\n",
       "  </tbody>\n",
       "</table>\n",
       "</div>"
      ],
      "text/plain": [
       "          keyword most_popular_post_ID  \\\n",
       "0   Avril Lavigne  1101307743061884931   \n",
       "1   Ariana Grande  1102071446677999622   \n",
       "2      katy Perry  1102389393602555905   \n",
       "3         Rihanna  1102548147497287680   \n",
       "4      chrisbrown  1100485051572199424   \n",
       "5       Lady Gaga  1102298716558508032   \n",
       "6         Maroon5  1102204798009466880   \n",
       "7   Justin Bieber  1102292353598087169   \n",
       "8      Bruno Mars  1102209419377401856   \n",
       "9    Taylor Swift  1102342739935543297   \n",
       "10            BTS  1102389687837028357   \n",
       "11      Seventeen  1102070120065597441   \n",
       "\n",
       "                                         post_content            post_time  \\\n",
       "0   I’m so excited to meet one of you (+guest) in ...  2019-03-01 02:26:41   \n",
       "1   Ariana Grande's winning streak is now official...  2019-03-03 05:01:23   \n",
       "2   Katy Perry is frickin’ hilarious, man. Her com...  2019-03-04 02:04:47   \n",
       "3   Report: Rihanna To Sell Office Supplies &amp; ...  2019-03-04 12:35:37   \n",
       "4   This week's top 5 on the Hot R&amp;B Songs cha...  2019-02-26 19:57:36   \n",
       "5   Lady Gaga &amp; Bradley Cooper's 'A Star Is Bo...  2019-03-03 20:04:28   \n",
       "6   Last chance to send in your entries to my #Sma...  2019-03-03 13:51:16   \n",
       "7                i want a new justin bieber album tbh  2019-03-03 19:39:11   \n",
       "8   I was trying to describe Cardi B to mom with B...  2019-03-03 14:09:38   \n",
       "9   Taylor Swift is back in the recording studio!!...  2019-03-03 22:59:24   \n",
       "10  🎬 #1. Special clips of #BTS Episode L!\\nIndeed...  2019-03-04 02:05:57   \n",
       "11  訳[NOTICE] WOOZI Official Instagram is now open...  2019-03-03 04:56:06   \n",
       "\n",
       "   post_retweet_count  \n",
       "0                 712  \n",
       "1                 220  \n",
       "2                  48  \n",
       "3                 182  \n",
       "4                 311  \n",
       "5                1700  \n",
       "6                 408  \n",
       "7                2439  \n",
       "8                  20  \n",
       "9                 580  \n",
       "10              21018  \n",
       "11                945  "
      ]
     },
     "execution_count": 483,
     "metadata": {},
     "output_type": "execute_result"
    }
   ],
   "source": [
    "b = {  \"keyword\": key_word,\n",
    "       \n",
    "        \"most_popular_post_ID\": most_popular_post_ID,\n",
    "        \"post_content\": post_content,\n",
    "        \"post_time\": post_time,\n",
    "        \"post_retweet_count\": post_retweet_count\n",
    "        \n",
    "      \n",
    " }\n",
    " \n",
    "df = pd.DataFrame.from_dict(b, orient='index')\n",
    "df.transpose()\n",
    "\n"
   ]
  },
  {
   "cell_type": "code",
   "execution_count": null,
   "metadata": {},
   "outputs": [],
   "source": [
    "fan1 = api.get_user('Edson94071463')\n",
    "fan_names = []\n",
    "fan_names.append(fan1.name)"
   ]
  },
  {
   "cell_type": "code",
   "execution_count": 297,
   "metadata": {},
   "outputs": [
    {
     "data": {
      "text/plain": [
       "User(_api=<tweepy.api.API object at 0x119c22e10>, _json={'id': 1101507880648392705, 'id_str': '1101507880648392705', 'name': 'Edson', 'screen_name': 'Edson94071463', 'location': '', 'profile_location': None, 'description': 'Deus no comando 😎', 'url': None, 'entities': {'description': {'urls': []}}, 'protected': False, 'followers_count': 5, 'friends_count': 69, 'listed_count': 0, 'created_at': 'Fri Mar 01 15:41:58 +0000 2019', 'favourites_count': 1, 'utc_offset': None, 'time_zone': None, 'geo_enabled': False, 'verified': False, 'statuses_count': 0, 'lang': 'en', 'contributors_enabled': False, 'is_translator': False, 'is_translation_enabled': False, 'profile_background_color': 'F5F8FA', 'profile_background_image_url': None, 'profile_background_image_url_https': None, 'profile_background_tile': False, 'profile_image_url': 'http://pbs.twimg.com/profile_images/1101508707677097984/t0cT3QOc_normal.jpg', 'profile_image_url_https': 'https://pbs.twimg.com/profile_images/1101508707677097984/t0cT3QOc_normal.jpg', 'profile_link_color': '1DA1F2', 'profile_sidebar_border_color': 'C0DEED', 'profile_sidebar_fill_color': 'DDEEF6', 'profile_text_color': '333333', 'profile_use_background_image': True, 'has_extended_profile': False, 'default_profile': True, 'default_profile_image': False, 'following': False, 'follow_request_sent': False, 'notifications': False, 'translator_type': 'none'}, id=1101507880648392705, id_str='1101507880648392705', name='Edson', screen_name='Edson94071463', location='', profile_location=None, description='Deus no comando 😎', url=None, entities={'description': {'urls': []}}, protected=False, followers_count=5, friends_count=69, listed_count=0, created_at=datetime.datetime(2019, 3, 1, 15, 41, 58), favourites_count=1, utc_offset=None, time_zone=None, geo_enabled=False, verified=False, statuses_count=0, lang='en', contributors_enabled=False, is_translator=False, is_translation_enabled=False, profile_background_color='F5F8FA', profile_background_image_url=None, profile_background_image_url_https=None, profile_background_tile=False, profile_image_url='http://pbs.twimg.com/profile_images/1101508707677097984/t0cT3QOc_normal.jpg', profile_image_url_https='https://pbs.twimg.com/profile_images/1101508707677097984/t0cT3QOc_normal.jpg', profile_link_color='1DA1F2', profile_sidebar_border_color='C0DEED', profile_sidebar_fill_color='DDEEF6', profile_text_color='333333', profile_use_background_image=True, has_extended_profile=False, default_profile=True, default_profile_image=False, following=False, follow_request_sent=False, notifications=False, translator_type='none')"
      ]
     },
     "execution_count": 297,
     "metadata": {},
     "output_type": "execute_result"
    }
   ],
   "source": [
    "fan1"
   ]
  },
  {
   "cell_type": "code",
   "execution_count": 286,
   "metadata": {},
   "outputs": [],
   "source": [
    "recnet_24hr_post_ID = []\n",
    "recnet_post_content = []\n",
    "recnet_post_time = []\n",
    "post_retweet_count=[]\n",
    "post_user_name =[]"
   ]
  },
  {
   "cell_type": "code",
   "execution_count": 287,
   "metadata": {},
   "outputs": [],
   "source": [
    "tweets = api.user_timeline(screen_name=\"AvrilLavigne\")\n"
   ]
  },
  {
   "cell_type": "code",
   "execution_count": 288,
   "metadata": {},
   "outputs": [],
   "source": [
    "for item in tweets: \n",
    "    item.text\n",
    "    item.id\n",
    "    item.created_at\n",
    "    item.retweet_count\n",
    "    item.user.name\n"
   ]
  },
  {
   "cell_type": "code",
   "execution_count": 289,
   "metadata": {},
   "outputs": [],
   "source": [
    "    \n",
    "recnet_24hr_post_ID.append(item.id)\n",
    "recnet_post_content.append(item.text)\n",
    "recnet_post_time.append(item.created_at)\n",
    "post_retweet_count.append(item.retweet_count)\n",
    "post_user_name.append(item.user.name)\n"
   ]
  },
  {
   "cell_type": "code",
   "execution_count": 290,
   "metadata": {},
   "outputs": [],
   "source": [
    "tweet2 = api.user_timeline(screen_name=\"ArianaGrande\")\n"
   ]
  },
  {
   "cell_type": "code",
   "execution_count": 291,
   "metadata": {},
   "outputs": [],
   "source": [
    "for item in tweet2: \n",
    "    item.text\n",
    "    item.id\n",
    "    item.created_at\n",
    "    item.retweet_count\n",
    "    item.user.name"
   ]
  },
  {
   "cell_type": "code",
   "execution_count": 292,
   "metadata": {},
   "outputs": [],
   "source": [
    "    \n",
    "recnet_24hr_post_ID.append(item.id)\n",
    "recnet_post_content.append(item.text)\n",
    "recnet_post_time.append(item.created_at)\n",
    "post_retweet_count.append(item.retweet_count)\n",
    "post_user_name.append(item.user.name)"
   ]
  },
  {
   "cell_type": "code",
   "execution_count": 293,
   "metadata": {},
   "outputs": [
    {
     "data": {
      "text/plain": [
       "[1097934391743897600, 1102932362860597248]"
      ]
     },
     "execution_count": 293,
     "metadata": {},
     "output_type": "execute_result"
    }
   ],
   "source": [
    "recnet_24hr_post_ID"
   ]
  },
  {
   "cell_type": "code",
   "execution_count": 294,
   "metadata": {},
   "outputs": [],
   "source": [
    "tweet3 = api.user_timeline(screen_name=\"katyperry\")\n"
   ]
  },
  {
   "cell_type": "code",
   "execution_count": 295,
   "metadata": {},
   "outputs": [],
   "source": [
    "for item in tweet3: \n",
    "    item.text\n",
    "    item.id\n",
    "    item.created_at\n",
    "    item.retweet_count\n",
    "    item.user.name"
   ]
  },
  {
   "cell_type": "code",
   "execution_count": 296,
   "metadata": {},
   "outputs": [],
   "source": [
    "    \n",
    "recnet_24hr_post_ID.append(item.id)\n",
    "recnet_post_content.append(item.text)\n",
    "recnet_post_time.append(item.created_at)\n",
    "post_retweet_count.append(item.retweet_count)\n",
    "post_user_name.append(item.user.name)"
   ]
  },
  {
   "cell_type": "code",
   "execution_count": 297,
   "metadata": {},
   "outputs": [],
   "source": [
    "tweet4 = api.user_timeline(screen_name=\"Rihanna\")\n"
   ]
  },
  {
   "cell_type": "code",
   "execution_count": 298,
   "metadata": {},
   "outputs": [],
   "source": [
    "for item in tweet4: \n",
    "    item.text\n",
    "    item.id\n",
    "    item.created_at\n",
    "    item.retweet_count\n",
    "    item.user.name"
   ]
  },
  {
   "cell_type": "code",
   "execution_count": 299,
   "metadata": {},
   "outputs": [],
   "source": [
    "    \n",
    "recnet_24hr_post_ID.append(item.id)\n",
    "recnet_post_content.append(item.text)\n",
    "recnet_post_time.append(item.created_at)\n",
    "post_retweet_count.append(item.retweet_count)\n",
    "post_user_name.append(item.user.name)"
   ]
  },
  {
   "cell_type": "code",
   "execution_count": 300,
   "metadata": {},
   "outputs": [],
   "source": [
    "tweet5 = api.user_timeline(screen_name=\"chrisbrown\")\n"
   ]
  },
  {
   "cell_type": "code",
   "execution_count": 301,
   "metadata": {},
   "outputs": [],
   "source": [
    "for item in tweet5: \n",
    "    item.text\n",
    "    item.id\n",
    "    item.created_at\n",
    "    item.retweet_count\n",
    "    item.user.name"
   ]
  },
  {
   "cell_type": "code",
   "execution_count": 302,
   "metadata": {},
   "outputs": [],
   "source": [
    "recnet_24hr_post_ID.append(item.id)\n",
    "recnet_post_content.append(item.text)\n",
    "recnet_post_time.append(item.created_at)\n",
    "post_retweet_count.append(item.retweet_count)\n",
    "post_user_name.append(item.user.name)"
   ]
  },
  {
   "cell_type": "code",
   "execution_count": 303,
   "metadata": {},
   "outputs": [],
   "source": [
    "tweet7 = api.user_timeline(screen_name=\"justinbieber\")\n"
   ]
  },
  {
   "cell_type": "code",
   "execution_count": 304,
   "metadata": {},
   "outputs": [],
   "source": [
    "for item in tweet7: \n",
    "    item.text\n",
    "    item.id\n",
    "    item.created_at\n",
    "    item.retweet_count\n",
    "    item.user.name"
   ]
  },
  {
   "cell_type": "code",
   "execution_count": 305,
   "metadata": {},
   "outputs": [],
   "source": [
    "recnet_24hr_post_ID.append(item.id)\n",
    "recnet_post_content.append(item.text)\n",
    "recnet_post_time.append(item.created_at)\n",
    "post_retweet_count.append(item.retweet_count)\n",
    "post_user_name.append(item.user.name)"
   ]
  },
  {
   "cell_type": "code",
   "execution_count": 306,
   "metadata": {},
   "outputs": [],
   "source": [
    "tweet8 = api.user_timeline(screen_name=\"ladygaga\")\n"
   ]
  },
  {
   "cell_type": "code",
   "execution_count": 307,
   "metadata": {},
   "outputs": [],
   "source": [
    "for item in tweet8: \n",
    "    item.text\n",
    "    item.id\n",
    "    item.created_at\n",
    "    item.user.name\n"
   ]
  },
  {
   "cell_type": "code",
   "execution_count": 308,
   "metadata": {},
   "outputs": [],
   "source": [
    "recnet_24hr_post_ID.append(item.id)\n",
    "recnet_post_content.append(item.text)\n",
    "recnet_post_time.append(item.created_at)\n",
    "post_retweet_count.append(item.retweet_count)\n",
    "post_user_name.append(item.user.name)"
   ]
  },
  {
   "cell_type": "code",
   "execution_count": 309,
   "metadata": {},
   "outputs": [],
   "source": [
    "tweet9 = api.user_timeline(screen_name=\"maroon5\")\n"
   ]
  },
  {
   "cell_type": "code",
   "execution_count": 310,
   "metadata": {},
   "outputs": [],
   "source": [
    "for item in tweet9: \n",
    "    item.text\n",
    "    item.id\n",
    "    item.created_at\n",
    "    item.retweet_count\n",
    "    item.user.name\n"
   ]
  },
  {
   "cell_type": "code",
   "execution_count": 311,
   "metadata": {},
   "outputs": [],
   "source": [
    "recnet_24hr_post_ID.append(item.id)\n",
    "recnet_post_content.append(item.text)\n",
    "recnet_post_time.append(item.created_at)\n",
    "post_retweet_count.append(item.retweet_count)\n",
    "post_user_name.append(item.user.name)"
   ]
  },
  {
   "cell_type": "code",
   "execution_count": 312,
   "metadata": {},
   "outputs": [],
   "source": [
    "tweet10 = api.user_timeline(screen_name=\"BrunoMars\")\n"
   ]
  },
  {
   "cell_type": "code",
   "execution_count": 313,
   "metadata": {},
   "outputs": [],
   "source": [
    "for item in tweet10: \n",
    "    item.text\n",
    "    item.id\n",
    "    item.created_at\n",
    "    item.retweet_count\n",
    "    item.user.name\n",
    "\n"
   ]
  },
  {
   "cell_type": "code",
   "execution_count": 314,
   "metadata": {},
   "outputs": [],
   "source": [
    "recnet_24hr_post_ID.append(item.id)\n",
    "recnet_post_content.append(item.text)\n",
    "recnet_post_time.append(item.created_at)\n",
    "post_retweet_count.append(item.retweet_count)\n",
    "post_user_name.append(item.user.name)"
   ]
  },
  {
   "cell_type": "code",
   "execution_count": 315,
   "metadata": {},
   "outputs": [],
   "source": [
    "tweet11 = api.user_timeline(screen_name=\"taylorswift13\")\n"
   ]
  },
  {
   "cell_type": "code",
   "execution_count": 316,
   "metadata": {},
   "outputs": [],
   "source": [
    "for item in tweet11: \n",
    "    item.text\n",
    "    item.id\n",
    "    item.created_at\n",
    "    item.retweet_count\n",
    "    item.user.name"
   ]
  },
  {
   "cell_type": "code",
   "execution_count": 317,
   "metadata": {},
   "outputs": [],
   "source": [
    "recnet_24hr_post_ID.append(item.id)\n",
    "recnet_post_content.append(item.text)\n",
    "recnet_post_time.append(item.created_at)\n",
    "post_retweet_count.append(item.retweet_count)\n",
    "post_user_name.append(item.user.name)\n",
    "\n"
   ]
  },
  {
   "cell_type": "code",
   "execution_count": 319,
   "metadata": {},
   "outputs": [
    {
     "data": {
      "text/html": [
       "<div>\n",
       "<style scoped>\n",
       "    .dataframe tbody tr th:only-of-type {\n",
       "        vertical-align: middle;\n",
       "    }\n",
       "\n",
       "    .dataframe tbody tr th {\n",
       "        vertical-align: top;\n",
       "    }\n",
       "\n",
       "    .dataframe thead th {\n",
       "        text-align: right;\n",
       "    }\n",
       "</style>\n",
       "<table border=\"1\" class=\"dataframe\">\n",
       "  <thead>\n",
       "    <tr style=\"text-align: right;\">\n",
       "      <th></th>\n",
       "      <th>post.user.name</th>\n",
       "      <th>recnet_24hr_post_ID</th>\n",
       "      <th>recnet_post_content</th>\n",
       "      <th>recnet_post_time</th>\n",
       "      <th>post_retweet_count</th>\n",
       "    </tr>\n",
       "  </thead>\n",
       "  <tbody>\n",
       "    <tr>\n",
       "      <th>0</th>\n",
       "      <td>Avril Lavigne</td>\n",
       "      <td>1097934391743897600</td>\n",
       "      <td>🖤icon. You’re truly missed. https://t.co/8roMH...</td>\n",
       "      <td>2019-02-19 19:02:12</td>\n",
       "      <td>2758</td>\n",
       "    </tr>\n",
       "    <tr>\n",
       "      <th>1</th>\n",
       "      <td>Ariana Grande</td>\n",
       "      <td>1102932362860597248</td>\n",
       "      <td>🌫 @starbucks cloud #cloudmacchiato #starbucksa...</td>\n",
       "      <td>2019-03-05 14:02:21</td>\n",
       "      <td>14138</td>\n",
       "    </tr>\n",
       "    <tr>\n",
       "      <th>2</th>\n",
       "      <td>KATY PERRY</td>\n",
       "      <td>1102427619683852288</td>\n",
       "      <td>One of my favorite #AmericanIdol moments: turn...</td>\n",
       "      <td>2019-03-04 04:36:41</td>\n",
       "      <td>263</td>\n",
       "    </tr>\n",
       "    <tr>\n",
       "      <th>3</th>\n",
       "      <td>Rihanna</td>\n",
       "      <td>1081963144644153345</td>\n",
       "      <td>For the ❤️ of X. Get ready for @savagexfenty's...</td>\n",
       "      <td>2019-01-06 17:18:10</td>\n",
       "      <td>8663</td>\n",
       "    </tr>\n",
       "    <tr>\n",
       "      <th>4</th>\n",
       "      <td>Chris Brown</td>\n",
       "      <td>1086751529774841861</td>\n",
       "      <td>#Undecided has hit @ministryofsound’s R&amp;amp;B ...</td>\n",
       "      <td>2019-01-19 22:25:30</td>\n",
       "      <td>792</td>\n",
       "    </tr>\n",
       "    <tr>\n",
       "      <th>5</th>\n",
       "      <td>Justin Bieber</td>\n",
       "      <td>1057450701737979904</td>\n",
       "      <td>@torikelly I have listened to this album 10 ti...</td>\n",
       "      <td>2018-10-31 01:54:28</td>\n",
       "      <td>3729</td>\n",
       "    </tr>\n",
       "    <tr>\n",
       "      <th>6</th>\n",
       "      <td>Lady Gaga</td>\n",
       "      <td>1094728812321943552</td>\n",
       "      <td>😭❤️a Grammy for Joanne is more than me &amp;amp; m...</td>\n",
       "      <td>2019-02-10 22:44:22</td>\n",
       "      <td>24714</td>\n",
       "    </tr>\n",
       "    <tr>\n",
       "      <th>7</th>\n",
       "      <td>Maroon 5</td>\n",
       "      <td>1100222908398370817</td>\n",
       "      <td>RT @maroon5: Blown away by these submissions o...</td>\n",
       "      <td>2019-02-26 02:35:57</td>\n",
       "      <td>173</td>\n",
       "    </tr>\n",
       "    <tr>\n",
       "      <th>8</th>\n",
       "      <td>Bruno Mars</td>\n",
       "      <td>1101696054125187077</td>\n",
       "      <td>What’s the plot tho? https://t.co/eh6m7hHB6Z</td>\n",
       "      <td>2019-03-02 04:09:42</td>\n",
       "      <td>3614</td>\n",
       "    </tr>\n",
       "    <tr>\n",
       "      <th>9</th>\n",
       "      <td>Taylor Swift</td>\n",
       "      <td>970649231466823681</td>\n",
       "      <td>✨✨✨✨✨✨✨✨✨✨✨✨✨ https://t.co/KHNRCaKfU0</td>\n",
       "      <td>2018-03-05 13:16:25</td>\n",
       "      <td>30670</td>\n",
       "    </tr>\n",
       "  </tbody>\n",
       "</table>\n",
       "</div>"
      ],
      "text/plain": [
       "  post.user.name  recnet_24hr_post_ID  \\\n",
       "0  Avril Lavigne  1097934391743897600   \n",
       "1  Ariana Grande  1102932362860597248   \n",
       "2     KATY PERRY  1102427619683852288   \n",
       "3        Rihanna  1081963144644153345   \n",
       "4    Chris Brown  1086751529774841861   \n",
       "5  Justin Bieber  1057450701737979904   \n",
       "6      Lady Gaga  1094728812321943552   \n",
       "7       Maroon 5  1100222908398370817   \n",
       "8     Bruno Mars  1101696054125187077   \n",
       "9   Taylor Swift   970649231466823681   \n",
       "\n",
       "                                 recnet_post_content     recnet_post_time  \\\n",
       "0  🖤icon. You’re truly missed. https://t.co/8roMH...  2019-02-19 19:02:12   \n",
       "1  🌫 @starbucks cloud #cloudmacchiato #starbucksa...  2019-03-05 14:02:21   \n",
       "2  One of my favorite #AmericanIdol moments: turn...  2019-03-04 04:36:41   \n",
       "3  For the ❤️ of X. Get ready for @savagexfenty's...  2019-01-06 17:18:10   \n",
       "4  #Undecided has hit @ministryofsound’s R&amp;B ...  2019-01-19 22:25:30   \n",
       "5  @torikelly I have listened to this album 10 ti...  2018-10-31 01:54:28   \n",
       "6  😭❤️a Grammy for Joanne is more than me &amp; m...  2019-02-10 22:44:22   \n",
       "7  RT @maroon5: Blown away by these submissions o...  2019-02-26 02:35:57   \n",
       "8       What’s the plot tho? https://t.co/eh6m7hHB6Z  2019-03-02 04:09:42   \n",
       "9              ✨✨✨✨✨✨✨✨✨✨✨✨✨ https://t.co/KHNRCaKfU0  2018-03-05 13:16:25   \n",
       "\n",
       "  post_retweet_count  \n",
       "0               2758  \n",
       "1              14138  \n",
       "2                263  \n",
       "3               8663  \n",
       "4                792  \n",
       "5               3729  \n",
       "6              24714  \n",
       "7                173  \n",
       "8               3614  \n",
       "9              30670  "
      ]
     },
     "execution_count": 319,
     "metadata": {},
     "output_type": "execute_result"
    }
   ],
   "source": [
    "b = { \n",
    "        \"post.user.name\":post_user_name,\n",
    "        \"recnet_24hr_post_ID\": recnet_24hr_post_ID,\n",
    "        \"recnet_post_content\": recnet_post_content,\n",
    "        \"recnet_post_time\": recnet_post_time,\n",
    "        \"post_retweet_count\": post_retweet_count\n",
    "        \n",
    "      \n",
    " }\n",
    " \n",
    "df = pd.DataFrame.from_dict(b, orient='index')\n",
    "df.transpose()\n",
    "\n"
   ]
  },
  {
   "cell_type": "code",
   "execution_count": null,
   "metadata": {},
   "outputs": [],
   "source": []
  }
 ],
 "metadata": {
  "kernelspec": {
   "display_name": "Python 3",
   "language": "python",
   "name": "python3"
  },
  "language_info": {
   "codemirror_mode": {
    "name": "ipython",
    "version": 3
   },
   "file_extension": ".py",
   "mimetype": "text/x-python",
   "name": "python",
   "nbconvert_exporter": "python",
   "pygments_lexer": "ipython3",
   "version": "3.7.1"
  }
 },
 "nbformat": 4,
 "nbformat_minor": 2
}
