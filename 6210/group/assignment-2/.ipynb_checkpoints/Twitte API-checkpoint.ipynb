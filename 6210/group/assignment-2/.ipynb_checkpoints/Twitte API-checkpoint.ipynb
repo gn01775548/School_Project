{
 "cells": [
  {
   "cell_type": "markdown",
   "metadata": {},
   "source": [
    "# Collect Twitter Data\n"
   ]
  },
  {
   "cell_type": "code",
   "execution_count": 1,
   "metadata": {},
   "outputs": [],
   "source": [
    "import twitter"
   ]
  },
  {
   "cell_type": "code",
   "execution_count": 2,
   "metadata": {},
   "outputs": [],
   "source": [
    "import tweepy"
   ]
  },
  {
   "cell_type": "markdown",
   "metadata": {},
   "source": [
    "### Get Twitter Api"
   ]
  },
  {
   "cell_type": "code",
   "execution_count": 3,
   "metadata": {},
   "outputs": [],
   "source": [
    "auth = tweepy.OAuthHandler('NzIdrbd4Ht4Il0oLMe2IaMDXn', 'PB13487DbvYEze2MnIgX4a1w2oY75qxDmcNELvRjf0kcfsO7dU')\n",
    "auth.set_access_token('1086338263206514689-Em3wWOVgKwQ1re4Zqf9274VdfXzU09', 'My58nuVtHuInK5r2tmcSzgyEJHn09v5Jj0f9gL9Iv0o4j')\n",
    "api = tweepy.API(auth)\n"
   ]
  },
  {
   "cell_type": "markdown",
   "metadata": {},
   "source": [
    "### Collect Singers data"
   ]
  },
  {
   "cell_type": "code",
   "execution_count": 4,
   "metadata": {
    "scrolled": true
   },
   "outputs": [],
   "source": [
    "user = api.get_user('AvrilLavigne')\n"
   ]
  },
  {
   "cell_type": "code",
   "execution_count": 5,
   "metadata": {},
   "outputs": [],
   "source": [
    "singer_names = []\n",
    "singer_id = []\n",
    "singer_url = []\n",
    "singer_description = []\n",
    "singer_followers_count = []"
   ]
  },
  {
   "cell_type": "markdown",
   "metadata": {},
   "source": [
    "### Collect datas of singers' information"
   ]
  },
  {
   "cell_type": "code",
   "execution_count": 6,
   "metadata": {},
   "outputs": [],
   "source": [
    "singer_id.append(user.id)\n",
    "singer_names.append(user.name)\n",
    "singer_url.append(user.url)\n",
    "singer_description.append(user.description)\n",
    "singer_followers_count.append(user.followers_count)"
   ]
  },
  {
   "cell_type": "code",
   "execution_count": 7,
   "metadata": {},
   "outputs": [],
   "source": [
    "user1 = api.get_user('ArianaGrande')"
   ]
  },
  {
   "cell_type": "code",
   "execution_count": 8,
   "metadata": {},
   "outputs": [],
   "source": [
    "singer_id.append(user1.id)\n",
    "singer_names.append(user1.name)\n",
    "singer_url.append(user1.url)\n",
    "singer_description.append(user1.description)\n",
    "singer_followers_count.append(user1.followers_count)\n"
   ]
  },
  {
   "cell_type": "code",
   "execution_count": 9,
   "metadata": {},
   "outputs": [],
   "source": [
    "user2 = api.get_user('katyperry')"
   ]
  },
  {
   "cell_type": "code",
   "execution_count": 10,
   "metadata": {},
   "outputs": [],
   "source": [
    "singer_id.append(user2.id)\n",
    "singer_names.append(user2.name)\n",
    "singer_url.append(user2.url)\n",
    "singer_description.append(user2.description)\n",
    "singer_followers_count.append(user2.followers_count)"
   ]
  },
  {
   "cell_type": "code",
   "execution_count": 11,
   "metadata": {},
   "outputs": [],
   "source": [
    "user3 = api.get_user('rihanna')"
   ]
  },
  {
   "cell_type": "code",
   "execution_count": 12,
   "metadata": {},
   "outputs": [],
   "source": [
    "singer_id.append(user3.id)\n",
    "singer_names.append(user3.name)\n",
    "singer_url.append(user3.url)\n",
    "singer_description.append(user3.description)\n",
    "singer_followers_count.append(user3.followers_count)\n"
   ]
  },
  {
   "cell_type": "code",
   "execution_count": 13,
   "metadata": {},
   "outputs": [],
   "source": [
    "user4 = api.get_user('chrisbrown')"
   ]
  },
  {
   "cell_type": "code",
   "execution_count": 14,
   "metadata": {},
   "outputs": [],
   "source": [
    "singer_id.append(user4.id)\n",
    "singer_names.append(user4.name)\n",
    "singer_url.append(user4.url)\n",
    "singer_description.append(user4.description)\n",
    "singer_followers_count.append(user4.followers_count)"
   ]
  },
  {
   "cell_type": "code",
   "execution_count": 15,
   "metadata": {},
   "outputs": [],
   "source": [
    "user5 = api.get_user('justinbieber')"
   ]
  },
  {
   "cell_type": "code",
   "execution_count": 16,
   "metadata": {},
   "outputs": [],
   "source": [
    "singer_id.append(user5.id)\n",
    "singer_names.append(user5.name)\n",
    "singer_url.append(user5.url)\n",
    "singer_description.append(user5.description)\n",
    "singer_followers_count.append(user5.followers_count)"
   ]
  },
  {
   "cell_type": "code",
   "execution_count": 17,
   "metadata": {},
   "outputs": [],
   "source": [
    "user6 = api.get_user('ladygaga')"
   ]
  },
  {
   "cell_type": "code",
   "execution_count": 18,
   "metadata": {},
   "outputs": [],
   "source": [
    "singer_id.append(user6.id)\n",
    "singer_names.append(user6.name)\n",
    "singer_url.append(user6.url)\n",
    "singer_description.append(user6.description)\n",
    "singer_followers_count.append(user6.followers_count)"
   ]
  },
  {
   "cell_type": "code",
   "execution_count": 19,
   "metadata": {},
   "outputs": [],
   "source": [
    "user7 = api.get_user('maroon5') "
   ]
  },
  {
   "cell_type": "code",
   "execution_count": 20,
   "metadata": {},
   "outputs": [],
   "source": [
    "singer_id.append(user7.id)\n",
    "singer_names.append(user7.name)\n",
    "singer_url.append(user7.url)\n",
    "singer_description.append(user7.description)\n",
    "singer_followers_count.append(user7.followers_count)"
   ]
  },
  {
   "cell_type": "code",
   "execution_count": 21,
   "metadata": {},
   "outputs": [],
   "source": [
    "user8 = api.get_user('BrunoMars') "
   ]
  },
  {
   "cell_type": "code",
   "execution_count": 22,
   "metadata": {},
   "outputs": [],
   "source": [
    "singer_id.append(user8.id)\n",
    "singer_names.append(user8.name)\n",
    "singer_url.append(user8.url)\n",
    "singer_description.append(user8.description)\n",
    "singer_followers_count.append(user8.followers_count)"
   ]
  },
  {
   "cell_type": "code",
   "execution_count": 23,
   "metadata": {},
   "outputs": [],
   "source": [
    "user9 = api.get_user('taylorswift13') "
   ]
  },
  {
   "cell_type": "code",
   "execution_count": 24,
   "metadata": {},
   "outputs": [],
   "source": [
    "singer_id.append(user9.id)\n",
    "singer_names.append(user9.name)\n",
    "singer_url.append(user9.url)\n",
    "singer_description.append(user9.description)\n",
    "singer_followers_count.append(user9.followers_count)"
   ]
  },
  {
   "cell_type": "markdown",
   "metadata": {},
   "source": [
    "### Transform dataframe to table"
   ]
  },
  {
   "cell_type": "code",
   "execution_count": 25,
   "metadata": {},
   "outputs": [],
   "source": [
    "import pandas as pd"
   ]
  },
  {
   "cell_type": "code",
   "execution_count": 26,
   "metadata": {
    "scrolled": true
   },
   "outputs": [
    {
     "data": {
      "text/html": [
       "<div>\n",
       "<style scoped>\n",
       "    .dataframe tbody tr th:only-of-type {\n",
       "        vertical-align: middle;\n",
       "    }\n",
       "\n",
       "    .dataframe tbody tr th {\n",
       "        vertical-align: top;\n",
       "    }\n",
       "\n",
       "    .dataframe thead th {\n",
       "        text-align: right;\n",
       "    }\n",
       "</style>\n",
       "<table border=\"1\" class=\"dataframe\">\n",
       "  <thead>\n",
       "    <tr style=\"text-align: right;\">\n",
       "      <th></th>\n",
       "      <th>singer_ID</th>\n",
       "      <th>singer_name</th>\n",
       "      <th>singer_url</th>\n",
       "      <th>singer_description</th>\n",
       "      <th>singer_followers_count</th>\n",
       "    </tr>\n",
       "  </thead>\n",
       "  <tbody>\n",
       "    <tr>\n",
       "      <th>0</th>\n",
       "      <td>73992972</td>\n",
       "      <td>Avril Lavigne</td>\n",
       "      <td>https://t.co/niyvkKkHrn</td>\n",
       "      <td>BMG Records. Freesolo / Vector Management. PMK...</td>\n",
       "      <td>21713426</td>\n",
       "    </tr>\n",
       "    <tr>\n",
       "      <th>1</th>\n",
       "      <td>34507480</td>\n",
       "      <td>Ariana Grande</td>\n",
       "      <td>https://t.co/76qmPxOH2C</td>\n",
       "      <td>thank u, next</td>\n",
       "      <td>61218290</td>\n",
       "    </tr>\n",
       "    <tr>\n",
       "      <th>2</th>\n",
       "      <td>21447363</td>\n",
       "      <td>KATY PERRY</td>\n",
       "      <td>https://t.co/VxeqPgXTF4</td>\n",
       "      <td>Love. Light.</td>\n",
       "      <td>107000746</td>\n",
       "    </tr>\n",
       "    <tr>\n",
       "      <th>3</th>\n",
       "      <td>79293791</td>\n",
       "      <td>Rihanna</td>\n",
       "      <td>https://t.co/6HarIyKc3f</td>\n",
       "      <td>Throwing all the shade! @fentybeauty</td>\n",
       "      <td>89902874</td>\n",
       "    </tr>\n",
       "    <tr>\n",
       "      <th>4</th>\n",
       "      <td>119509520</td>\n",
       "      <td>Chris Brown</td>\n",
       "      <td>https://t.co/jCtn90KqAF</td>\n",
       "      <td>#Undecided available everywhere now! SOMEWHERE...</td>\n",
       "      <td>29838156</td>\n",
       "    </tr>\n",
       "    <tr>\n",
       "      <th>5</th>\n",
       "      <td>27260086</td>\n",
       "      <td>Justin Bieber</td>\n",
       "      <td>https://t.co/r6Zj8zy1lK</td>\n",
       "      <td>Let's make the world better.</td>\n",
       "      <td>105112944</td>\n",
       "    </tr>\n",
       "    <tr>\n",
       "      <th>6</th>\n",
       "      <td>14230524</td>\n",
       "      <td>Lady Gaga</td>\n",
       "      <td>https://t.co/6CDfvJPhW0</td>\n",
       "      <td></td>\n",
       "      <td>78140415</td>\n",
       "    </tr>\n",
       "    <tr>\n",
       "      <th>7</th>\n",
       "      <td>24886570</td>\n",
       "      <td>Maroon 5</td>\n",
       "      <td>http://t.co/3UhWOxHCRb</td>\n",
       "      <td>This is the Official Twitter page for Maroon 5...</td>\n",
       "      <td>14698908</td>\n",
       "    </tr>\n",
       "    <tr>\n",
       "      <th>8</th>\n",
       "      <td>100220864</td>\n",
       "      <td>Bruno Mars</td>\n",
       "      <td>https://t.co/lrnSFFfTtz</td>\n",
       "      <td></td>\n",
       "      <td>42489988</td>\n",
       "    </tr>\n",
       "    <tr>\n",
       "      <th>9</th>\n",
       "      <td>17919972</td>\n",
       "      <td>Taylor Swift</td>\n",
       "      <td>https://t.co/RSxHoIri2k</td>\n",
       "      <td>The reputation Stadium Tour is streaming now o...</td>\n",
       "      <td>83261141</td>\n",
       "    </tr>\n",
       "  </tbody>\n",
       "</table>\n",
       "</div>"
      ],
      "text/plain": [
       "   singer_ID    singer_name               singer_url  \\\n",
       "0   73992972  Avril Lavigne  https://t.co/niyvkKkHrn   \n",
       "1   34507480  Ariana Grande  https://t.co/76qmPxOH2C   \n",
       "2   21447363     KATY PERRY  https://t.co/VxeqPgXTF4   \n",
       "3   79293791        Rihanna  https://t.co/6HarIyKc3f   \n",
       "4  119509520    Chris Brown  https://t.co/jCtn90KqAF   \n",
       "5   27260086  Justin Bieber  https://t.co/r6Zj8zy1lK   \n",
       "6   14230524      Lady Gaga  https://t.co/6CDfvJPhW0   \n",
       "7   24886570       Maroon 5   http://t.co/3UhWOxHCRb   \n",
       "8  100220864     Bruno Mars  https://t.co/lrnSFFfTtz   \n",
       "9   17919972   Taylor Swift  https://t.co/RSxHoIri2k   \n",
       "\n",
       "                                  singer_description singer_followers_count  \n",
       "0  BMG Records. Freesolo / Vector Management. PMK...               21713426  \n",
       "1                                      thank u, next               61218290  \n",
       "2                                       Love. Light.              107000746  \n",
       "3               Throwing all the shade! @fentybeauty               89902874  \n",
       "4  #Undecided available everywhere now! SOMEWHERE...               29838156  \n",
       "5                       Let's make the world better.              105112944  \n",
       "6                                                                  78140415  \n",
       "7  This is the Official Twitter page for Maroon 5...               14698908  \n",
       "8                                                                  42489988  \n",
       "9  The reputation Stadium Tour is streaming now o...               83261141  "
      ]
     },
     "execution_count": 26,
     "metadata": {},
     "output_type": "execute_result"
    }
   ],
   "source": [
    "\n",
    "a = {\n",
    "       \n",
    "        \"singer_ID\": singer_id,\n",
    "        \"singer_name\": singer_names,\n",
    "        \"singer_url\": singer_url,\n",
    "        \"singer_description\": singer_description,\n",
    "        \"singer_followers_count\": singer_followers_count,\n",
    " }\n",
    " \n",
    "df = pd.DataFrame.from_dict(a, orient='index')\n",
    "df.transpose()\n",
    "\n"
   ]
  },
  {
   "cell_type": "markdown",
   "metadata": {},
   "source": [
    "## Output to csv"
   ]
  },
  {
   "cell_type": "code",
   "execution_count": 27,
   "metadata": {},
   "outputs": [],
   "source": [
    "df.to_csv('output_singer.csv')"
   ]
  },
  {
   "cell_type": "markdown",
   "metadata": {},
   "source": [
    "## Transpose the csv"
   ]
  },
  {
   "cell_type": "code",
   "execution_count": 28,
   "metadata": {},
   "outputs": [],
   "source": [
    "pd.read_csv('output_singer.csv').T.to_csv('twitter_singer.csv',header=False)"
   ]
  },
  {
   "cell_type": "markdown",
   "metadata": {},
   "source": [
    "### Collect popular Twitter posts data"
   ]
  },
  {
   "cell_type": "code",
   "execution_count": 29,
   "metadata": {},
   "outputs": [],
   "source": [
    "most_popular_post_ID = []\n",
    "post_content = []\n",
    "post_time = []\n",
    "post_retweet_count=[]\n",
    "Post_name = []\n",
    "key_word =[\"Avril Lavigne\",\"Ariana Grande\",\"katy Perry\",\"Rihanna\",\"chrisbrown\",\"Lady Gaga\",\"Maroon5\",\"Justin Bieber\",\"Bruno Mars\",\"Taylor Swift\",\"BTS\",\"Seventeen\"]\n",
    "search = tweepy.Cursor(api.search, q=\"Avril Lavigne\", result_type=\"popular\", lang=\"en\").items(1)\n",
    "search1 = tweepy.Cursor(api.search, q=\"Ariana Grande\", result_type=\"popular\", lang=\"en\").items(1)\n",
    "search2 = tweepy.Cursor(api.search, q=\"katy Perry\", result_type=\"popular\", lang=\"en\").items(1)\n",
    "search3 = tweepy.Cursor(api.search, q=\"Rihanna\", result_type=\"popular\", lang=\"en\").items(1)\n",
    "search9 = tweepy.Cursor(api.search, q=\"Chris Brown\", result_type=\"popular\", lang=\"en\").items(1)\n",
    "search4 = tweepy.Cursor(api.search, q=\"Lady Gaga\", result_type=\"popular\", lang=\"en\").items(1)\n",
    "search5 = tweepy.Cursor(api.search, q=\"Maroon 5\", result_type=\"popular\", lang=\"en\").items(1)\n",
    "search6 = tweepy.Cursor(api.search, q=\"Justin Bieber\", result_type=\"popular\", lang=\"en\").items(1)\n",
    "search7 = tweepy.Cursor(api.search, q=\"Bruno Mars\", result_type=\"popular\", lang=\"en\").items(1)\n",
    "search8 = tweepy.Cursor(api.search, q=\"Taylor Swift\", result_type=\"popular\", lang=\"en\").items(1)\n",
    "search10 = tweepy.Cursor(api.search, q=\"BTS\", result_type=\"popular\", lang=\"en\").items(1)\n",
    "search11 = tweepy.Cursor(api.search, q=\"Seventeen\", result_type=\"popular\", lang=\"en\").items(1)"
   ]
  },
  {
   "cell_type": "code",
   "execution_count": 30,
   "metadata": {},
   "outputs": [],
   "source": [
    "for item in search:    \n",
    " most_popular_post_ID.append(item.id)\n",
    " post_content.append(item.text)\n",
    " post_time.append(item.created_at)\n",
    " post_retweet_count.append(item.retweet_count)\n",
    " "
   ]
  },
  {
   "cell_type": "code",
   "execution_count": 31,
   "metadata": {},
   "outputs": [],
   "source": [
    "for item in search1:    \n",
    " most_popular_post_ID.append(item.id)\n",
    " post_content.append(item.text)\n",
    " post_time.append(item.created_at)\n",
    " post_retweet_count.append(item.retweet_count)\n",
    " "
   ]
  },
  {
   "cell_type": "code",
   "execution_count": 32,
   "metadata": {},
   "outputs": [],
   "source": [
    "for item in search2:    \n",
    " most_popular_post_ID.append(item.id)\n",
    " post_content.append(item.text)\n",
    " post_time.append(item.created_at)\n",
    " post_retweet_count.append(item.retweet_count)\n",
    " "
   ]
  },
  {
   "cell_type": "code",
   "execution_count": 33,
   "metadata": {},
   "outputs": [],
   "source": [
    "for item in search3:    \n",
    " most_popular_post_ID.append(item.id)\n",
    " post_content.append(item.text)\n",
    " post_time.append(item.created_at)\n",
    " post_retweet_count.append(item.retweet_count)\n",
    " "
   ]
  },
  {
   "cell_type": "code",
   "execution_count": 34,
   "metadata": {},
   "outputs": [],
   "source": [
    "for item in search4:    \n",
    " most_popular_post_ID.append(item.id)\n",
    " post_content.append(item.text)\n",
    " post_time.append(item.created_at)\n",
    " post_retweet_count.append(item.retweet_count)\n",
    " "
   ]
  },
  {
   "cell_type": "code",
   "execution_count": 35,
   "metadata": {},
   "outputs": [],
   "source": [
    "for item in search5:    \n",
    " most_popular_post_ID.append(item.id)\n",
    " post_content.append(item.text)\n",
    " post_time.append(item.created_at)\n",
    " post_retweet_count.append(item.retweet_count)\n",
    " "
   ]
  },
  {
   "cell_type": "code",
   "execution_count": 36,
   "metadata": {},
   "outputs": [],
   "source": [
    "for item in search6:    \n",
    " most_popular_post_ID.append(item.id)\n",
    " post_content.append(item.text)\n",
    " post_time.append(item.created_at)\n",
    " post_retweet_count.append(item.retweet_count)\n",
    " "
   ]
  },
  {
   "cell_type": "code",
   "execution_count": 37,
   "metadata": {},
   "outputs": [],
   "source": [
    "for item in search7:    \n",
    " most_popular_post_ID.append(item.id)\n",
    " post_content.append(item.text)\n",
    " post_time.append(item.created_at)\n",
    " post_retweet_count.append(item.retweet_count)\n",
    " "
   ]
  },
  {
   "cell_type": "code",
   "execution_count": 38,
   "metadata": {},
   "outputs": [],
   "source": [
    "for item in search8:    \n",
    " most_popular_post_ID.append(item.id)\n",
    " post_content.append(item.text)\n",
    " post_time.append(item.created_at)\n",
    " post_retweet_count.append(item.retweet_count)\n",
    " "
   ]
  },
  {
   "cell_type": "code",
   "execution_count": 39,
   "metadata": {},
   "outputs": [],
   "source": [
    "for item in search9:    \n",
    " most_popular_post_ID.append(item.id)\n",
    " post_content.append(item.text)\n",
    " post_time.append(item.created_at)\n",
    " post_retweet_count.append(item.retweet_count)\n",
    " "
   ]
  },
  {
   "cell_type": "code",
   "execution_count": 40,
   "metadata": {},
   "outputs": [],
   "source": [
    "for item in search10:    \n",
    " most_popular_post_ID.append(item.id)\n",
    " post_content.append(item.text)\n",
    " post_time.append(item.created_at)\n",
    " post_retweet_count.append(item.retweet_count)\n",
    " "
   ]
  },
  {
   "cell_type": "code",
   "execution_count": 41,
   "metadata": {},
   "outputs": [],
   "source": [
    "for item in search11:    \n",
    " most_popular_post_ID.append(item.id)\n",
    " post_content.append(item.text)\n",
    " post_time.append(item.created_at)\n",
    " post_retweet_count.append(item.retweet_count)\n",
    " "
   ]
  },
  {
   "cell_type": "code",
   "execution_count": null,
   "metadata": {},
   "outputs": [],
   "source": []
  },
  {
   "cell_type": "markdown",
   "metadata": {},
   "source": [
    "### Transform dataframe to table"
   ]
  },
  {
   "cell_type": "code",
   "execution_count": 42,
   "metadata": {
    "scrolled": true
   },
   "outputs": [
    {
     "data": {
      "text/html": [
       "<div>\n",
       "<style scoped>\n",
       "    .dataframe tbody tr th:only-of-type {\n",
       "        vertical-align: middle;\n",
       "    }\n",
       "\n",
       "    .dataframe tbody tr th {\n",
       "        vertical-align: top;\n",
       "    }\n",
       "\n",
       "    .dataframe thead th {\n",
       "        text-align: right;\n",
       "    }\n",
       "</style>\n",
       "<table border=\"1\" class=\"dataframe\">\n",
       "  <thead>\n",
       "    <tr style=\"text-align: right;\">\n",
       "      <th></th>\n",
       "      <th>keyword</th>\n",
       "      <th>most_popular_post_ID</th>\n",
       "      <th>post_content</th>\n",
       "      <th>post_time</th>\n",
       "      <th>post_retweet_count</th>\n",
       "    </tr>\n",
       "  </thead>\n",
       "  <tbody>\n",
       "    <tr>\n",
       "      <th>0</th>\n",
       "      <td>Avril Lavigne</td>\n",
       "      <td>1102763914368970752</td>\n",
       "      <td>\"I saw a lot of friends disappear,\" @AvrilLavi...</td>\n",
       "      <td>2019-03-05 02:53:00</td>\n",
       "      <td>10</td>\n",
       "    </tr>\n",
       "    <tr>\n",
       "      <th>1</th>\n",
       "      <td>Ariana Grande</td>\n",
       "      <td>1102985085719068672</td>\n",
       "      <td>love someone in your life as much as Jake Tapp...</td>\n",
       "      <td>2019-03-05 17:31:51</td>\n",
       "      <td>243</td>\n",
       "    </tr>\n",
       "    <tr>\n",
       "      <th>2</th>\n",
       "      <td>katy Perry</td>\n",
       "      <td>1102866539433254918</td>\n",
       "      <td>hi I’m wide awake and I can never say that wit...</td>\n",
       "      <td>2019-03-05 09:40:47</td>\n",
       "      <td>69</td>\n",
       "    </tr>\n",
       "    <tr>\n",
       "      <th>3</th>\n",
       "      <td>Rihanna</td>\n",
       "      <td>1102548147497287680</td>\n",
       "      <td>Report: Rihanna To Sell Office Supplies &amp;amp; ...</td>\n",
       "      <td>2019-03-04 12:35:37</td>\n",
       "      <td>573</td>\n",
       "    </tr>\n",
       "    <tr>\n",
       "      <th>4</th>\n",
       "      <td>chrisbrown</td>\n",
       "      <td>1102692675231330304</td>\n",
       "      <td>I'm glad Lady Gaga didn't stay in her lane. Sa...</td>\n",
       "      <td>2019-03-04 22:09:55</td>\n",
       "      <td>2047</td>\n",
       "    </tr>\n",
       "    <tr>\n",
       "      <th>5</th>\n",
       "      <td>Lady Gaga</td>\n",
       "      <td>1102920843535966208</td>\n",
       "      <td>You can never go wrong with a classic! 🤩🤩🤩 Mar...</td>\n",
       "      <td>2019-03-05 13:16:35</td>\n",
       "      <td>125</td>\n",
       "    </tr>\n",
       "    <tr>\n",
       "      <th>6</th>\n",
       "      <td>Maroon5</td>\n",
       "      <td>1102468355762532352</td>\n",
       "      <td>When is Justin Bieber gonna release new music</td>\n",
       "      <td>2019-03-04 07:18:33</td>\n",
       "      <td>526</td>\n",
       "    </tr>\n",
       "    <tr>\n",
       "      <th>7</th>\n",
       "      <td>Justin Bieber</td>\n",
       "      <td>1102670872010207235</td>\n",
       "      <td>Cardi B's new video delivers East L.A. tacos a...</td>\n",
       "      <td>2019-03-04 20:43:17</td>\n",
       "      <td>15</td>\n",
       "    </tr>\n",
       "    <tr>\n",
       "      <th>8</th>\n",
       "      <td>Bruno Mars</td>\n",
       "      <td>1102754928571883521</td>\n",
       "      <td>📣 Shake it off, Taylor Swift Trivia Night is W...</td>\n",
       "      <td>2019-03-05 02:17:17</td>\n",
       "      <td>615</td>\n",
       "    </tr>\n",
       "    <tr>\n",
       "      <th>9</th>\n",
       "      <td>Taylor Swift</td>\n",
       "      <td>1102697124830085120</td>\n",
       "      <td>Strength of both 2019 draft &amp;amp; 2019 free ag...</td>\n",
       "      <td>2019-03-04 22:27:36</td>\n",
       "      <td>16</td>\n",
       "    </tr>\n",
       "    <tr>\n",
       "      <th>10</th>\n",
       "      <td>BTS</td>\n",
       "      <td>1102584488452853761</td>\n",
       "      <td>TXT’s Soobin Is Taking After BTS’s Jin, And No...</td>\n",
       "      <td>2019-03-04 15:00:01</td>\n",
       "      <td>6186</td>\n",
       "    </tr>\n",
       "    <tr>\n",
       "      <th>11</th>\n",
       "      <td>Seventeen</td>\n",
       "      <td>1102767435361378304</td>\n",
       "      <td>WATCH: Members Of #GOT7, #SEVENTEEN, #IZONE, A...</td>\n",
       "      <td>2019-03-05 03:06:59</td>\n",
       "      <td>1514</td>\n",
       "    </tr>\n",
       "  </tbody>\n",
       "</table>\n",
       "</div>"
      ],
      "text/plain": [
       "          keyword most_popular_post_ID  \\\n",
       "0   Avril Lavigne  1102763914368970752   \n",
       "1   Ariana Grande  1102985085719068672   \n",
       "2      katy Perry  1102866539433254918   \n",
       "3         Rihanna  1102548147497287680   \n",
       "4      chrisbrown  1102692675231330304   \n",
       "5       Lady Gaga  1102920843535966208   \n",
       "6         Maroon5  1102468355762532352   \n",
       "7   Justin Bieber  1102670872010207235   \n",
       "8      Bruno Mars  1102754928571883521   \n",
       "9    Taylor Swift  1102697124830085120   \n",
       "10            BTS  1102584488452853761   \n",
       "11      Seventeen  1102767435361378304   \n",
       "\n",
       "                                         post_content            post_time  \\\n",
       "0   \"I saw a lot of friends disappear,\" @AvrilLavi...  2019-03-05 02:53:00   \n",
       "1   love someone in your life as much as Jake Tapp...  2019-03-05 17:31:51   \n",
       "2   hi I’m wide awake and I can never say that wit...  2019-03-05 09:40:47   \n",
       "3   Report: Rihanna To Sell Office Supplies &amp; ...  2019-03-04 12:35:37   \n",
       "4   I'm glad Lady Gaga didn't stay in her lane. Sa...  2019-03-04 22:09:55   \n",
       "5   You can never go wrong with a classic! 🤩🤩🤩 Mar...  2019-03-05 13:16:35   \n",
       "6       When is Justin Bieber gonna release new music  2019-03-04 07:18:33   \n",
       "7   Cardi B's new video delivers East L.A. tacos a...  2019-03-04 20:43:17   \n",
       "8   📣 Shake it off, Taylor Swift Trivia Night is W...  2019-03-05 02:17:17   \n",
       "9   Strength of both 2019 draft &amp; 2019 free ag...  2019-03-04 22:27:36   \n",
       "10  TXT’s Soobin Is Taking After BTS’s Jin, And No...  2019-03-04 15:00:01   \n",
       "11  WATCH: Members Of #GOT7, #SEVENTEEN, #IZONE, A...  2019-03-05 03:06:59   \n",
       "\n",
       "   post_retweet_count  \n",
       "0                  10  \n",
       "1                 243  \n",
       "2                  69  \n",
       "3                 573  \n",
       "4                2047  \n",
       "5                 125  \n",
       "6                 526  \n",
       "7                  15  \n",
       "8                 615  \n",
       "9                  16  \n",
       "10               6186  \n",
       "11               1514  "
      ]
     },
     "execution_count": 42,
     "metadata": {},
     "output_type": "execute_result"
    }
   ],
   "source": [
    "b = {  \"keyword\": key_word,\n",
    "       \n",
    "        \"most_popular_post_ID\": most_popular_post_ID,\n",
    "        \"post_content\": post_content,\n",
    "        \"post_time\": post_time,\n",
    "        \"post_retweet_count\": post_retweet_count\n",
    "        \n",
    "      \n",
    " }\n",
    " \n",
    "df = pd.DataFrame.from_dict(b, orient='index')\n",
    "df.transpose()\n",
    "\n",
    "\n"
   ]
  },
  {
   "cell_type": "markdown",
   "metadata": {},
   "source": [
    "## Output to csv"
   ]
  },
  {
   "cell_type": "code",
   "execution_count": 43,
   "metadata": {},
   "outputs": [],
   "source": [
    "df.to_csv('output_post.csv')"
   ]
  },
  {
   "cell_type": "markdown",
   "metadata": {},
   "source": [
    "## Transpose the csv"
   ]
  },
  {
   "cell_type": "code",
   "execution_count": 44,
   "metadata": {},
   "outputs": [],
   "source": [
    "pd.read_csv('output_post.csv').T.to_csv('twitter_post.csv',header=False)"
   ]
  },
  {
   "cell_type": "code",
   "execution_count": null,
   "metadata": {},
   "outputs": [],
   "source": []
  },
  {
   "cell_type": "code",
   "execution_count": null,
   "metadata": {},
   "outputs": [],
   "source": []
  },
  {
   "cell_type": "code",
   "execution_count": null,
   "metadata": {},
   "outputs": [],
   "source": []
  },
  {
   "cell_type": "code",
   "execution_count": null,
   "metadata": {},
   "outputs": [],
   "source": []
  },
  {
   "cell_type": "code",
   "execution_count": null,
   "metadata": {},
   "outputs": [],
   "source": []
  },
  {
   "cell_type": "code",
   "execution_count": null,
   "metadata": {},
   "outputs": [],
   "source": []
  }
 ],
 "metadata": {
  "kernelspec": {
   "display_name": "Python 3",
   "language": "python",
   "name": "python3"
  },
  "language_info": {
   "codemirror_mode": {
    "name": "ipython",
    "version": 3
   },
   "file_extension": ".py",
   "mimetype": "text/x-python",
   "name": "python",
   "nbconvert_exporter": "python",
   "pygments_lexer": "ipython3",
   "version": "3.7.1"
  }
 },
 "nbformat": 4,
 "nbformat_minor": 2
}
