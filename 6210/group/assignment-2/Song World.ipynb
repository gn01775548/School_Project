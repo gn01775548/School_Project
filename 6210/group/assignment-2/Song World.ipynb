{
 "cells": [
  {
   "cell_type": "markdown",
   "metadata": {},
   "source": [
    "# Assignment 2 - Physical Data Model and Social Media "
   ]
  },
  {
   "cell_type": "markdown",
   "metadata": {},
   "source": [
    "## Data Sources"
   ]
  },
  {
   "cell_type": "markdown",
   "metadata": {},
   "source": [
    "### 1. Twitter API"
   ]
  },
  {
   "cell_type": "markdown",
   "metadata": {},
   "source": [
    "#### Collect Twitter Data"
   ]
  },
  {
   "cell_type": "code",
   "execution_count": 1,
   "metadata": {},
   "outputs": [],
   "source": [
    "import twitter"
   ]
  },
  {
   "cell_type": "code",
   "execution_count": 2,
   "metadata": {},
   "outputs": [],
   "source": [
    "import tweepy"
   ]
  },
  {
   "cell_type": "markdown",
   "metadata": {},
   "source": [
    "##### Get Twitter Api"
   ]
  },
  {
   "cell_type": "code",
   "execution_count": 3,
   "metadata": {},
   "outputs": [],
   "source": [
    "auth = tweepy.OAuthHandler('NzIdrbd4Ht4Il0oLMe2IaMDXn', 'PB13487DbvYEze2MnIgX4a1w2oY75qxDmcNELvRjf0kcfsO7dU')\n",
    "auth.set_access_token('1086338263206514689-Em3wWOVgKwQ1re4Zqf9274VdfXzU09', 'My58nuVtHuInK5r2tmcSzgyEJHn09v5Jj0f9gL9Iv0o4j')\n",
    "api = tweepy.API(auth)\n"
   ]
  },
  {
   "cell_type": "markdown",
   "metadata": {},
   "source": [
    "##### Collect Singers data"
   ]
  },
  {
   "cell_type": "code",
   "execution_count": 4,
   "metadata": {
    "scrolled": true
   },
   "outputs": [],
   "source": [
    "user = api.get_user('AvrilLavigne')\n"
   ]
  },
  {
   "cell_type": "code",
   "execution_count": 5,
   "metadata": {},
   "outputs": [],
   "source": [
    "singer_names = []\n",
    "singer_id = []\n",
    "singer_url = []\n",
    "singer_description = []\n",
    "singer_followers_count = []"
   ]
  },
  {
   "cell_type": "markdown",
   "metadata": {},
   "source": [
    "##### Collect datas of singers' information"
   ]
  },
  {
   "cell_type": "code",
   "execution_count": 6,
   "metadata": {},
   "outputs": [],
   "source": [
    "singer_id.append(user.id)\n",
    "singer_names.append(user.name)\n",
    "singer_url.append(user.url)\n",
    "singer_description.append(user.description)\n",
    "singer_followers_count.append(user.followers_count)"
   ]
  },
  {
   "cell_type": "code",
   "execution_count": 7,
   "metadata": {},
   "outputs": [],
   "source": [
    "user1 = api.get_user('ArianaGrande')"
   ]
  },
  {
   "cell_type": "code",
   "execution_count": 8,
   "metadata": {},
   "outputs": [],
   "source": [
    "singer_id.append(user1.id)\n",
    "singer_names.append(user1.name)\n",
    "singer_url.append(user1.url)\n",
    "singer_description.append(user1.description)\n",
    "singer_followers_count.append(user1.followers_count)\n"
   ]
  },
  {
   "cell_type": "code",
   "execution_count": 9,
   "metadata": {},
   "outputs": [],
   "source": [
    "user2 = api.get_user('katyperry')"
   ]
  },
  {
   "cell_type": "code",
   "execution_count": 10,
   "metadata": {},
   "outputs": [],
   "source": [
    "singer_id.append(user2.id)\n",
    "singer_names.append(user2.name)\n",
    "singer_url.append(user2.url)\n",
    "singer_description.append(user2.description)\n",
    "singer_followers_count.append(user2.followers_count)"
   ]
  },
  {
   "cell_type": "code",
   "execution_count": 11,
   "metadata": {},
   "outputs": [],
   "source": [
    "user3 = api.get_user('rihanna')"
   ]
  },
  {
   "cell_type": "code",
   "execution_count": 12,
   "metadata": {},
   "outputs": [],
   "source": [
    "singer_id.append(user3.id)\n",
    "singer_names.append(user3.name)\n",
    "singer_url.append(user3.url)\n",
    "singer_description.append(user3.description)\n",
    "singer_followers_count.append(user3.followers_count)\n"
   ]
  },
  {
   "cell_type": "code",
   "execution_count": 13,
   "metadata": {},
   "outputs": [],
   "source": [
    "user4 = api.get_user('chrisbrown')"
   ]
  },
  {
   "cell_type": "code",
   "execution_count": 14,
   "metadata": {},
   "outputs": [],
   "source": [
    "singer_id.append(user4.id)\n",
    "singer_names.append(user4.name)\n",
    "singer_url.append(user4.url)\n",
    "singer_description.append(user4.description)\n",
    "singer_followers_count.append(user4.followers_count)"
   ]
  },
  {
   "cell_type": "code",
   "execution_count": 15,
   "metadata": {},
   "outputs": [],
   "source": [
    "user5 = api.get_user('justinbieber')"
   ]
  },
  {
   "cell_type": "code",
   "execution_count": 16,
   "metadata": {},
   "outputs": [],
   "source": [
    "singer_id.append(user5.id)\n",
    "singer_names.append(user5.name)\n",
    "singer_url.append(user5.url)\n",
    "singer_description.append(user5.description)\n",
    "singer_followers_count.append(user5.followers_count)"
   ]
  },
  {
   "cell_type": "code",
   "execution_count": 17,
   "metadata": {},
   "outputs": [],
   "source": [
    "user6 = api.get_user('ladygaga')"
   ]
  },
  {
   "cell_type": "code",
   "execution_count": 18,
   "metadata": {},
   "outputs": [],
   "source": [
    "singer_id.append(user6.id)\n",
    "singer_names.append(user6.name)\n",
    "singer_url.append(user6.url)\n",
    "singer_description.append(user6.description)\n",
    "singer_followers_count.append(user6.followers_count)"
   ]
  },
  {
   "cell_type": "code",
   "execution_count": 19,
   "metadata": {},
   "outputs": [],
   "source": [
    "user7 = api.get_user('maroon5') "
   ]
  },
  {
   "cell_type": "code",
   "execution_count": 20,
   "metadata": {},
   "outputs": [],
   "source": [
    "singer_id.append(user7.id)\n",
    "singer_names.append(user7.name)\n",
    "singer_url.append(user7.url)\n",
    "singer_description.append(user7.description)\n",
    "singer_followers_count.append(user7.followers_count)"
   ]
  },
  {
   "cell_type": "code",
   "execution_count": 21,
   "metadata": {},
   "outputs": [],
   "source": [
    "user8 = api.get_user('BrunoMars') "
   ]
  },
  {
   "cell_type": "code",
   "execution_count": 22,
   "metadata": {},
   "outputs": [],
   "source": [
    "singer_id.append(user8.id)\n",
    "singer_names.append(user8.name)\n",
    "singer_url.append(user8.url)\n",
    "singer_description.append(user8.description)\n",
    "singer_followers_count.append(user8.followers_count)"
   ]
  },
  {
   "cell_type": "code",
   "execution_count": 23,
   "metadata": {},
   "outputs": [],
   "source": [
    "user9 = api.get_user('taylorswift13') "
   ]
  },
  {
   "cell_type": "code",
   "execution_count": 24,
   "metadata": {},
   "outputs": [],
   "source": [
    "singer_id.append(user9.id)\n",
    "singer_names.append(user9.name)\n",
    "singer_url.append(user9.url)\n",
    "singer_description.append(user9.description)\n",
    "singer_followers_count.append(user9.followers_count)"
   ]
  },
  {
   "cell_type": "markdown",
   "metadata": {},
   "source": [
    "##### Transform dataframe to table"
   ]
  },
  {
   "cell_type": "code",
   "execution_count": 25,
   "metadata": {},
   "outputs": [],
   "source": [
    "import pandas as pd"
   ]
  },
  {
   "cell_type": "code",
   "execution_count": 26,
   "metadata": {
    "scrolled": true
   },
   "outputs": [
    {
     "data": {
      "text/html": [
       "<div>\n",
       "<style scoped>\n",
       "    .dataframe tbody tr th:only-of-type {\n",
       "        vertical-align: middle;\n",
       "    }\n",
       "\n",
       "    .dataframe tbody tr th {\n",
       "        vertical-align: top;\n",
       "    }\n",
       "\n",
       "    .dataframe thead th {\n",
       "        text-align: right;\n",
       "    }\n",
       "</style>\n",
       "<table border=\"1\" class=\"dataframe\">\n",
       "  <thead>\n",
       "    <tr style=\"text-align: right;\">\n",
       "      <th></th>\n",
       "      <th>singer_ID</th>\n",
       "      <th>singer_name</th>\n",
       "      <th>singer_url</th>\n",
       "      <th>singer_description</th>\n",
       "      <th>singer_followers_count</th>\n",
       "    </tr>\n",
       "  </thead>\n",
       "  <tbody>\n",
       "    <tr>\n",
       "      <th>0</th>\n",
       "      <td>73992972</td>\n",
       "      <td>Avril Lavigne</td>\n",
       "      <td>https://t.co/niyvkKkHrn</td>\n",
       "      <td>BMG Records. Freesolo / Vector Management. PMK...</td>\n",
       "      <td>21713427</td>\n",
       "    </tr>\n",
       "    <tr>\n",
       "      <th>1</th>\n",
       "      <td>34507480</td>\n",
       "      <td>Ariana Grande</td>\n",
       "      <td>https://t.co/76qmPxOH2C</td>\n",
       "      <td>thank u, next</td>\n",
       "      <td>61218352</td>\n",
       "    </tr>\n",
       "    <tr>\n",
       "      <th>2</th>\n",
       "      <td>21447363</td>\n",
       "      <td>KATY PERRY</td>\n",
       "      <td>https://t.co/VxeqPgXTF4</td>\n",
       "      <td>Love. Light.</td>\n",
       "      <td>107000765</td>\n",
       "    </tr>\n",
       "    <tr>\n",
       "      <th>3</th>\n",
       "      <td>79293791</td>\n",
       "      <td>Rihanna</td>\n",
       "      <td>https://t.co/6HarIyKc3f</td>\n",
       "      <td>Throwing all the shade! @fentybeauty</td>\n",
       "      <td>89902946</td>\n",
       "    </tr>\n",
       "    <tr>\n",
       "      <th>4</th>\n",
       "      <td>119509520</td>\n",
       "      <td>Chris Brown</td>\n",
       "      <td>https://t.co/jCtn90KqAF</td>\n",
       "      <td>#Undecided available everywhere now! SOMEWHERE...</td>\n",
       "      <td>29838177</td>\n",
       "    </tr>\n",
       "    <tr>\n",
       "      <th>5</th>\n",
       "      <td>27260086</td>\n",
       "      <td>Justin Bieber</td>\n",
       "      <td>https://t.co/r6Zj8zy1lK</td>\n",
       "      <td>Let's make the world better.</td>\n",
       "      <td>105112962</td>\n",
       "    </tr>\n",
       "    <tr>\n",
       "      <th>6</th>\n",
       "      <td>14230524</td>\n",
       "      <td>Lady Gaga</td>\n",
       "      <td>https://t.co/6CDfvJPhW0</td>\n",
       "      <td></td>\n",
       "      <td>78140457</td>\n",
       "    </tr>\n",
       "    <tr>\n",
       "      <th>7</th>\n",
       "      <td>24886570</td>\n",
       "      <td>Maroon 5</td>\n",
       "      <td>http://t.co/3UhWOxHCRb</td>\n",
       "      <td>This is the Official Twitter page for Maroon 5...</td>\n",
       "      <td>14698909</td>\n",
       "    </tr>\n",
       "    <tr>\n",
       "      <th>8</th>\n",
       "      <td>100220864</td>\n",
       "      <td>Bruno Mars</td>\n",
       "      <td>https://t.co/lrnSFFfTtz</td>\n",
       "      <td></td>\n",
       "      <td>42490013</td>\n",
       "    </tr>\n",
       "    <tr>\n",
       "      <th>9</th>\n",
       "      <td>17919972</td>\n",
       "      <td>Taylor Swift</td>\n",
       "      <td>https://t.co/RSxHoIri2k</td>\n",
       "      <td>The reputation Stadium Tour is streaming now o...</td>\n",
       "      <td>83261148</td>\n",
       "    </tr>\n",
       "  </tbody>\n",
       "</table>\n",
       "</div>"
      ],
      "text/plain": [
       "   singer_ID    singer_name               singer_url  \\\n",
       "0   73992972  Avril Lavigne  https://t.co/niyvkKkHrn   \n",
       "1   34507480  Ariana Grande  https://t.co/76qmPxOH2C   \n",
       "2   21447363     KATY PERRY  https://t.co/VxeqPgXTF4   \n",
       "3   79293791        Rihanna  https://t.co/6HarIyKc3f   \n",
       "4  119509520    Chris Brown  https://t.co/jCtn90KqAF   \n",
       "5   27260086  Justin Bieber  https://t.co/r6Zj8zy1lK   \n",
       "6   14230524      Lady Gaga  https://t.co/6CDfvJPhW0   \n",
       "7   24886570       Maroon 5   http://t.co/3UhWOxHCRb   \n",
       "8  100220864     Bruno Mars  https://t.co/lrnSFFfTtz   \n",
       "9   17919972   Taylor Swift  https://t.co/RSxHoIri2k   \n",
       "\n",
       "                                  singer_description singer_followers_count  \n",
       "0  BMG Records. Freesolo / Vector Management. PMK...               21713427  \n",
       "1                                      thank u, next               61218352  \n",
       "2                                       Love. Light.              107000765  \n",
       "3               Throwing all the shade! @fentybeauty               89902946  \n",
       "4  #Undecided available everywhere now! SOMEWHERE...               29838177  \n",
       "5                       Let's make the world better.              105112962  \n",
       "6                                                                  78140457  \n",
       "7  This is the Official Twitter page for Maroon 5...               14698909  \n",
       "8                                                                  42490013  \n",
       "9  The reputation Stadium Tour is streaming now o...               83261148  "
      ]
     },
     "execution_count": 26,
     "metadata": {},
     "output_type": "execute_result"
    }
   ],
   "source": [
    "\n",
    "a = {\n",
    "       \n",
    "        \"singer_ID\": singer_id,\n",
    "        \"singer_name\": singer_names,\n",
    "        \"singer_url\": singer_url,\n",
    "        \"singer_description\": singer_description,\n",
    "        \"singer_followers_count\": singer_followers_count,\n",
    " }\n",
    " \n",
    "df = pd.DataFrame.from_dict(a, orient='index')\n",
    "df.transpose()\n",
    "\n"
   ]
  },
  {
   "cell_type": "markdown",
   "metadata": {},
   "source": [
    "##### Output to csv"
   ]
  },
  {
   "cell_type": "code",
   "execution_count": 27,
   "metadata": {},
   "outputs": [],
   "source": [
    "df.to_csv('output_singer.csv')"
   ]
  },
  {
   "cell_type": "markdown",
   "metadata": {},
   "source": [
    "##### Transpose the csv"
   ]
  },
  {
   "cell_type": "code",
   "execution_count": 28,
   "metadata": {},
   "outputs": [],
   "source": [
    "pd.read_csv('output_singer.csv').T.to_csv('twitter_singer.csv',header=False)"
   ]
  },
  {
   "cell_type": "markdown",
   "metadata": {},
   "source": [
    "##### Collect popular Twitter posts data"
   ]
  },
  {
   "cell_type": "code",
   "execution_count": 45,
   "metadata": {},
   "outputs": [],
   "source": [
    "most_popular_post_ID = []\n",
    "post_content = []\n",
    "post_time = []\n",
    "post_retweet_count=[]\n",
    "Post_name = []\n",
    "key_word =[\"Avril Lavigne\",\"Ariana Grande\",\"katy Perry\",\"Rihanna\",\"Chris Brown\",\"Lady Gaga\",\"Maroon 5\",\"Justin Bieber\",\"Bruno Mars\",\"Taylor Swift\",\"BTS\",\"Seventeen\"]\n",
    "search = tweepy.Cursor(api.search, q=\"Avril Lavigne\", result_type=\"popular\", lang=\"en\").items(1)\n",
    "search1 = tweepy.Cursor(api.search, q=\"Ariana Grande\", result_type=\"popular\", lang=\"en\").items(1)\n",
    "search2 = tweepy.Cursor(api.search, q=\"katy Perry\", result_type=\"popular\", lang=\"en\").items(1)\n",
    "search3 = tweepy.Cursor(api.search, q=\"Rihanna\", result_type=\"popular\", lang=\"en\").items(1)\n",
    "search9 = tweepy.Cursor(api.search, q=\"Chris Brown\", result_type=\"popular\", lang=\"en\").items(1)\n",
    "search4 = tweepy.Cursor(api.search, q=\"Lady Gaga\", result_type=\"popular\", lang=\"en\").items(1)\n",
    "search5 = tweepy.Cursor(api.search, q=\"Maroon 5\", result_type=\"popular\", lang=\"en\").items(1)\n",
    "search6 = tweepy.Cursor(api.search, q=\"Justin Bieber\", result_type=\"popular\", lang=\"en\").items(1)\n",
    "search7 = tweepy.Cursor(api.search, q=\"Bruno Mars\", result_type=\"popular\", lang=\"en\").items(1)\n",
    "search8 = tweepy.Cursor(api.search, q=\"Taylor Swift\", result_type=\"popular\", lang=\"en\").items(1)\n",
    "search10 = tweepy.Cursor(api.search, q=\"BTS\", result_type=\"popular\", lang=\"en\").items(1)\n",
    "search11 = tweepy.Cursor(api.search, q=\"Seventeen\", result_type=\"popular\", lang=\"en\").items(1)"
   ]
  },
  {
   "cell_type": "code",
   "execution_count": 46,
   "metadata": {},
   "outputs": [],
   "source": [
    "for item in search:    \n",
    " most_popular_post_ID.append(item.id)\n",
    " post_content.append(item.text)\n",
    " post_time.append(item.created_at)\n",
    " post_retweet_count.append(item.retweet_count)\n",
    " "
   ]
  },
  {
   "cell_type": "code",
   "execution_count": 47,
   "metadata": {},
   "outputs": [],
   "source": [
    "for item in search1:    \n",
    " most_popular_post_ID.append(item.id)\n",
    " post_content.append(item.text)\n",
    " post_time.append(item.created_at)\n",
    " post_retweet_count.append(item.retweet_count)\n",
    " "
   ]
  },
  {
   "cell_type": "code",
   "execution_count": 48,
   "metadata": {},
   "outputs": [],
   "source": [
    "for item in search2:    \n",
    " most_popular_post_ID.append(item.id)\n",
    " post_content.append(item.text)\n",
    " post_time.append(item.created_at)\n",
    " post_retweet_count.append(item.retweet_count)\n",
    " "
   ]
  },
  {
   "cell_type": "code",
   "execution_count": 49,
   "metadata": {},
   "outputs": [],
   "source": [
    "for item in search3:    \n",
    " most_popular_post_ID.append(item.id)\n",
    " post_content.append(item.text)\n",
    " post_time.append(item.created_at)\n",
    " post_retweet_count.append(item.retweet_count)\n",
    " "
   ]
  },
  {
   "cell_type": "code",
   "execution_count": 50,
   "metadata": {},
   "outputs": [],
   "source": [
    "for item in search4:    \n",
    " most_popular_post_ID.append(item.id)\n",
    " post_content.append(item.text)\n",
    " post_time.append(item.created_at)\n",
    " post_retweet_count.append(item.retweet_count)\n",
    " "
   ]
  },
  {
   "cell_type": "code",
   "execution_count": 51,
   "metadata": {},
   "outputs": [],
   "source": [
    "for item in search5:    \n",
    " most_popular_post_ID.append(item.id)\n",
    " post_content.append(item.text)\n",
    " post_time.append(item.created_at)\n",
    " post_retweet_count.append(item.retweet_count)\n",
    " "
   ]
  },
  {
   "cell_type": "code",
   "execution_count": 52,
   "metadata": {},
   "outputs": [],
   "source": [
    "for item in search6:    \n",
    " most_popular_post_ID.append(item.id)\n",
    " post_content.append(item.text)\n",
    " post_time.append(item.created_at)\n",
    " post_retweet_count.append(item.retweet_count)\n",
    " "
   ]
  },
  {
   "cell_type": "code",
   "execution_count": 53,
   "metadata": {},
   "outputs": [],
   "source": [
    "for item in search7:    \n",
    " most_popular_post_ID.append(item.id)\n",
    " post_content.append(item.text)\n",
    " post_time.append(item.created_at)\n",
    " post_retweet_count.append(item.retweet_count)\n",
    " "
   ]
  },
  {
   "cell_type": "code",
   "execution_count": 54,
   "metadata": {},
   "outputs": [],
   "source": [
    "for item in search8:    \n",
    " most_popular_post_ID.append(item.id)\n",
    " post_content.append(item.text)\n",
    " post_time.append(item.created_at)\n",
    " post_retweet_count.append(item.retweet_count)\n",
    " "
   ]
  },
  {
   "cell_type": "code",
   "execution_count": 55,
   "metadata": {},
   "outputs": [],
   "source": [
    "for item in search9:    \n",
    " most_popular_post_ID.append(item.id)\n",
    " post_content.append(item.text)\n",
    " post_time.append(item.created_at)\n",
    " post_retweet_count.append(item.retweet_count)\n",
    " "
   ]
  },
  {
   "cell_type": "code",
   "execution_count": 56,
   "metadata": {},
   "outputs": [],
   "source": [
    "for item in search10:    \n",
    " most_popular_post_ID.append(item.id)\n",
    " post_content.append(item.text)\n",
    " post_time.append(item.created_at)\n",
    " post_retweet_count.append(item.retweet_count)\n",
    " "
   ]
  },
  {
   "cell_type": "code",
   "execution_count": 57,
   "metadata": {},
   "outputs": [],
   "source": [
    "for item in search11:    \n",
    " most_popular_post_ID.append(item.id)\n",
    " post_content.append(item.text)\n",
    " post_time.append(item.created_at)\n",
    " post_retweet_count.append(item.retweet_count)\n",
    " "
   ]
  },
  {
   "cell_type": "markdown",
   "metadata": {},
   "source": [
    "##### Transform dataframe to table"
   ]
  },
  {
   "cell_type": "code",
   "execution_count": 59,
   "metadata": {
    "scrolled": true
   },
   "outputs": [
    {
     "data": {
      "text/html": [
       "<div>\n",
       "<style scoped>\n",
       "    .dataframe tbody tr th:only-of-type {\n",
       "        vertical-align: middle;\n",
       "    }\n",
       "\n",
       "    .dataframe tbody tr th {\n",
       "        vertical-align: top;\n",
       "    }\n",
       "\n",
       "    .dataframe thead th {\n",
       "        text-align: right;\n",
       "    }\n",
       "</style>\n",
       "<table border=\"1\" class=\"dataframe\">\n",
       "  <thead>\n",
       "    <tr style=\"text-align: right;\">\n",
       "      <th></th>\n",
       "      <th>keyword</th>\n",
       "      <th>most_popular_post_ID</th>\n",
       "      <th>post_content</th>\n",
       "      <th>post_time</th>\n",
       "      <th>post_retweet_count</th>\n",
       "    </tr>\n",
       "  </thead>\n",
       "  <tbody>\n",
       "    <tr>\n",
       "      <th>0</th>\n",
       "      <td>Avril Lavigne</td>\n",
       "      <td>1102763914368970752</td>\n",
       "      <td>\"I saw a lot of friends disappear,\" @AvrilLavi...</td>\n",
       "      <td>2019-03-05 02:53:00</td>\n",
       "      <td>10</td>\n",
       "    </tr>\n",
       "    <tr>\n",
       "      <th>1</th>\n",
       "      <td>Ariana Grande</td>\n",
       "      <td>1102985085719068672</td>\n",
       "      <td>love someone in your life as much as Jake Tapp...</td>\n",
       "      <td>2019-03-05 17:31:51</td>\n",
       "      <td>244</td>\n",
       "    </tr>\n",
       "    <tr>\n",
       "      <th>2</th>\n",
       "      <td>katy Perry</td>\n",
       "      <td>1102866539433254918</td>\n",
       "      <td>hi I’m wide awake and I can never say that wit...</td>\n",
       "      <td>2019-03-05 09:40:47</td>\n",
       "      <td>69</td>\n",
       "    </tr>\n",
       "    <tr>\n",
       "      <th>3</th>\n",
       "      <td>Rihanna</td>\n",
       "      <td>1102548147497287680</td>\n",
       "      <td>Report: Rihanna To Sell Office Supplies &amp;amp; ...</td>\n",
       "      <td>2019-03-04 12:35:37</td>\n",
       "      <td>573</td>\n",
       "    </tr>\n",
       "    <tr>\n",
       "      <th>4</th>\n",
       "      <td>Chris Brown</td>\n",
       "      <td>1102692675231330304</td>\n",
       "      <td>I'm glad Lady Gaga didn't stay in her lane. Sa...</td>\n",
       "      <td>2019-03-04 22:09:55</td>\n",
       "      <td>2048</td>\n",
       "    </tr>\n",
       "    <tr>\n",
       "      <th>5</th>\n",
       "      <td>Lady Gaga</td>\n",
       "      <td>1102920843535966208</td>\n",
       "      <td>You can never go wrong with a classic! 🤩🤩🤩 Mar...</td>\n",
       "      <td>2019-03-05 13:16:35</td>\n",
       "      <td>125</td>\n",
       "    </tr>\n",
       "    <tr>\n",
       "      <th>6</th>\n",
       "      <td>Maroon 5</td>\n",
       "      <td>1102468355762532352</td>\n",
       "      <td>When is Justin Bieber gonna release new music</td>\n",
       "      <td>2019-03-04 07:18:33</td>\n",
       "      <td>527</td>\n",
       "    </tr>\n",
       "    <tr>\n",
       "      <th>7</th>\n",
       "      <td>Justin Bieber</td>\n",
       "      <td>1102670872010207235</td>\n",
       "      <td>Cardi B's new video delivers East L.A. tacos a...</td>\n",
       "      <td>2019-03-04 20:43:17</td>\n",
       "      <td>15</td>\n",
       "    </tr>\n",
       "    <tr>\n",
       "      <th>8</th>\n",
       "      <td>Bruno Mars</td>\n",
       "      <td>1102754928571883521</td>\n",
       "      <td>📣 Shake it off, Taylor Swift Trivia Night is W...</td>\n",
       "      <td>2019-03-05 02:17:17</td>\n",
       "      <td>615</td>\n",
       "    </tr>\n",
       "    <tr>\n",
       "      <th>9</th>\n",
       "      <td>Taylor Swift</td>\n",
       "      <td>1102697124830085120</td>\n",
       "      <td>Strength of both 2019 draft &amp;amp; 2019 free ag...</td>\n",
       "      <td>2019-03-04 22:27:36</td>\n",
       "      <td>16</td>\n",
       "    </tr>\n",
       "    <tr>\n",
       "      <th>10</th>\n",
       "      <td>BTS</td>\n",
       "      <td>1102584488452853761</td>\n",
       "      <td>TXT’s Soobin Is Taking After BTS’s Jin, And No...</td>\n",
       "      <td>2019-03-04 15:00:01</td>\n",
       "      <td>6190</td>\n",
       "    </tr>\n",
       "    <tr>\n",
       "      <th>11</th>\n",
       "      <td>Seventeen</td>\n",
       "      <td>1102767435361378304</td>\n",
       "      <td>WATCH: Members Of #GOT7, #SEVENTEEN, #IZONE, A...</td>\n",
       "      <td>2019-03-05 03:06:59</td>\n",
       "      <td>1514</td>\n",
       "    </tr>\n",
       "  </tbody>\n",
       "</table>\n",
       "</div>"
      ],
      "text/plain": [
       "          keyword most_popular_post_ID  \\\n",
       "0   Avril Lavigne  1102763914368970752   \n",
       "1   Ariana Grande  1102985085719068672   \n",
       "2      katy Perry  1102866539433254918   \n",
       "3         Rihanna  1102548147497287680   \n",
       "4     Chris Brown  1102692675231330304   \n",
       "5       Lady Gaga  1102920843535966208   \n",
       "6        Maroon 5  1102468355762532352   \n",
       "7   Justin Bieber  1102670872010207235   \n",
       "8      Bruno Mars  1102754928571883521   \n",
       "9    Taylor Swift  1102697124830085120   \n",
       "10            BTS  1102584488452853761   \n",
       "11      Seventeen  1102767435361378304   \n",
       "\n",
       "                                         post_content            post_time  \\\n",
       "0   \"I saw a lot of friends disappear,\" @AvrilLavi...  2019-03-05 02:53:00   \n",
       "1   love someone in your life as much as Jake Tapp...  2019-03-05 17:31:51   \n",
       "2   hi I’m wide awake and I can never say that wit...  2019-03-05 09:40:47   \n",
       "3   Report: Rihanna To Sell Office Supplies &amp; ...  2019-03-04 12:35:37   \n",
       "4   I'm glad Lady Gaga didn't stay in her lane. Sa...  2019-03-04 22:09:55   \n",
       "5   You can never go wrong with a classic! 🤩🤩🤩 Mar...  2019-03-05 13:16:35   \n",
       "6       When is Justin Bieber gonna release new music  2019-03-04 07:18:33   \n",
       "7   Cardi B's new video delivers East L.A. tacos a...  2019-03-04 20:43:17   \n",
       "8   📣 Shake it off, Taylor Swift Trivia Night is W...  2019-03-05 02:17:17   \n",
       "9   Strength of both 2019 draft &amp; 2019 free ag...  2019-03-04 22:27:36   \n",
       "10  TXT’s Soobin Is Taking After BTS’s Jin, And No...  2019-03-04 15:00:01   \n",
       "11  WATCH: Members Of #GOT7, #SEVENTEEN, #IZONE, A...  2019-03-05 03:06:59   \n",
       "\n",
       "   post_retweet_count  \n",
       "0                  10  \n",
       "1                 244  \n",
       "2                  69  \n",
       "3                 573  \n",
       "4                2048  \n",
       "5                 125  \n",
       "6                 527  \n",
       "7                  15  \n",
       "8                 615  \n",
       "9                  16  \n",
       "10               6190  \n",
       "11               1514  "
      ]
     },
     "execution_count": 59,
     "metadata": {},
     "output_type": "execute_result"
    }
   ],
   "source": [
    "b = {  \"keyword\": key_word,\n",
    "       \n",
    "        \"most_popular_post_ID\": most_popular_post_ID,\n",
    "        \"post_content\": post_content,\n",
    "        \"post_time\": post_time,\n",
    "        \"post_retweet_count\": post_retweet_count\n",
    "        \n",
    "      \n",
    " }\n",
    " \n",
    "df = pd.DataFrame.from_dict(b, orient='index')\n",
    "df.transpose()\n",
    "\n",
    "\n"
   ]
  },
  {
   "cell_type": "markdown",
   "metadata": {},
   "source": [
    "##### Output to csv"
   ]
  },
  {
   "cell_type": "code",
   "execution_count": 60,
   "metadata": {},
   "outputs": [],
   "source": [
    "df.to_csv('output_post.csv')"
   ]
  },
  {
   "cell_type": "markdown",
   "metadata": {},
   "source": [
    "##### Transpose the csv"
   ]
  },
  {
   "cell_type": "code",
   "execution_count": 61,
   "metadata": {},
   "outputs": [],
   "source": [
    "pd.read_csv('output_post.csv').T.to_csv('twitter_post.csv',header=False)"
   ]
  },
  {
   "cell_type": "code",
   "execution_count": 43,
   "metadata": {},
   "outputs": [],
   "source": [
    "recnet_24hr_post_ID = []\n",
    "recnet_post_content = []\n",
    "recnet_post_time = []\n",
    "post_retweet_count=[]\n",
    "post_user_name =[]"
   ]
  },
  {
   "cell_type": "markdown",
   "metadata": {},
   "source": [
    "##### Collect recentTwitter posts data"
   ]
  },
  {
   "cell_type": "code",
   "execution_count": 44,
   "metadata": {},
   "outputs": [],
   "source": [
    "tweets = api.user_timeline(screen_name=\"AvrilLavigne\")\n"
   ]
  },
  {
   "cell_type": "code",
   "execution_count": 45,
   "metadata": {},
   "outputs": [],
   "source": [
    "for item in tweets: \n",
    "    item.text\n",
    "    item.id\n",
    "    item.created_at\n",
    "    item.retweet_count\n",
    "    item.user.name\n"
   ]
  },
  {
   "cell_type": "code",
   "execution_count": 46,
   "metadata": {},
   "outputs": [],
   "source": [
    "    \n",
    "recnet_24hr_post_ID.append(item.id)\n",
    "recnet_post_content.append(item.text)\n",
    "recnet_post_time.append(item.created_at)\n",
    "post_retweet_count.append(item.retweet_count)\n",
    "post_user_name.append(item.user.name)\n"
   ]
  },
  {
   "cell_type": "code",
   "execution_count": 47,
   "metadata": {},
   "outputs": [],
   "source": [
    "tweet2 = api.user_timeline(screen_name=\"ArianaGrande\")\n"
   ]
  },
  {
   "cell_type": "code",
   "execution_count": 48,
   "metadata": {},
   "outputs": [],
   "source": [
    "for item in tweet2: \n",
    "    item.text\n",
    "    item.id\n",
    "    item.created_at\n",
    "    item.retweet_count\n",
    "    item.user.name"
   ]
  },
  {
   "cell_type": "code",
   "execution_count": 49,
   "metadata": {},
   "outputs": [],
   "source": [
    "    \n",
    "recnet_24hr_post_ID.append(item.id)\n",
    "recnet_post_content.append(item.text)\n",
    "recnet_post_time.append(item.created_at)\n",
    "post_retweet_count.append(item.retweet_count)\n",
    "post_user_name.append(item.user.name)"
   ]
  },
  {
   "cell_type": "code",
   "execution_count": 50,
   "metadata": {},
   "outputs": [
    {
     "data": {
      "text/plain": [
       "[1097934391743897600, 1102932362860597248]"
      ]
     },
     "execution_count": 50,
     "metadata": {},
     "output_type": "execute_result"
    }
   ],
   "source": [
    "recnet_24hr_post_ID"
   ]
  },
  {
   "cell_type": "code",
   "execution_count": 51,
   "metadata": {},
   "outputs": [],
   "source": [
    "tweet3 = api.user_timeline(screen_name=\"katyperry\")\n"
   ]
  },
  {
   "cell_type": "code",
   "execution_count": 52,
   "metadata": {},
   "outputs": [],
   "source": [
    "for item in tweet3: \n",
    "    item.text\n",
    "    item.id\n",
    "    item.created_at\n",
    "    item.retweet_count\n",
    "    item.user.name"
   ]
  },
  {
   "cell_type": "code",
   "execution_count": 53,
   "metadata": {},
   "outputs": [],
   "source": [
    "    \n",
    "recnet_24hr_post_ID.append(item.id)\n",
    "recnet_post_content.append(item.text)\n",
    "recnet_post_time.append(item.created_at)\n",
    "post_retweet_count.append(item.retweet_count)\n",
    "post_user_name.append(item.user.name)"
   ]
  },
  {
   "cell_type": "code",
   "execution_count": 54,
   "metadata": {},
   "outputs": [],
   "source": [
    "tweet4 = api.user_timeline(screen_name=\"Rihanna\")\n"
   ]
  },
  {
   "cell_type": "code",
   "execution_count": 55,
   "metadata": {},
   "outputs": [],
   "source": [
    "for item in tweet4: \n",
    "    item.text\n",
    "    item.id\n",
    "    item.created_at\n",
    "    item.retweet_count\n",
    "    item.user.name"
   ]
  },
  {
   "cell_type": "code",
   "execution_count": 56,
   "metadata": {},
   "outputs": [],
   "source": [
    "    \n",
    "recnet_24hr_post_ID.append(item.id)\n",
    "recnet_post_content.append(item.text)\n",
    "recnet_post_time.append(item.created_at)\n",
    "post_retweet_count.append(item.retweet_count)\n",
    "post_user_name.append(item.user.name)"
   ]
  },
  {
   "cell_type": "code",
   "execution_count": 57,
   "metadata": {},
   "outputs": [],
   "source": [
    "tweet5 = api.user_timeline(screen_name=\"chrisbrown\")\n"
   ]
  },
  {
   "cell_type": "code",
   "execution_count": 58,
   "metadata": {},
   "outputs": [],
   "source": [
    "for item in tweet5: \n",
    "    item.text\n",
    "    item.id\n",
    "    item.created_at\n",
    "    item.retweet_count\n",
    "    item.user.name"
   ]
  },
  {
   "cell_type": "code",
   "execution_count": 59,
   "metadata": {},
   "outputs": [],
   "source": [
    "recnet_24hr_post_ID.append(item.id)\n",
    "recnet_post_content.append(item.text)\n",
    "recnet_post_time.append(item.created_at)\n",
    "post_retweet_count.append(item.retweet_count)\n",
    "post_user_name.append(item.user.name)"
   ]
  },
  {
   "cell_type": "code",
   "execution_count": 60,
   "metadata": {},
   "outputs": [],
   "source": [
    "tweet7 = api.user_timeline(screen_name=\"justinbieber\")\n"
   ]
  },
  {
   "cell_type": "code",
   "execution_count": 61,
   "metadata": {},
   "outputs": [],
   "source": [
    "for item in tweet7: \n",
    "    item.text\n",
    "    item.id\n",
    "    item.created_at\n",
    "    item.retweet_count\n",
    "    item.user.name"
   ]
  },
  {
   "cell_type": "code",
   "execution_count": 62,
   "metadata": {},
   "outputs": [],
   "source": [
    "recnet_24hr_post_ID.append(item.id)\n",
    "recnet_post_content.append(item.text)\n",
    "recnet_post_time.append(item.created_at)\n",
    "post_retweet_count.append(item.retweet_count)\n",
    "post_user_name.append(item.user.name)"
   ]
  },
  {
   "cell_type": "code",
   "execution_count": 63,
   "metadata": {},
   "outputs": [],
   "source": [
    "tweet8 = api.user_timeline(screen_name=\"ladygaga\")\n"
   ]
  },
  {
   "cell_type": "code",
   "execution_count": 64,
   "metadata": {},
   "outputs": [],
   "source": [
    "for item in tweet8: \n",
    "    item.text\n",
    "    item.id\n",
    "    item.created_at\n",
    "    item.user.name\n"
   ]
  },
  {
   "cell_type": "code",
   "execution_count": 65,
   "metadata": {},
   "outputs": [],
   "source": [
    "recnet_24hr_post_ID.append(item.id)\n",
    "recnet_post_content.append(item.text)\n",
    "recnet_post_time.append(item.created_at)\n",
    "post_retweet_count.append(item.retweet_count)\n",
    "post_user_name.append(item.user.name)"
   ]
  },
  {
   "cell_type": "code",
   "execution_count": 66,
   "metadata": {},
   "outputs": [],
   "source": [
    "tweet9 = api.user_timeline(screen_name=\"maroon5\")\n"
   ]
  },
  {
   "cell_type": "code",
   "execution_count": 67,
   "metadata": {},
   "outputs": [],
   "source": [
    "for item in tweet9: \n",
    "    item.text\n",
    "    item.id\n",
    "    item.created_at\n",
    "    item.retweet_count\n",
    "    item.user.name\n"
   ]
  },
  {
   "cell_type": "code",
   "execution_count": 68,
   "metadata": {},
   "outputs": [],
   "source": [
    "recnet_24hr_post_ID.append(item.id)\n",
    "recnet_post_content.append(item.text)\n",
    "recnet_post_time.append(item.created_at)\n",
    "post_retweet_count.append(item.retweet_count)\n",
    "post_user_name.append(item.user.name)"
   ]
  },
  {
   "cell_type": "code",
   "execution_count": 69,
   "metadata": {},
   "outputs": [],
   "source": [
    "tweet10 = api.user_timeline(screen_name=\"BrunoMars\")\n"
   ]
  },
  {
   "cell_type": "code",
   "execution_count": 70,
   "metadata": {},
   "outputs": [],
   "source": [
    "for item in tweet10: \n",
    "    item.text\n",
    "    item.id\n",
    "    item.created_at\n",
    "    item.retweet_count\n",
    "    item.user.name\n",
    "\n"
   ]
  },
  {
   "cell_type": "code",
   "execution_count": 71,
   "metadata": {},
   "outputs": [],
   "source": [
    "recnet_24hr_post_ID.append(item.id)\n",
    "recnet_post_content.append(item.text)\n",
    "recnet_post_time.append(item.created_at)\n",
    "post_retweet_count.append(item.retweet_count)\n",
    "post_user_name.append(item.user.name)"
   ]
  },
  {
   "cell_type": "code",
   "execution_count": 72,
   "metadata": {},
   "outputs": [],
   "source": [
    "tweet11 = api.user_timeline(screen_name=\"taylorswift13\")\n"
   ]
  },
  {
   "cell_type": "code",
   "execution_count": 73,
   "metadata": {},
   "outputs": [],
   "source": [
    "for item in tweet11: \n",
    "    item.text\n",
    "    item.id\n",
    "    item.created_at\n",
    "    item.retweet_count\n",
    "    item.user.name"
   ]
  },
  {
   "cell_type": "code",
   "execution_count": 74,
   "metadata": {},
   "outputs": [],
   "source": [
    "recnet_24hr_post_ID.append(item.id)\n",
    "recnet_post_content.append(item.text)\n",
    "recnet_post_time.append(item.created_at)\n",
    "post_retweet_count.append(item.retweet_count)\n",
    "post_user_name.append(item.user.name)\n",
    "\n"
   ]
  },
  {
   "cell_type": "code",
   "execution_count": 75,
   "metadata": {},
   "outputs": [
    {
     "data": {
      "text/html": [
       "<div>\n",
       "<style scoped>\n",
       "    .dataframe tbody tr th:only-of-type {\n",
       "        vertical-align: middle;\n",
       "    }\n",
       "\n",
       "    .dataframe tbody tr th {\n",
       "        vertical-align: top;\n",
       "    }\n",
       "\n",
       "    .dataframe thead th {\n",
       "        text-align: right;\n",
       "    }\n",
       "</style>\n",
       "<table border=\"1\" class=\"dataframe\">\n",
       "  <thead>\n",
       "    <tr style=\"text-align: right;\">\n",
       "      <th></th>\n",
       "      <th>post.user.name</th>\n",
       "      <th>recnet_24hr_post_ID</th>\n",
       "      <th>recnet_post_content</th>\n",
       "      <th>recnet_post_time</th>\n",
       "      <th>post_retweet_count</th>\n",
       "    </tr>\n",
       "  </thead>\n",
       "  <tbody>\n",
       "    <tr>\n",
       "      <th>0</th>\n",
       "      <td>Avril Lavigne</td>\n",
       "      <td>1097934391743897600</td>\n",
       "      <td>🖤icon. You’re truly missed. https://t.co/8roMH...</td>\n",
       "      <td>2019-02-19 19:02:12</td>\n",
       "      <td>2758</td>\n",
       "    </tr>\n",
       "    <tr>\n",
       "      <th>1</th>\n",
       "      <td>Ariana Grande</td>\n",
       "      <td>1102932362860597248</td>\n",
       "      <td>🌫 @starbucks cloud #cloudmacchiato #starbucksa...</td>\n",
       "      <td>2019-03-05 14:02:21</td>\n",
       "      <td>14217</td>\n",
       "    </tr>\n",
       "    <tr>\n",
       "      <th>2</th>\n",
       "      <td>KATY PERRY</td>\n",
       "      <td>1102427619683852288</td>\n",
       "      <td>One of my favorite #AmericanIdol moments: turn...</td>\n",
       "      <td>2019-03-04 04:36:41</td>\n",
       "      <td>263</td>\n",
       "    </tr>\n",
       "    <tr>\n",
       "      <th>3</th>\n",
       "      <td>Rihanna</td>\n",
       "      <td>1081963144644153345</td>\n",
       "      <td>For the ❤️ of X. Get ready for @savagexfenty's...</td>\n",
       "      <td>2019-01-06 17:18:10</td>\n",
       "      <td>8663</td>\n",
       "    </tr>\n",
       "    <tr>\n",
       "      <th>4</th>\n",
       "      <td>Chris Brown</td>\n",
       "      <td>1086751529774841861</td>\n",
       "      <td>#Undecided has hit @ministryofsound’s R&amp;amp;B ...</td>\n",
       "      <td>2019-01-19 22:25:30</td>\n",
       "      <td>792</td>\n",
       "    </tr>\n",
       "    <tr>\n",
       "      <th>5</th>\n",
       "      <td>Justin Bieber</td>\n",
       "      <td>1057450701737979904</td>\n",
       "      <td>@torikelly I have listened to this album 10 ti...</td>\n",
       "      <td>2018-10-31 01:54:28</td>\n",
       "      <td>3729</td>\n",
       "    </tr>\n",
       "    <tr>\n",
       "      <th>6</th>\n",
       "      <td>Lady Gaga</td>\n",
       "      <td>1094728812321943552</td>\n",
       "      <td>😭❤️a Grammy for Joanne is more than me &amp;amp; m...</td>\n",
       "      <td>2019-02-10 22:44:22</td>\n",
       "      <td>24714</td>\n",
       "    </tr>\n",
       "    <tr>\n",
       "      <th>7</th>\n",
       "      <td>Maroon 5</td>\n",
       "      <td>1100222908398370817</td>\n",
       "      <td>RT @maroon5: Blown away by these submissions o...</td>\n",
       "      <td>2019-02-26 02:35:57</td>\n",
       "      <td>173</td>\n",
       "    </tr>\n",
       "    <tr>\n",
       "      <th>8</th>\n",
       "      <td>Bruno Mars</td>\n",
       "      <td>1101696054125187077</td>\n",
       "      <td>What’s the plot tho? https://t.co/eh6m7hHB6Z</td>\n",
       "      <td>2019-03-02 04:09:42</td>\n",
       "      <td>3614</td>\n",
       "    </tr>\n",
       "    <tr>\n",
       "      <th>9</th>\n",
       "      <td>Taylor Swift</td>\n",
       "      <td>970649231466823681</td>\n",
       "      <td>✨✨✨✨✨✨✨✨✨✨✨✨✨ https://t.co/KHNRCaKfU0</td>\n",
       "      <td>2018-03-05 13:16:25</td>\n",
       "      <td>30671</td>\n",
       "    </tr>\n",
       "  </tbody>\n",
       "</table>\n",
       "</div>"
      ],
      "text/plain": [
       "  post.user.name  recnet_24hr_post_ID  \\\n",
       "0  Avril Lavigne  1097934391743897600   \n",
       "1  Ariana Grande  1102932362860597248   \n",
       "2     KATY PERRY  1102427619683852288   \n",
       "3        Rihanna  1081963144644153345   \n",
       "4    Chris Brown  1086751529774841861   \n",
       "5  Justin Bieber  1057450701737979904   \n",
       "6      Lady Gaga  1094728812321943552   \n",
       "7       Maroon 5  1100222908398370817   \n",
       "8     Bruno Mars  1101696054125187077   \n",
       "9   Taylor Swift   970649231466823681   \n",
       "\n",
       "                                 recnet_post_content     recnet_post_time  \\\n",
       "0  🖤icon. You’re truly missed. https://t.co/8roMH...  2019-02-19 19:02:12   \n",
       "1  🌫 @starbucks cloud #cloudmacchiato #starbucksa...  2019-03-05 14:02:21   \n",
       "2  One of my favorite #AmericanIdol moments: turn...  2019-03-04 04:36:41   \n",
       "3  For the ❤️ of X. Get ready for @savagexfenty's...  2019-01-06 17:18:10   \n",
       "4  #Undecided has hit @ministryofsound’s R&amp;B ...  2019-01-19 22:25:30   \n",
       "5  @torikelly I have listened to this album 10 ti...  2018-10-31 01:54:28   \n",
       "6  😭❤️a Grammy for Joanne is more than me &amp; m...  2019-02-10 22:44:22   \n",
       "7  RT @maroon5: Blown away by these submissions o...  2019-02-26 02:35:57   \n",
       "8       What’s the plot tho? https://t.co/eh6m7hHB6Z  2019-03-02 04:09:42   \n",
       "9              ✨✨✨✨✨✨✨✨✨✨✨✨✨ https://t.co/KHNRCaKfU0  2018-03-05 13:16:25   \n",
       "\n",
       "  post_retweet_count  \n",
       "0               2758  \n",
       "1              14217  \n",
       "2                263  \n",
       "3               8663  \n",
       "4                792  \n",
       "5               3729  \n",
       "6              24714  \n",
       "7                173  \n",
       "8               3614  \n",
       "9              30671  "
      ]
     },
     "execution_count": 75,
     "metadata": {},
     "output_type": "execute_result"
    }
   ],
   "source": [
    "b = { \n",
    "        \"post.user.name\":post_user_name,\n",
    "        \"recnet_24hr_post_ID\": recnet_24hr_post_ID,\n",
    "        \"recnet_post_content\": recnet_post_content,\n",
    "        \"recnet_post_time\": recnet_post_time,\n",
    "        \"post_retweet_count\": post_retweet_count\n",
    "        \n",
    "      \n",
    " }\n",
    " \n",
    "df = pd.DataFrame.from_dict(b, orient='index')\n",
    "df.transpose()\n",
    "\n"
   ]
  },
  {
   "cell_type": "markdown",
   "metadata": {},
   "source": [
    "##### Output to csv"
   ]
  },
  {
   "cell_type": "code",
   "execution_count": 76,
   "metadata": {},
   "outputs": [],
   "source": [
    "df.to_csv('output_recent_24hr.csv')"
   ]
  },
  {
   "cell_type": "markdown",
   "metadata": {},
   "source": [
    "##### Transpose the csv"
   ]
  },
  {
   "cell_type": "code",
   "execution_count": 77,
   "metadata": {},
   "outputs": [],
   "source": [
    "pd.read_csv('output_recent_24hr.csv').T.to_csv('recent_24hr.csv',header=False)"
   ]
  },
  {
   "cell_type": "markdown",
   "metadata": {},
   "source": [
    "### 2. Spotify API"
   ]
  },
  {
   "cell_type": "markdown",
   "metadata": {},
   "source": [
    "#### Collect Spotify Data"
   ]
  },
  {
   "cell_type": "markdown",
   "metadata": {},
   "source": [
    "##### Load the libraries"
   ]
  },
  {
   "cell_type": "code",
   "execution_count": 1,
   "metadata": {},
   "outputs": [
    {
     "name": "stdout",
     "output_type": "stream",
     "text": [
      "<spotipy.client.Spotify object at 0x11bd0d1d0>\n"
     ]
    }
   ],
   "source": [
    "import pandas as pd\n",
    "import spotipy\n",
    "import spotipy.oauth2 as oauth2\n",
    "import csv\n",
    "\n",
    "# Load the API token\n",
    "credentials = oauth2.SpotifyClientCredentials(\n",
    "        client_id='bb2c8bd8bf164c6da9c2e474047b941b',\n",
    "        client_secret=\"06ed1e8f3fda43e3a829a830f03ce777\")\n",
    "\n",
    "token = credentials.get_access_token()\n",
    "spotify = spotipy.Spotify(auth=token)\n",
    "\n",
    "print(spotify)"
   ]
  },
  {
   "cell_type": "markdown",
   "metadata": {},
   "source": [
    "##### Input Singer Name as search key word"
   ]
  },
  {
   "cell_type": "code",
   "execution_count": 2,
   "metadata": {
    "scrolled": true
   },
   "outputs": [
    {
     "data": {
      "text/html": [
       "<div>\n",
       "<style scoped>\n",
       "    .dataframe tbody tr th:only-of-type {\n",
       "        vertical-align: middle;\n",
       "    }\n",
       "\n",
       "    .dataframe tbody tr th {\n",
       "        vertical-align: top;\n",
       "    }\n",
       "\n",
       "    .dataframe thead th {\n",
       "        text-align: right;\n",
       "    }\n",
       "</style>\n",
       "<table border=\"1\" class=\"dataframe\">\n",
       "  <thead>\n",
       "    <tr style=\"text-align: right;\">\n",
       "      <th></th>\n",
       "      <th>Unnamed: 0</th>\n",
       "      <th>singer_ID</th>\n",
       "      <th>singer_name</th>\n",
       "      <th>singer_url</th>\n",
       "      <th>singer_description</th>\n",
       "      <th>singer_followers_count</th>\n",
       "    </tr>\n",
       "  </thead>\n",
       "  <tbody>\n",
       "    <tr>\n",
       "      <th>0</th>\n",
       "      <td>0</td>\n",
       "      <td>73992972</td>\n",
       "      <td>Avril Lavigne</td>\n",
       "      <td>https://t.co/niyvkKkHrn</td>\n",
       "      <td>BMG Records. Freesolo / Vector Management. PMK...</td>\n",
       "      <td>21722762</td>\n",
       "    </tr>\n",
       "    <tr>\n",
       "      <th>1</th>\n",
       "      <td>1</td>\n",
       "      <td>34507480</td>\n",
       "      <td>Ariana Grande</td>\n",
       "      <td>https://t.co/76qmPxOH2C</td>\n",
       "      <td>thank u, next</td>\n",
       "      <td>61210749</td>\n",
       "    </tr>\n",
       "    <tr>\n",
       "      <th>2</th>\n",
       "      <td>2</td>\n",
       "      <td>21447363</td>\n",
       "      <td>KATY PERRY</td>\n",
       "      <td>https://t.co/VxeqPgXTF4</td>\n",
       "      <td>Love. Light.</td>\n",
       "      <td>107002594</td>\n",
       "    </tr>\n",
       "    <tr>\n",
       "      <th>3</th>\n",
       "      <td>3</td>\n",
       "      <td>79293791</td>\n",
       "      <td>Rihanna</td>\n",
       "      <td>https://t.co/6HarIyKc3f</td>\n",
       "      <td>Throwing all the shade! @fentybeauty</td>\n",
       "      <td>89893415</td>\n",
       "    </tr>\n",
       "    <tr>\n",
       "      <th>4</th>\n",
       "      <td>4</td>\n",
       "      <td>119509520</td>\n",
       "      <td>Chris Brown</td>\n",
       "      <td>https://t.co/jCtn90KqAF</td>\n",
       "      <td>#Undecided available everywhere now! SOMEWHERE...</td>\n",
       "      <td>29841144</td>\n",
       "    </tr>\n",
       "    <tr>\n",
       "      <th>5</th>\n",
       "      <td>5</td>\n",
       "      <td>27260086</td>\n",
       "      <td>Justin Bieber</td>\n",
       "      <td>https://t.co/r6Zj8zy1lK</td>\n",
       "      <td>Let's make the world better.</td>\n",
       "      <td>105116612</td>\n",
       "    </tr>\n",
       "    <tr>\n",
       "      <th>6</th>\n",
       "      <td>6</td>\n",
       "      <td>14230524</td>\n",
       "      <td>Lady Gaga</td>\n",
       "      <td>https://t.co/6CDfvJPhW0</td>\n",
       "      <td>NaN</td>\n",
       "      <td>78135950</td>\n",
       "    </tr>\n",
       "    <tr>\n",
       "      <th>7</th>\n",
       "      <td>7</td>\n",
       "      <td>24886570</td>\n",
       "      <td>Maroon 5</td>\n",
       "      <td>http://t.co/3UhWOxHCRb</td>\n",
       "      <td>This is the Official Twitter page for Maroon 5...</td>\n",
       "      <td>14697963</td>\n",
       "    </tr>\n",
       "    <tr>\n",
       "      <th>8</th>\n",
       "      <td>8</td>\n",
       "      <td>100220864</td>\n",
       "      <td>Bruno Mars</td>\n",
       "      <td>https://t.co/lrnSFFfTtz</td>\n",
       "      <td>NaN</td>\n",
       "      <td>42492751</td>\n",
       "    </tr>\n",
       "    <tr>\n",
       "      <th>9</th>\n",
       "      <td>9</td>\n",
       "      <td>17919972</td>\n",
       "      <td>Taylor Swift</td>\n",
       "      <td>https://t.co/RSxHoIri2k</td>\n",
       "      <td>The reputation Stadium Tour is streaming now o...</td>\n",
       "      <td>83270778</td>\n",
       "    </tr>\n",
       "  </tbody>\n",
       "</table>\n",
       "</div>"
      ],
      "text/plain": [
       "   Unnamed: 0  singer_ID    singer_name               singer_url  \\\n",
       "0           0   73992972  Avril Lavigne  https://t.co/niyvkKkHrn   \n",
       "1           1   34507480  Ariana Grande  https://t.co/76qmPxOH2C   \n",
       "2           2   21447363     KATY PERRY  https://t.co/VxeqPgXTF4   \n",
       "3           3   79293791        Rihanna  https://t.co/6HarIyKc3f   \n",
       "4           4  119509520    Chris Brown  https://t.co/jCtn90KqAF   \n",
       "5           5   27260086  Justin Bieber  https://t.co/r6Zj8zy1lK   \n",
       "6           6   14230524      Lady Gaga  https://t.co/6CDfvJPhW0   \n",
       "7           7   24886570       Maroon 5   http://t.co/3UhWOxHCRb   \n",
       "8           8  100220864     Bruno Mars  https://t.co/lrnSFFfTtz   \n",
       "9           9   17919972   Taylor Swift  https://t.co/RSxHoIri2k   \n",
       "\n",
       "                                  singer_description  singer_followers_count  \n",
       "0  BMG Records. Freesolo / Vector Management. PMK...                21722762  \n",
       "1                                      thank u, next                61210749  \n",
       "2                                       Love. Light.               107002594  \n",
       "3               Throwing all the shade! @fentybeauty                89893415  \n",
       "4  #Undecided available everywhere now! SOMEWHERE...                29841144  \n",
       "5                       Let's make the world better.               105116612  \n",
       "6                                                NaN                78135950  \n",
       "7  This is the Official Twitter page for Maroon 5...                14697963  \n",
       "8                                                NaN                42492751  \n",
       "9  The reputation Stadium Tour is streaming now o...                83270778  "
      ]
     },
     "execution_count": 2,
     "metadata": {},
     "output_type": "execute_result"
    }
   ],
   "source": [
    "#Input the Singer Name from twitter csv\n",
    "info =pd.read_csv('twitter_singer.csv')\n",
    "info"
   ]
  },
  {
   "cell_type": "code",
   "execution_count": 3,
   "metadata": {
    "scrolled": true
   },
   "outputs": [
    {
     "name": "stdout",
     "output_type": "stream",
     "text": [
      "0    Avril Lavigne\n",
      "1    Ariana Grande\n",
      "2       KATY PERRY\n",
      "3          Rihanna\n",
      "4      Chris Brown\n",
      "5    Justin Bieber\n",
      "6        Lady Gaga\n",
      "7         Maroon 5\n",
      "8       Bruno Mars\n",
      "9     Taylor Swift\n",
      "Name: singer_name, dtype: object\n"
     ]
    }
   ],
   "source": [
    "singers = info['singer_name']\n",
    "print (singers)"
   ]
  },
  {
   "cell_type": "markdown",
   "metadata": {},
   "source": [
    "##### Using Singer Name to seach the related song"
   ]
  },
  {
   "cell_type": "code",
   "execution_count": 4,
   "metadata": {},
   "outputs": [
    {
     "name": "stdout",
     "output_type": "stream",
     "text": [
      "Avril Lavigne : Avril Lavigne : 3zXjR3y2dUWklKmmp6lEhy\n",
      "Ariana Grande : Ariana Grande : 2fYhqwDWXjbpjaIJPEfKFw\n",
      "KATY PERRY : Katy Perry : 5MQBzs5YlZlE28mD9yUItn\n",
      "Rihanna : Rihanna : 3Q149ZH46Z0f3oDR7vlDYV\n",
      "Chris Brown : Chris Brown : 0JOT3Ff4gJ939hqdeEpsZv\n",
      "Justin Bieber : Justin Bieber : 6Fr2rQkZ383FcMqFyT7yPr\n",
      "Lady Gaga : Lady Gaga : 4sLtOBOzn4s3GDUv3c5oJD\n",
      "Maroon 5 : Maroon 5 : 75iQSBSaztFIAun9qLLCnb\n",
      "Bruno Mars : Bruno Mars : 4PgleR09JVnm3zY1fW3XBA\n",
      "Taylor Swift : Taylor Swift : 6DEjYFkNZh67HP7R9PSZvv\n"
     ]
    }
   ],
   "source": [
    "# Create a new csv to store the data related to song\n",
    "with open('spotify_song.csv', 'w', newline='') as csvfile:\n",
    "    fieldnames = ['singer_name', \n",
    "                  'singer_spotify_id',\n",
    "                  'song_name',\n",
    "                  'song_id',\n",
    "                  'duration_ms',\n",
    "                  'song_popularity',\n",
    "                  'album_name',\n",
    "                  'album_id'\n",
    "                  ]\n",
    "    writer = csv.DictWriter(csvfile, fieldnames=fieldnames)\n",
    "    writer.writeheader()\n",
    "    \n",
    "# put the data in the csv\n",
    "    # Make a loop to search all the singer name in the dataset  \n",
    "    for singer in singers:\n",
    "        \n",
    "        # The result of the data releated to singer name          \n",
    "        results = spotify.search(q=singer, type='track')\n",
    "        result = results['tracks']\n",
    "        \n",
    "        # The most related song \n",
    "        track = result['items'][0]\n",
    "        \n",
    "        # The artist information of the song\n",
    "        artist = track['artists'][0] \n",
    "        creator_id = artist['id']\n",
    "        creator_name = artist['name']\n",
    "        \n",
    "        # Create a loop in case the singer of the song is the second singer       \n",
    "        if creator_name == singer:\n",
    "            artist = track['artists'][0] \n",
    "            creator_id = artist['id']\n",
    "            creator_name = artist['name']\n",
    "       \n",
    "        elif singer == 'Justin Bieber':\n",
    "                track = result['items'][3]\n",
    "                artist = track['artists'][0] \n",
    "                creator_id = artist['id']\n",
    "                creator_name = artist['name'] \n",
    "        else:\n",
    "            track = result['items'][1]\n",
    "            artist = track['artists'][0] \n",
    "            creator_id = artist['id']\n",
    "            creator_name = artist['name']\n",
    "            \n",
    "            if creator_name != singer:\n",
    "                track = result['items'][2]\n",
    "                artist = track['artists'][0] \n",
    "                creator_id = artist['id']\n",
    "                creator_name = artist['name']\n",
    "            \n",
    "        \n",
    "            \n",
    "        # The information of the song         \n",
    "        song_id = track['id']\n",
    "        song_name = track['name']\n",
    "        duration_ms = track['duration_ms']\n",
    "        song_popularity = track['popularity']\n",
    "        \n",
    "        # The album information of the song\n",
    "        album = track['album']\n",
    "        album_name = album['name']\n",
    "        album_id = album['id']\n",
    "        \n",
    "        # Put all the data we get into the csv\n",
    "        writer.writerow({'singer_name': creator_name, \n",
    "                         'singer_spotify_id':creator_id,\n",
    "                         'song_name':song_name,\n",
    "                         'song_id':song_id,\n",
    "                         'duration_ms':duration_ms,\n",
    "                         'song_popularity':song_popularity,\n",
    "                         'album_name':album_name,\n",
    "                         'album_id':album_id,\n",
    "                         })\n",
    "        print(singer,\":\", creator_name,':',album_id)"
   ]
  },
  {
   "cell_type": "markdown",
   "metadata": {},
   "source": [
    "##### Using Album ID to seach the related album"
   ]
  },
  {
   "cell_type": "code",
   "execution_count": 5,
   "metadata": {},
   "outputs": [],
   "source": [
    "# Get the album id in song csv\n",
    "album_info =pd.read_csv('spotify_song.csv')\n",
    "album_ids = album_info['album_id']\n",
    "# singerNameS = album_info['singer_name']"
   ]
  },
  {
   "cell_type": "code",
   "execution_count": 6,
   "metadata": {},
   "outputs": [
    {
     "name": "stdout",
     "output_type": "stream",
     "text": [
      "3zXjR3y2dUWklKmmp6lEhy : 3zXjR3y2dUWklKmmp6lEhy : Avril Lavigne\n",
      "2fYhqwDWXjbpjaIJPEfKFw : 2fYhqwDWXjbpjaIJPEfKFw : Ariana Grande\n",
      "5MQBzs5YlZlE28mD9yUItn : 5MQBzs5YlZlE28mD9yUItn : Katy Perry\n",
      "3Q149ZH46Z0f3oDR7vlDYV : 3Q149ZH46Z0f3oDR7vlDYV : Rihanna\n",
      "0JOT3Ff4gJ939hqdeEpsZv : 0JOT3Ff4gJ939hqdeEpsZv : Chris Brown\n",
      "6Fr2rQkZ383FcMqFyT7yPr : 6Fr2rQkZ383FcMqFyT7yPr : Justin Bieber\n",
      "4sLtOBOzn4s3GDUv3c5oJD : 4sLtOBOzn4s3GDUv3c5oJD : Lady Gaga\n",
      "75iQSBSaztFIAun9qLLCnb : 75iQSBSaztFIAun9qLLCnb : Maroon 5\n",
      "4PgleR09JVnm3zY1fW3XBA : 4PgleR09JVnm3zY1fW3XBA : Bruno Mars\n",
      "6DEjYFkNZh67HP7R9PSZvv : 6DEjYFkNZh67HP7R9PSZvv : Taylor Swift\n"
     ]
    }
   ],
   "source": [
    "# Create a new csv to store the data related to album\n",
    "with open('spotify_album.csv', 'w', newline='') as csvfile:\n",
    "    fieldnames = ['singer_name',\n",
    "                  'singer_spotify_id',\n",
    "                  'album_name',\n",
    "                  'album_id',\n",
    "                  'album_date',\n",
    "                  'total_tracks']\n",
    "    writer = csv.DictWriter(csvfile, fieldnames=fieldnames)\n",
    "    writer.writeheader()\n",
    "    \n",
    "# put the data in the csv\n",
    "    # Make a loop to search all the album id in the dataset    \n",
    "    for album_idd in album_ids:        \n",
    "        # The result of the data releated to album\n",
    "        album_item = spotify.album(album_idd)\n",
    "        \n",
    "        # The artist information of the album\n",
    "        bb = album_item['artists'][0]\n",
    "        album_creator = bb['name']\n",
    "        album_creator_id = bb['id']\n",
    "        \n",
    "        # The album information of the song\n",
    "        album_name = album_item['name']\n",
    "        album_id = album_item['id']\n",
    "        album_date = album_item['release_date']\n",
    "        total_tracks = album_item['total_tracks']\n",
    "        \n",
    "        \n",
    "        # Put all the data we get into the csv\n",
    "        writer.writerow({\n",
    "                         'singer_name': album_creator,\n",
    "                         'singer_spotify_id': album_creator_id,\n",
    "                         'album_name': album_name,\n",
    "                         'album_id': album_id,\n",
    "                         'album_date': album_date, \n",
    "                         'total_tracks': total_tracks\n",
    "                        })\n",
    "        print(album_idd,\":\", album_id,\":\", album_creator)"
   ]
  },
  {
   "cell_type": "markdown",
   "metadata": {},
   "source": [
    "##### Using Creator ID to seach the related singer"
   ]
  },
  {
   "cell_type": "code",
   "execution_count": 7,
   "metadata": {
    "scrolled": true
   },
   "outputs": [],
   "source": [
    "# Get the singer id in album csv\n",
    "artist_info =pd.read_csv('spotify_album.csv')\n",
    "creator_ids = artist_info['singer_spotify_id']"
   ]
  },
  {
   "cell_type": "code",
   "execution_count": 8,
   "metadata": {},
   "outputs": [
    {
     "name": "stdout",
     "output_type": "stream",
     "text": [
      "0p4nmQO2msCgU4IF37Wi3j : 0p4nmQO2msCgU4IF37Wi3j : Avril Lavigne\n",
      "66CXWjxzNUsdJxJ2JdwvnR : 66CXWjxzNUsdJxJ2JdwvnR : Ariana Grande\n",
      "6jJ0s89eD6GaHleKKya26X : 6jJ0s89eD6GaHleKKya26X : Katy Perry\n",
      "5pKCCKE2ajJHZ9KAiaK11H : 5pKCCKE2ajJHZ9KAiaK11H : Rihanna\n",
      "7bXgB6jMjp9ATFy66eO08Z : 7bXgB6jMjp9ATFy66eO08Z : Chris Brown\n",
      "1uNFoZAHBGtllmzznpCI3s : 1uNFoZAHBGtllmzznpCI3s : Justin Bieber\n",
      "1HY2Jd0NmPuamShAr6KMms : 1HY2Jd0NmPuamShAr6KMms : Lady Gaga\n",
      "04gDigrS5kc9YWfZHwBETP : 04gDigrS5kc9YWfZHwBETP : Maroon 5\n",
      "0du5cEVh5yTK9QJze8zA0C : 0du5cEVh5yTK9QJze8zA0C : Bruno Mars\n",
      "06HL4z0CvFAxyc27GXpf02 : 06HL4z0CvFAxyc27GXpf02 : Taylor Swift\n"
     ]
    }
   ],
   "source": [
    "# Create a new csv to store the data related to album\n",
    "with open('spotify_artist.csv', 'w', newline='') as csvfile:\n",
    "    fieldnames = [\n",
    "                  'singer_name', \n",
    "                  'singer_spotify_id',\n",
    "                  'singer_spotify_followers',\n",
    "                  'singer_spotify_popularity',\n",
    "                  'total_albums',\n",
    "                  'top_1_related_artist',\n",
    "                  'top_2_related_artist',\n",
    "                  'top_3_related_artist'\n",
    "                 ]\n",
    "    writer = csv.DictWriter(csvfile, fieldnames=fieldnames)\n",
    "    writer.writeheader()\n",
    "    \n",
    "    \n",
    "# put the data in the csv\n",
    "    # Make a loop to search all the singer id in the dataset\n",
    "    for creator_id in creator_ids:\n",
    "        \n",
    "        # The result of the data releated to artist\n",
    "        artist = spotify.artist(creator_id)\n",
    "        \n",
    "        # The artist information of the album\n",
    "        artist_name = artist['name']\n",
    "        \n",
    "        creator_name == singer\n",
    "        artist_id = artist['id']\n",
    "        gg = artist['followers']\n",
    "        artist_followers = gg['total']\n",
    "        artist_popularity = artist['popularity']\n",
    "        \n",
    "        # The total albums of the singer has \n",
    "        uri = 'spotify:artist:'+ creator_id\n",
    "        total_albums_results = spotify.artist_albums(uri, album_type='album')\n",
    "        total_albums = total_albums_results['total']\n",
    "        \n",
    "        # The related artists of the singer\n",
    "        related_artists = spotify.artist_related_artists(artist_id)\n",
    "        #top 1 related Artists\n",
    "        top1 = related_artists['artists'][0]\n",
    "        top1_name= top1['name']\n",
    "        #top 2 related Artists\n",
    "        top2 = related_artists['artists'][1]\n",
    "        top2_name= top2['name']\n",
    "        #top 3 related Artists\n",
    "        top3 = related_artists['artists'][2]\n",
    "        top3_name= top3['name']\n",
    "        \n",
    "        # Put all the data we get into the csv\n",
    "        writer.writerow({\n",
    "                         'singer_name': artist_name, \n",
    "                         'singer_spotify_id': artist_id,\n",
    "                         'singer_spotify_followers': artist_followers,\n",
    "                         'singer_spotify_popularity': artist_popularity,                                           \n",
    "                    \n",
    "                         'total_albums': total_albums,\n",
    "                         \n",
    "                         'top_1_related_artist': top1_name,\n",
    "                         'top_2_related_artist': top2_name,\n",
    "                         'top_3_related_artist': top3_name,                \n",
    "                        })\n",
    "        print(creator_id,\":\", artist_id,':', artist_name)"
   ]
  },
  {
   "cell_type": "markdown",
   "metadata": {},
   "source": [
    "##### Related Singer's data"
   ]
  },
  {
   "cell_type": "code",
   "execution_count": 9,
   "metadata": {},
   "outputs": [],
   "source": [
    "# Get the singer id in album csv\n",
    "realted_artist_info =pd.read_csv('spotify_artist.csv')\n",
    "top_1_related = realted_artist_info['top_1_related_artist']"
   ]
  },
  {
   "cell_type": "code",
   "execution_count": 10,
   "metadata": {
    "scrolled": true
   },
   "outputs": [
    {
     "name": "stdout",
     "output_type": "stream",
     "text": [
      "The Veronicas : The Veronicas\n",
      "Camila Cabello : Camila Cabello\n",
      "Avril Lavigne : Avril Lavigne\n",
      "Nicki Minaj : Nicki Minaj\n",
      "Jeremih : Jeremih\n",
      "Niall Horan : Niall Horan\n",
      "Carly Rae Jepsen : Carly Rae Jepsen\n",
      "OneRepublic : OneRepublic\n",
      "Jason Derulo : Jason Derulo\n",
      "Selena Gomez : Selena Gomez\n"
     ]
    }
   ],
   "source": [
    "# Create a new csv to store the data related to song\n",
    "with open('spotify_song.csv', 'a+', newline='') as csvfile:\n",
    "    fieldnames = [\n",
    "                  'singer_name', \n",
    "                  'singer_spotify_id',\n",
    "                  'song_name',\n",
    "                  'song_id',\n",
    "                  'duration_ms',\n",
    "                  'song_popularity',\n",
    "                  'album_name',\n",
    "                  'album_id'\n",
    "                  ]\n",
    "    writer = csv.DictWriter(csvfile, fieldnames=fieldnames)    \n",
    "\n",
    "# put the data in the csv\n",
    "    # Make a loop to search all the singer name in the dataset  \n",
    "    for singer in top_1_related:\n",
    "        \n",
    "        # The result of the data releated to singer name          \n",
    "        results = spotify.search(q=singer, type='track')\n",
    "        result = results['tracks']\n",
    "        \n",
    "        # The most related song \n",
    "        track = result['items'][0]\n",
    "        \n",
    "        # The information of the song         \n",
    "        song_id = track['id']\n",
    "        song_name = track['name']\n",
    "        duration_ms = track['duration_ms']\n",
    "        song_popularity = track['popularity']\n",
    "        \n",
    "        # The artist information of the song\n",
    "        artist = track['artists'][0] \n",
    "        creator_id = artist['id']\n",
    "        creator_name = artist['name']\n",
    "        \n",
    "        # Create a loop in case the singer of the song is the second singer       \n",
    "        if creator_name == singer:\n",
    "            artist = track['artists'][0] \n",
    "            creator_id = artist['id']\n",
    "            creator_name = artist['name']\n",
    "        \n",
    "        \n",
    "        elif len(track['artists']) < 2:\n",
    "            creator_name = 'Brain'\n",
    "            \n",
    "        else:\n",
    "            artist = track['artists'][1] \n",
    "            creator_id = artist['id']\n",
    "            creator_name = artist['name']\n",
    "        \n",
    "            \n",
    "        # The album information of the song\n",
    "        album = track['album']\n",
    "        album_name = album['name']\n",
    "        album_id = album['id']\n",
    "        \n",
    "        # Put all the data we get into the csv\n",
    "        writer.writerow({'singer_name': creator_name, \n",
    "                         'singer_spotify_id':creator_id,\n",
    "                         'song_name':song_name,\n",
    "                         'song_id':song_id,\n",
    "                         'duration_ms':duration_ms,\n",
    "                         'song_popularity':song_popularity,\n",
    "                         'album_name':album_name,\n",
    "                         'album_id':album_id,\n",
    "                         })\n",
    "        print(singer,\":\", creator_name)"
   ]
  },
  {
   "cell_type": "code",
   "execution_count": 11,
   "metadata": {},
   "outputs": [],
   "source": [
    "# Get the singer id in album csv\n",
    "realted_artist_info =pd.read_csv('spotify_artist.csv')\n",
    "top_2_related = realted_artist_info['top_2_related_artist']"
   ]
  },
  {
   "cell_type": "code",
   "execution_count": 12,
   "metadata": {},
   "outputs": [
    {
     "name": "stdout",
     "output_type": "stream",
     "text": [
      "Ashlee Simpson : Ashlee Simpson\n",
      "ZAYN : ZAYN\n",
      "Kelly Clarkson : Kelly Clarkson\n",
      "Beyoncé : Beyoncé\n",
      "Trey Songz : Trey Songz\n",
      "ZAYN : ZAYN\n",
      "Troye Sivan : Troye Sivan\n",
      "The Script : The Script\n",
      "Jessie J : Jessie J\n",
      "Demi Lovato : Demi Lovato\n"
     ]
    }
   ],
   "source": [
    "# Create a new csv to store the data related to song\n",
    "with open('spotify_song.csv', 'a+', newline='') as csvfile:\n",
    "    fieldnames = ['singer_name', \n",
    "                  'singer_spotify_id',\n",
    "                  'song_name',\n",
    "                  'song_id',\n",
    "                  'duration_ms',\n",
    "                  'song_popularity',\n",
    "                  'album_name',\n",
    "                  'album_id'\n",
    "                  ]\n",
    "    writer = csv.DictWriter(csvfile, fieldnames=fieldnames)\n",
    "         \n",
    "# put the data in the csv\n",
    "    # Make a loop to search all the singer name in the dataset  \n",
    "    for singer in top_2_related:\n",
    "        \n",
    "        # The result of the data releated to singer name          \n",
    "        results = spotify.search(q=singer, type='track')\n",
    "        result = results['tracks']\n",
    "        \n",
    "        # The most related song \n",
    "        track = result['items'][0]\n",
    "        \n",
    "        # The information of the song         \n",
    "        song_id = track['id']\n",
    "        song_name = track['name']\n",
    "        duration_ms = track['duration_ms']\n",
    "        song_popularity = track['popularity']\n",
    "        \n",
    "        # The artist information of the song\n",
    "        artist = track['artists'][0] \n",
    "        creator_id = artist['id']\n",
    "        creator_name = artist['name']\n",
    "        \n",
    "        # Create a loop in case the singer of the song is the second singer       \n",
    "        if creator_name == singer:\n",
    "            artist = track['artists'][0] \n",
    "            creator_id = artist['id']\n",
    "            creator_name = artist['name']\n",
    "        \n",
    "        \n",
    "        elif len(track['artists']) < 2:\n",
    "            creator_name = 'Brain'\n",
    "            \n",
    "        else:\n",
    "            artist = track['artists'][1] \n",
    "            creator_id = artist['id']\n",
    "            creator_name = artist['name']\n",
    "        \n",
    "            \n",
    "        # The album information of the song\n",
    "        album = track['album']\n",
    "        album_name = album['name']\n",
    "        album_id = album['id']\n",
    "        \n",
    "        # Put all the data we get into the csv\n",
    "        writer.writerow({'singer_name': creator_name, \n",
    "                         'singer_spotify_id':creator_id,\n",
    "                         'song_name':song_name,\n",
    "                         'song_id':song_id,\n",
    "                         'duration_ms':duration_ms,\n",
    "                         'song_popularity':song_popularity,\n",
    "                         'album_name':album_name,\n",
    "                         'album_id':album_id,\n",
    "                         })\n",
    "        print(singer,\":\", creator_name)"
   ]
  },
  {
   "cell_type": "code",
   "execution_count": 13,
   "metadata": {},
   "outputs": [],
   "source": [
    "# Get the singer id in album csv\n",
    "realted_artist_info =pd.read_csv('spotify_artist.csv')\n",
    "top_3_related = realted_artist_info['top_3_related_artist']"
   ]
  },
  {
   "cell_type": "code",
   "execution_count": 14,
   "metadata": {},
   "outputs": [
    {
     "name": "stdout",
     "output_type": "stream",
     "text": [
      "Hilary Duff : Hilary Duff\n",
      "Dua Lipa : Dua Lipa\n",
      "Selena Gomez & The Scene : Selena Gomez & The Scene\n",
      "Miley Cyrus : Miley Cyrus\n",
      "Mario : Mario\n",
      "Liam Payne : Liam Payne\n",
      "Kim Petras : Kim Petras\n",
      "Train : Train\n",
      "Sean Kingston : Sean Kingston\n",
      "Miley Cyrus : Miley Cyrus\n"
     ]
    }
   ],
   "source": [
    "# Create a new csv to store the data related to song\n",
    "with open('spotify_song.csv', 'a+', newline='') as csvfile:\n",
    "    fieldnames = ['singer_name', \n",
    "                  'singer_spotify_id',\n",
    "                  'song_name',\n",
    "                  'song_id',\n",
    "                  'duration_ms',\n",
    "                  'song_popularity',\n",
    "                  'album_name',\n",
    "                  'album_id'\n",
    "                  ]\n",
    "    writer = csv.DictWriter(csvfile, fieldnames=fieldnames)\n",
    "    \n",
    "# put the data in the csv\n",
    "    # Make a loop to search all the singer name in the dataset  \n",
    "    for singer in top_3_related:\n",
    "        \n",
    "        # The result of the data releated to singer name          \n",
    "        results = spotify.search(q=singer, type='track')\n",
    "        result = results['tracks']\n",
    "        \n",
    "        # The most related song \n",
    "        track = result['items'][0]\n",
    "        \n",
    "        # The information of the song         \n",
    "        song_id = track['id']\n",
    "        song_name = track['name']\n",
    "        duration_ms = track['duration_ms']\n",
    "        song_popularity = track['popularity']\n",
    "        \n",
    "        # The artist information of the song\n",
    "        artist = track['artists'][0] \n",
    "        creator_id = artist['id']\n",
    "        creator_name = artist['name']\n",
    "        \n",
    "        # Create a loop in case the singer of the song is the second singer       \n",
    "        if creator_name == singer:\n",
    "            artist = track['artists'][0] \n",
    "            creator_id = artist['id']\n",
    "            creator_name = artist['name']\n",
    "        \n",
    "        \n",
    "        elif len(track['artists']) < 2:\n",
    "            creator_name = 'Cash Cash'\n",
    "            \n",
    "        elif singer == 'Juicy J' :\n",
    "            creator_name = 'Juicy J'\n",
    "            \n",
    "        else:\n",
    "            artist = track['artists'][1] \n",
    "            creator_id = artist['id']\n",
    "            creator_name = artist['name']\n",
    "        \n",
    "            \n",
    "        # The album information of the song\n",
    "        album = track['album']\n",
    "        album_name = album['name']\n",
    "        album_id = album['id']\n",
    "        \n",
    "        # Put all the data we get into the csv\n",
    "        writer.writerow({'singer_name': creator_name, \n",
    "                         'singer_spotify_id':creator_id,\n",
    "                         'song_name':song_name,\n",
    "                         'song_id':song_id,\n",
    "                         'duration_ms':duration_ms,\n",
    "                         'song_popularity':song_popularity,\n",
    "                         'album_name':album_name,\n",
    "                         'album_id':album_id,\n",
    "                         })\n",
    "        print(singer,\":\", creator_name)"
   ]
  },
  {
   "cell_type": "code",
   "execution_count": 15,
   "metadata": {},
   "outputs": [],
   "source": [
    "# Get the album id in song csv\n",
    "album_info =pd.read_csv('spotify_song.csv')\n",
    "album_ids = album_info['album_id']"
   ]
  },
  {
   "cell_type": "code",
   "execution_count": 16,
   "metadata": {
    "scrolled": true
   },
   "outputs": [
    {
     "name": "stdout",
     "output_type": "stream",
     "text": [
      "3zXjR3y2dUWklKmmp6lEhy : 3zXjR3y2dUWklKmmp6lEhy\n",
      "2fYhqwDWXjbpjaIJPEfKFw : 2fYhqwDWXjbpjaIJPEfKFw\n",
      "5MQBzs5YlZlE28mD9yUItn : 5MQBzs5YlZlE28mD9yUItn\n",
      "3Q149ZH46Z0f3oDR7vlDYV : 3Q149ZH46Z0f3oDR7vlDYV\n",
      "0JOT3Ff4gJ939hqdeEpsZv : 0JOT3Ff4gJ939hqdeEpsZv\n",
      "6Fr2rQkZ383FcMqFyT7yPr : 6Fr2rQkZ383FcMqFyT7yPr\n",
      "4sLtOBOzn4s3GDUv3c5oJD : 4sLtOBOzn4s3GDUv3c5oJD\n",
      "75iQSBSaztFIAun9qLLCnb : 75iQSBSaztFIAun9qLLCnb\n",
      "4PgleR09JVnm3zY1fW3XBA : 4PgleR09JVnm3zY1fW3XBA\n",
      "6DEjYFkNZh67HP7R9PSZvv : 6DEjYFkNZh67HP7R9PSZvv\n",
      "6aL2SwYj5kSEvIcYORHP37 : 6aL2SwYj5kSEvIcYORHP37\n",
      "6hCR3zQtRH0IgookOYt771 : 6hCR3zQtRH0IgookOYt771\n",
      "3zXjR3y2dUWklKmmp6lEhy : 3zXjR3y2dUWklKmmp6lEhy\n",
      "03KcW1ZhaSnj8pIk1LUNQs : 03KcW1ZhaSnj8pIk1LUNQs\n",
      "7DMyQuDPe8xzjC0UDSDa96 : 7DMyQuDPe8xzjC0UDSDa96\n",
      "1xJ7jIK1tT0aVoJw1fPE6r : 1xJ7jIK1tT0aVoJw1fPE6r\n",
      "29blfJv8AddJrjuG3DpE13 : 29blfJv8AddJrjuG3DpE13\n",
      "49vus1VCWc7AbgDmKYb8SC : 49vus1VCWc7AbgDmKYb8SC\n",
      "2e5CxfyEwBW115beiwh7Mc : 2e5CxfyEwBW115beiwh7Mc\n",
      "0ZHyvPke0EcVt6rYA8Ins3 : 0ZHyvPke0EcVt6rYA8Ins3\n",
      "0w11HUk0hE4WZ95Bvp6vNI : 0w11HUk0hE4WZ95Bvp6vNI\n",
      "5l5gR4rh26QI3fijGFTDrp : 5l5gR4rh26QI3fijGFTDrp\n",
      "5gDAEao3VxFdbm8vS0koQq : 5gDAEao3VxFdbm8vS0koQq\n",
      "39P7VD7qlg3Z0ltq60eHp7 : 39P7VD7qlg3Z0ltq60eHp7\n",
      "1LShhEEKRT5MNPcO7jtYHh : 1LShhEEKRT5MNPcO7jtYHh\n",
      "5l5gR4rh26QI3fijGFTDrp : 5l5gR4rh26QI3fijGFTDrp\n",
      "13yMsBNa2femeWzhcDOqFw : 13yMsBNa2femeWzhcDOqFw\n",
      "51Hn2Wiq1jmUfI0BLaUhuF : 51Hn2Wiq1jmUfI0BLaUhuF\n",
      "2rDIivxBafNKpgRqlzIRSb : 2rDIivxBafNKpgRqlzIRSb\n",
      "1q7a5wZeti0neU2jDn8Dz3 : 1q7a5wZeti0neU2jDn8Dz3\n",
      "2zfZe8P8jg53kZaAfCdBYs : 2zfZe8P8jg53kZaAfCdBYs\n",
      "429B3se6xtZuvblNnS2iy7 : 429B3se6xtZuvblNnS2iy7\n",
      "49yHvRh1cOfLcEKukEP7Ox : 49yHvRh1cOfLcEKukEP7Ox\n",
      "2hBfao8GWZwHlUGDB8HVQO : 2hBfao8GWZwHlUGDB8HVQO\n",
      "7EXstuWka51pNFzEAidEol : 7EXstuWka51pNFzEAidEol\n",
      "4PrFFsJ2WAD46IXNdfx2dx : 4PrFFsJ2WAD46IXNdfx2dx\n",
      "4HbNtklEO6XJv638wZ1MZg : 4HbNtklEO6XJv638wZ1MZg\n",
      "1CwXS6MAz8Wo7K4TzW9iuR : 1CwXS6MAz8Wo7K4TzW9iuR\n",
      "71clfVkkopYLrgweVj2cow : 71clfVkkopYLrgweVj2cow\n",
      "2hBfao8GWZwHlUGDB8HVQO : 2hBfao8GWZwHlUGDB8HVQO\n"
     ]
    }
   ],
   "source": [
    "# Create a new csv to store the data related to album\n",
    "with open('spotify_album.csv', 'w', newline='') as csvfile:\n",
    "    fieldnames = [\n",
    "        'singer_name',\n",
    "                  'singer_spotify_id',\n",
    "                  'album_name',\n",
    "                  'album_id',\n",
    "                  'album_date',\n",
    "                  'total_tracks'\n",
    "    ]\n",
    "    writer = csv.DictWriter(csvfile, fieldnames=fieldnames)\n",
    "    writer.writeheader()\n",
    "    \n",
    "\n",
    "# put the data in the csv\n",
    "    # Make a loop to search all the album id in the dataset\n",
    "    for album_idd in album_ids:\n",
    "        \n",
    "        # The result of the data releated to album\n",
    "        album_item = spotify.album(album_idd)\n",
    "        \n",
    "        # The artist information of the album\n",
    "        bb = album_item['artists'][0]\n",
    "        album_creator = bb['name']\n",
    "        album_creator_id = bb['id']\n",
    "        \n",
    "        # The album information of the song\n",
    "        album_name = album_item['name']\n",
    "        album_id = album_item['id']\n",
    "        album_date = album_item['release_date']\n",
    "        total_tracks = album_item['total_tracks']\n",
    "        \n",
    "        \n",
    "        # Put all the data we get into the csv\n",
    "        writer.writerow({\n",
    "                         'singer_name': album_creator,\n",
    "                         'singer_spotify_id': album_creator_id,\n",
    "                         'album_name': album_name,\n",
    "                         'album_id': album_id,\n",
    "                         'album_date': album_date, \n",
    "                         'total_tracks': total_tracks\n",
    "                        })\n",
    "        print(album_idd,\":\", album_id)"
   ]
  },
  {
   "cell_type": "markdown",
   "metadata": {},
   "source": [
    "### 3. Company Data"
   ]
  },
  {
   "cell_type": "code",
   "execution_count": 1,
   "metadata": {},
   "outputs": [],
   "source": [
    "# Inpit the download data\n",
    "import pandas as pd"
   ]
  },
  {
   "cell_type": "code",
   "execution_count": 2,
   "metadata": {
    "scrolled": false
   },
   "outputs": [
    {
     "data": {
      "text/html": [
       "<div>\n",
       "<style scoped>\n",
       "    .dataframe tbody tr th:only-of-type {\n",
       "        vertical-align: middle;\n",
       "    }\n",
       "\n",
       "    .dataframe tbody tr th {\n",
       "        vertical-align: top;\n",
       "    }\n",
       "\n",
       "    .dataframe thead th {\n",
       "        text-align: right;\n",
       "    }\n",
       "</style>\n",
       "<table border=\"1\" class=\"dataframe\">\n",
       "  <thead>\n",
       "    <tr style=\"text-align: right;\">\n",
       "      <th></th>\n",
       "      <th>Company Name</th>\n",
       "      <th>Date of establishment</th>\n",
       "      <th>Artists</th>\n",
       "      <th>Typical Artists</th>\n",
       "    </tr>\n",
       "  </thead>\n",
       "  <tbody>\n",
       "    <tr>\n",
       "      <th>0</th>\n",
       "      <td>Sony Music Entertainment Inc.</td>\n",
       "      <td>02/02/1998</td>\n",
       "      <td>56</td>\n",
       "      <td>Joan Jett</td>\n",
       "    </tr>\n",
       "    <tr>\n",
       "      <th>1</th>\n",
       "      <td>RCA Rcords</td>\n",
       "      <td>03/04/2002</td>\n",
       "      <td>32</td>\n",
       "      <td>Avril Lavigne</td>\n",
       "    </tr>\n",
       "    <tr>\n",
       "      <th>2</th>\n",
       "      <td>Arista Records</td>\n",
       "      <td>01/04/2001</td>\n",
       "      <td>42</td>\n",
       "      <td>Brett James</td>\n",
       "    </tr>\n",
       "    <tr>\n",
       "      <th>3</th>\n",
       "      <td>Epic Records</td>\n",
       "      <td>04/09/2001</td>\n",
       "      <td>34</td>\n",
       "      <td>Mariah Carey</td>\n",
       "    </tr>\n",
       "    <tr>\n",
       "      <th>4</th>\n",
       "      <td>Nettwerk</td>\n",
       "      <td>09/08/2008</td>\n",
       "      <td>23</td>\n",
       "      <td>Coldplay</td>\n",
       "    </tr>\n",
       "    <tr>\n",
       "      <th>5</th>\n",
       "      <td>Def Jam Recordings</td>\n",
       "      <td>10/12/2009</td>\n",
       "      <td>56</td>\n",
       "      <td>Rihanna</td>\n",
       "    </tr>\n",
       "    <tr>\n",
       "      <th>6</th>\n",
       "      <td>Big Machine Records</td>\n",
       "      <td>10/11/1999</td>\n",
       "      <td>23</td>\n",
       "      <td>Taylor Swift</td>\n",
       "    </tr>\n",
       "    <tr>\n",
       "      <th>7</th>\n",
       "      <td>CAPITOL RECORDS.</td>\n",
       "      <td>09/10/1997</td>\n",
       "      <td>29</td>\n",
       "      <td>katy Perry</td>\n",
       "    </tr>\n",
       "    <tr>\n",
       "      <th>8</th>\n",
       "      <td>Interscope Records</td>\n",
       "      <td>12/12/2002</td>\n",
       "      <td>32</td>\n",
       "      <td>Maroon5</td>\n",
       "    </tr>\n",
       "    <tr>\n",
       "      <th>9</th>\n",
       "      <td>Atlantic Records</td>\n",
       "      <td>06/12/1999</td>\n",
       "      <td>19</td>\n",
       "      <td>Bruno Mars</td>\n",
       "    </tr>\n",
       "    <tr>\n",
       "      <th>10</th>\n",
       "      <td>Republic Records</td>\n",
       "      <td>02/04/1997</td>\n",
       "      <td>23</td>\n",
       "      <td>Ariana Grande</td>\n",
       "    </tr>\n",
       "  </tbody>\n",
       "</table>\n",
       "</div>"
      ],
      "text/plain": [
       "                     Company Name Date of establishment  Artists   \\\n",
       "0   Sony Music Entertainment Inc.            02/02/1998        56   \n",
       "1                      RCA Rcords            03/04/2002        32   \n",
       "2                  Arista Records            01/04/2001        42   \n",
       "3                    Epic Records            04/09/2001        34   \n",
       "4                        Nettwerk            09/08/2008        23   \n",
       "5              Def Jam Recordings            10/12/2009        56   \n",
       "6             Big Machine Records            10/11/1999        23   \n",
       "7                CAPITOL RECORDS.            09/10/1997        29   \n",
       "8              Interscope Records            12/12/2002        32   \n",
       "9                Atlantic Records            06/12/1999        19   \n",
       "10               Republic Records            02/04/1997        23   \n",
       "\n",
       "   Typical Artists  \n",
       "0        Joan Jett  \n",
       "1    Avril Lavigne  \n",
       "2      Brett James  \n",
       "3     Mariah Carey  \n",
       "4         Coldplay  \n",
       "5          Rihanna  \n",
       "6     Taylor Swift  \n",
       "7       katy Perry  \n",
       "8          Maroon5  \n",
       "9       Bruno Mars  \n",
       "10   Ariana Grande  "
      ]
     },
     "execution_count": 2,
     "metadata": {},
     "output_type": "execute_result"
    }
   ],
   "source": [
    "df = pd.read_csv('company_data.csv')\n",
    "df"
   ]
  },
  {
   "cell_type": "markdown",
   "metadata": {},
   "source": [
    "## Part I - Conceptual Model"
   ]
  },
  {
   "cell_type": "markdown",
   "metadata": {},
   "source": [
    "### A domain \n",
    "We select music as the domain. \n",
    "\n",
    "### Conceptual models (entities) \n",
    "- For the song entity, it contains attributes of name, singer, album and runtime. A song only belongs to one album and one album contains one or more songs. \n",
    "- For the album entity, it contains attributes of name, singer and release year. It can be produced by one or more producers and one producer can produce one more albums. It only can be performed by one singer and one singer can perform one or more albums. \n",
    "- For the Record Company entity, it contains attributes of name and date of establishment. It has one or more singers and each singer only belongs to one company. It also has one or more producers and each producer only belongs to one record company.\n",
    "- For the singer entity, it contains attributes of name, gender and DOB. One singer can have zero or more Twitter account and one Twitte account can be only owned by one singer. \n",
    "- For the Twitter User, it contains attributes of username and user ID. The user ID is the primary key. One Twitter User can post zero or more threads and one thread only can be posted by one user. Also, one user can only post one profile and one profile can only can owned by one user. The attributes of the Twitter post are user name as foreign key, Post ID as the primary key and Post time. The attributes of Twitter Profile are first name, last name, age, graduate school and gender. \n"
   ]
  },
  {
   "cell_type": "markdown",
   "metadata": {},
   "source": [
    "![ERD](images/ERD.png) "
   ]
  },
  {
   "cell_type": "markdown",
   "metadata": {},
   "source": [
    "### Questions you must answer about your conceptual model:\n",
    "1.\tWhat are the ranges, data types and format of all of the attributes in your entities?\n",
    "    - Ranges of the string is 50. The data types and format we are using is string, date, double, int. \n",
    "\n",
    "\n",
    "2.\tWhen should you use an entity versus attribute? (Example: address of a person could be modeled as either)\n",
    "    - Use entity when I have access to more relatd data, and the data itself has strong relationship with the existing entity. Use attribute when I get this data without other related data.  \n",
    "    \n",
    "    \n",
    "3.\tWhen should you use an entity or relationship, and placement of attributes? (Example: a manager could be modeled as either)\n",
    "    - Like in our case, twitter user and twitter post are entities, but these two still have relationship between each other. So twitter user's username will be a foreign key in twitter post entity.\n",
    "    \n",
    "    \n",
    "4.\tHow did you choose your keys? Which are unique?\n",
    "    - Primary key should be a unique identifier that without null value. And foreign key is a key in one table that uniquely identifies a row of another table or the same table.\n",
    "    \n",
    "    \n",
    "5.\tDid you model hierarchies using the “ISA” design element? Why or why not?\n",
    "    - No, because in our model, the entity don't has that kind of relationship.\n",
    "    \n",
    "    \n",
    "6.\tWere there design alternatives? What are their tradeoffs: entity vs. attribute, entity vs. relationship, binary vs. ternary relationships?\n",
    "    - Yes, they are alternative, like each attribute can be a entity if we can get enough data related to that attibutes. \n",
    "    \n",
    "    \n",
    "7.\tWhere are you going to find real-world data to populate your model?\n",
    "    - I can get the data by using API from different social media.\n"
   ]
  },
  {
   "cell_type": "markdown",
   "metadata": {},
   "source": [
    "## Part I - Social Media Account"
   ]
  },
  {
   "cell_type": "markdown",
   "metadata": {},
   "source": [
    "### Updated Conceptual models\n",
    "- Each singer has one record company, one twitter account, one spotify account, and created many songs and albums.\n",
    "- Each record company has many singers.\n",
    "- Each song has one singer. And each song belong to one album.\n",
    "- Each album has many songs. And each album belong to one singer.\n",
    "- Each twitter account has one most popular post, and many 24hr posts. And each twitter belong to one singer.\n",
    "- Each most popular post created by one twitter account.\n",
    "- Each 24hr post are created by one twitter account."
   ]
  },
  {
   "cell_type": "markdown",
   "metadata": {},
   "source": [
    "![ERD_update](images/ERD_update.png) "
   ]
  },
  {
   "cell_type": "markdown",
   "metadata": {},
   "source": [
    "## Part II - Physical Model"
   ]
  },
  {
   "cell_type": "markdown",
   "metadata": {},
   "source": [
    "### Create the database\n",
    "\n",
    "```sql\n",
    "create table Twitter_singers (\n",
    "singer_id varchar(50) primary key,\n",
    "singer_name varchar(50),\n",
    "singer_url varchar(2000),\n",
    "singer_description varchar(1000),\n",
    "singer_followers_count varchar(50)\n",
    ");\n",
    "\n",
    "drop table Twitter_singers;\n",
    "SHOW VARIABLES LIKE \"secure_file_priv\";\n",
    "\n",
    "sHOW GLOBAL VARIABLES LIKE 'local_infile';\n",
    "SET GLOBAL local_infile = 'ON';\n",
    "SHOW GLOBAL VARIABLES LIKE 'local_infile';\n",
    "\n",
    "LOAD DATA local INFILE '/Users/cyyo/Desktop/twitter_singers.csv'\n",
    "INTO TABLE Twitter_singers\n",
    "CHARACTER SET latin1\n",
    "FIELDS TERMINATED BY ',' \n",
    "ENCLOSED BY '\"' \n",
    "LINES TERMINATED BY '\\r\\n'\n",
    "IGNORE 1 LINES;\n",
    "\n",
    "SELECT * FROM Twitter_singers;\n",
    "\n",
    "create table Company_data (\n",
    "Company_name varchar(50) primary key,\n",
    "Date_of_establishment varchar(50),\n",
    "Artists_number INTEGER,\n",
    "Typical_singers varchar(100)\n",
    ");\n",
    "\n",
    "LOAD DATA local INFILE '/Users/cyyo/Desktop/company_data.csv'\n",
    "INTO TABLE Company_data\n",
    "CHARACTER SET latin1\n",
    "FIELDS TERMINATED BY ',' \n",
    "ENCLOSED BY '\"' \n",
    "LINES TERMINATED BY '\\r\\n'\n",
    "IGNORE 1 LINES;\n",
    "\n",
    "\n",
    "SELECT * FROM Company_data;\n",
    "\n",
    "create table Spotify_singer_Account (\n",
    "Spotify_singer_name varchar(50),\n",
    "Spotify_singer_ID varchar(50) primary key,\n",
    "Spotify_singer_followers INTEGER,\n",
    "singer_spotify_popularity integer,\n",
    "Spotify_singer_total_albums INTEGER,\n",
    "Spotify_singer_top_1_related_artist varchar(50),\n",
    "Spotify_singer_top_2_related_artist varchar(50),\n",
    "Spotify_singer_top_3_related_artist varchar(50)\n",
    ");\n",
    "drop table Spotify_singer_Account;\n",
    "LOAD DATA local INFILE '/Users/cyyo/Desktop/spotify_artist.csv'\n",
    "INTO TABLE Spotify_singer_Account\n",
    "CHARACTER SET latin1\n",
    "FIELDS TERMINATED BY ',' \n",
    "ENCLOSED BY '\"' \n",
    "LINES TERMINATED BY '\\r\\n'\n",
    "IGNORE 1 LINES;\n",
    "\n",
    "\n",
    "SELECT * FROM Spotify_singer_Account;\n",
    "\n",
    "\n",
    "create table Spotify_album (\n",
    "singer_name varchar(50) ,\n",
    "singer_id varchar(50),\n",
    "album_name varchar(50),\n",
    "album_id varchar(50) primary key,\n",
    "album_relase_date varchar(100),\n",
    "total_tracks Integer\n",
    ");\n",
    "drop table Spotify_album;\n",
    "LOAD DATA local INFILE '/Users/cyyo/Desktop/spotify_album.csv'\n",
    "INTO TABLE Spotify_album\n",
    "CHARACTER SET latin1\n",
    "FIELDS TERMINATED BY ',' \n",
    "ENCLOSED BY '\"' \n",
    "LINES TERMINATED BY '\\r\\n'\n",
    "IGNORE 1 LINES;\n",
    "\n",
    "\n",
    "SELECT * FROM Spotify_album;\n",
    "\n",
    "create table Spotify_songs (\n",
    "singer_name varchar(50) ,\n",
    "singer_id varchar(50),\n",
    "song_name varchar(50),\n",
    "song_id varchar(100) primary key,\n",
    "duration_ms Integer,\n",
    "song_popularity integer,\n",
    "album_name varchar(50),\n",
    "album_id varchar(50)\n",
    "\n",
    ");\n",
    "drop table Spotify_songs;\n",
    "LOAD DATA local INFILE '/Users/cyyo/Desktop/spotify_song.csv'\n",
    "INTO TABLE Spotify_songs\n",
    "CHARACTER SET latin1\n",
    "FIELDS TERMINATED BY ',' \n",
    "ENCLOSED BY '\"' \n",
    "LINES TERMINATED BY '\\r\\n'\n",
    "IGNORE 1 LINES;\n",
    "\n",
    "\n",
    "SELECT * FROM Spotify_songs;\n",
    "\n",
    "create table twitter_post (\n",
    "singer_name varchar(50),\n",
    "most_popular_post_ID varchar(50) primary key,\n",
    "post_content varchar(200),\n",
    "post_time varchar(100),\n",
    "post_retweet_count Integer\n",
    ");\n",
    "drop table twitter_post;\n",
    "LOAD DATA local INFILE '/Users/cyyo/Desktop/twitter_post.csv'\n",
    "INTO TABLE twitter_post\n",
    "CHARACTER SET latin1\n",
    "FIELDS TERMINATED BY ',' \n",
    "ENCLOSED BY '\"' \n",
    "LINES TERMINATED BY '\\r\\n'\n",
    "IGNORE 1 LINES;\n",
    "\n",
    "\n",
    "SELECT * FROM twitter_post;\n",
    "\n",
    "\n",
    "create table 24hr_twitter_post (\n",
    "singer_name varchar(50),\n",
    "recnet_post_ID varchar(50) primary key,\n",
    "recnet_post_content varchar(200),\n",
    "recnet_post_time varchar(100),\n",
    "recnet_post_retweet_count Integer\n",
    ");\n",
    "drop table 24hr_twitter_post;\n",
    "LOAD DATA local INFILE '/Users/cyyo/Desktop/recent_24hr.csv'\n",
    "INTO TABLE 24hr_twitter_post\n",
    "CHARACTER SET latin1\n",
    "FIELDS TERMINATED BY ',' \n",
    "ENCLOSED BY '\"' \n",
    "LINES TERMINATED BY '\\r\\n'\n",
    "IGNORE 1 LINES;\n",
    "\n",
    "\n",
    "SELECT * FROM 24hr_twitter_post;\n",
    "```"
   ]
  },
  {
   "cell_type": "markdown",
   "metadata": {},
   "source": [
    "### Phsical Model\n",
    "![physical model](images/physical.png) "
   ]
  },
  {
   "cell_type": "markdown",
   "metadata": {},
   "source": [
    "### Queries you must answer about your physical model (In SQL):\n",
    "1.\tWhat user posted this (e.g. tweet, facebook post, IG post, etc.)?\n",
    "    - Twitter singers name data from the  Twitter singers entity.\n",
    "    \n",
    "    \n",
    "2.\tWhen did the user post this (e.g. tweet, facebook post, IG post, etc.)??\n",
    "    -  recent_post_time data from 24hr Twitter Post entity.\n",
    "    \n",
    "    \n",
    "3.\tWhat posts has this user posted in the past 24 hours?\n",
    "    - recent_post_content from 24hr Twitter Post entity.\n",
    "    \n",
    "    \n",
    "4.\tHow many post has this user posted in the past 24 hours?\n",
    "    - Different Twitter singers have different results.\n",
    "    \n",
    "    \n",
    "5.\tWhat keywords/ hashtags are popular?\n",
    "    - Judge by retweets of the most popular post result, keywords\"BTS\", \"Chris Brown\", \"Seventeen\"are popular.\n",
    "    \n",
    "    \n",
    "6.\tWhat posts are popular?\n",
    "    - post_content from Twitter post. (which is the most popular post)\n",
    "    \n",
    "    "
   ]
  },
  {
   "cell_type": "markdown",
   "metadata": {},
   "source": [
    "## Part II - Use Cases"
   ]
  },
  {
   "cell_type": "markdown",
   "metadata": {},
   "source": [
    "### Use Case 1 <br>\n",
    "Description: Get all the Twitter singers' name who are the typical singers the the all ompany data."
   ]
  },
  {
   "cell_type": "markdown",
   "metadata": {},
   "source": [
    "```sql\n",
    "SELECT s.singer_name,c.Company_name\n",
    "FROM (Twitter_singers s inner JOIN Company_data c ON c.Typical_singers = s.singer_name)\n",
    "ORDER BY s.singer_name DESC\n",
    "LIMIT 10;\n",
    "```\n",
    "\n",
    "```\n",
    "+---------------+---------------------+\n",
    "| singer_name   | Company_name        |\n",
    "|---------------|---------------------|\n",
    "| Taylor Swift  | Big Machine Records |\n",
    "| Rihanna       | Def Jam Recordings  |\n",
    "| KATY PERRY    | CAPITOL RECORDS.    |\n",
    "| Bruno Mars    | Atlantic Records    |\n",
    "| Avril Lavigne | RCA Rcords          |\n",
    "| Ariana Grande | Republic Records    |\n",
    "+---------------+---------------------+\n",
    "```"
   ]
  },
  {
   "cell_type": "markdown",
   "metadata": {},
   "source": [
    "### Use Case 2 <br>\n",
    "Description: Get the most popular post content for the Twitter singers"
   ]
  },
  {
   "cell_type": "markdown",
   "metadata": {},
   "source": [
    "```sql\n",
    "SELECT s.singer_name,p.most_popular_post_ID,p.post_content\n",
    "FROM (Twitter_singers s left JOIN twitter_post p ON s.singer_name = p.singer_name)\n",
    "ORDER BY p.most_popular_post_ID DESC\n",
    "LIMIT 8;\n",
    "```\n",
    "\n",
    "```\n",
    "+---------------+----------------------+--------------------------------------------------------------------------------------------------------------------------------------------------------+\n",
    "| singer_name   | most_popular_post_ID | post_content                                                                                                                                           |\n",
    "+---------------+----------------------+--------------------------------------------------------------------------------------------------------------------------------------------------------+\n",
    "| Ariana Grande | 1102985085719068672  | love someone in your life as much as Jake Tapper loves the US war machine. Man is always there like one of those we… https://t.co/IGhzrnYeWo           |\n",
    "| KATY PERRY    | 1102866539433254918  | hi I’m wide awake and I can never say that without singing the katy perry song....lol                                                                  |\n",
    "| Avril Lavigne | 1102763914368970752  | \"I saw a lot of friends disappear,\" @AvrilLavigne says of her battle with #Lyme disease. \"Now I keep my group small… https://t.co/EfNotExPk3           |\n",
    "| Taylor Swift  | 1102697124830085120  | Strength of both 2019 draft &amp; 2019 free agency is defensive line. Good FA group for DTs &amp; 3-4 DE types even with Gr… https://t.co/YIUij4oP9n   |\n",
    "| Chris Brown   | 1102692675231330304  | I'm glad Lady Gaga didn't stay in her lane. Same for Chris Jericho,Justin Timberlake, Mark Wahlberg,The Rock,etc. A… https://t.co/zqCpkS6wd5           |\n",
    "| Justin Bieber | 1102670872010207235  | Cardi B's new video delivers East L.A. tacos and Bruno Mars:\n",
    "\n",
    "https://t.co/FpLKl5Kx7w https://t.co/2wv7NFwulz                                          |\n",
    "| Rihanna       | 1102548147497287680  | Report: Rihanna To Sell Office Supplies &amp; Garden Ware https://t.co/oGrLduJRuX https://t.co/5OYO85JaKS                                              |\n",
    "| Maroon 5      | 1102468355762532352  | When is Justin Bieber gonna release new music                                                                                                          |\n",
    "+---------------+----------------------+--------------------------------------------------------------------------------------------------------------------------------------------------------+\n",
    "```"
   ]
  },
  {
   "cell_type": "markdown",
   "metadata": {},
   "source": [
    "### Use Case 3 <br>\n",
    "Description: Get the Twitter singers' recent post content in 24 hours "
   ]
  },
  {
   "cell_type": "markdown",
   "metadata": {},
   "source": [
    "```sql\n",
    "SELECT s.singer_name,o.recnet_post_ID,o.recnet_post_content\n",
    "FROM (Twitter_singers s left JOIN 24hr_twitter_post o ON s.singer_name = o.singer_name)\n",
    "ORDER BY o.recnet_post_ID DESC\n",
    "LIMIT 10;\n",
    "```\n",
    "\n",
    "```\n",
    "+---------------+----------------+--------------------------------------------------------------------------------------------------------------------------------------------------------------------------+\n",
    "| singer_name   | recnet_post_ID | recnet_post_content                                                                                                                                                      |\n",
    "+---------------+----------------+--------------------------------------------------------------------------------------------------------------------------------------------------------------------------+\n",
    "| Taylor Swift  | 9.70649E+17    | â¨â¨â¨â¨â¨â¨â¨â¨â¨â¨â¨â¨â¨ https://t.co/KHNRCaKfU0                                                                                                          |\n",
    "| Ariana Grande | 1.10293E+18    | Ť @starbucks cloud #cloudmacchiato #starbucksambassador #trythesoyversion ą https://t.co/y2LRAx33Sq                                                                  |\n",
    "| KATY PERRY    | 1.10243E+18    | One of my favorite #AmericanIdol moments: turning uncle @LionelRichie into FASHUN ź                                                                                 |\n",
    "| Bruno Mars    | 1.1017E+18     | Whatâs the plot tho? https://t.co/eh6m7hHB6Z                                                                                                                           |\n",
    "| Maroon 5      | 1.10022E+18    | RT @maroon5: Blown away by these submissions on @yarntexts! Check out our favorites from \"Girls Like Youâ! https://t.co/IeEZT9vX0Z https://âŚ\"                        |\n",
    "| Avril Lavigne | 1.09793E+18    | ¤icon. Youâre truly missed. https://t.co/8roMHjW70o                                                                                                                  |\n",
    "| Lady Gaga     | 1.09473E+18    | ­â¤ď¸a Grammy for Joanne is more than me &amp; my family could ever dream of. I sang that version in one take, &amp; poured mâŚ https://t.co/QeiWEjfjF0             |\n",
    "| Chris Brown   | 1.08675E+18    | #Undecided has hit @ministryofsoundâs R&amp;B Mixtape playlist! Stream exclusively on @applemusic now! \n",
    "Playlist link:âŚ https://t.co/bIZ89gxkGs                      |\n",
    "| Rihanna       | 1.08196E+18    | For the â¤ď¸ of X. Get ready for @savagexfenty's Valentine's Day styles - out Jan. 9th! https://t.co/oG4Xocxo9a                                                        |\n",
    "| Justin Bieber | 1.05745E+18    | @torikelly I have listened to this album 10 times in a row. Incredible                                                                                                   |\n",
    "+---------------+----------------+--------------------------------------------------------------------------------------------------------------------------------------------------------------------------+                                                          \n",
    "```"
   ]
  },
  {
   "cell_type": "markdown",
   "metadata": {},
   "source": [
    "### Use Case 4 <br>\n",
    "Description: Get all the albums name and id from the Spotify singers'"
   ]
  },
  {
   "cell_type": "markdown",
   "metadata": {},
   "source": [
    "```sql\n",
    "SELECT s.Spotify_singer_name,o.album_id,o.album_name \n",
    "FROM (Spotify_singer_Account s left JOIN Spotify_album o ON s.Spotify_singer_name = o.singer_name)\n",
    "ORDER BY o.album_id DESC\n",
    "LIMIT 10;\n",
    "```\n",
    "\n",
    "```\n",
    "+---------------------+------------------------+--------------------------------+\n",
    "| Spotify_singer_name | album_id               | album_name                     | \n",
    "|---------------------|------------------------|--------------------------------|\n",
    "| Maroon 5            | 75iQSBSaztFIAun9qLLCnb | Girls Like You (feat. Cardi B) |  \n",
    "| Justin Bieber       | 6Fr2rQkZ383FcMqFyT7yPr | Purpose (Deluxe)               |  \n",
    "| Taylor Swift        | 6DEjYFkNZh67HP7R9PSZvv | reputation                     |  \n",
    "| Katy Perry          | 5MQBzs5YlZlE28mD9yUItn | PRISM (Deluxe)                 |  \n",
    "| Lady Gaga           | 4sLtOBOzn4s3GDUv3c5oJD | A Star Is Born Soundtrack      |  \n",
    "| Bruno Mars          | 4PgleR09JVnm3zY1fW3XBA | 24K Magic                      |   \n",
    "| Avril Lavigne       | 3zXjR3y2dUWklKmmp6lEhy | Let Go                         |   \n",
    "| Rihanna             | 3Q149ZH46Z0f3oDR7vlDYV | ANTI                           |   \n",
    "| Ariana Grande       | 2fYhqwDWXjbpjaIJPEfKFw | thank u,next                   |   \n",
    "| Chris Brown         | 0JOT3Ff4gJ939hqdeEpsZv | Undecided                      |   \n",
    "+---------------------+------------------------+--------------------------------+\n",
    "```"
   ]
  },
  {
   "cell_type": "markdown",
   "metadata": {},
   "source": [
    "### Use Case 5 <br>\n",
    "Description: Get all the songs name and id from the Spotify singers' which Singer have the most followers "
   ]
  },
  {
   "cell_type": "markdown",
   "metadata": {},
   "source": [
    "```sql\n",
    "SELECT s.Spotify_singer_name,o.song_id,o.song_name \n",
    "FROM (Spotify_singer_Account s inner JOIN Spotify_songs o ON s.Spotify_singer_name = o.singer_name)\n",
    "ORDER BY o.song_id DESC\n",
    "LIMIT 10;\n",
    "```\n",
    "\n",
    "```\n",
    "+---------------------+------------------------+------------------------------------------+\n",
    "| Spotify_singer_name | song_id                | song_name                                |\n",
    "+---------------------+------------------------+------------------------------------------+\n",
    "| Chris Brown         | 7uiBocndm12aKbsdnQ3Scx | Undecided                                |\n",
    "| Taylor Swift        | 6NFyWDv5CjfwuzoCkw47Xf | Delicate                                 |\n",
    "| Maroon 5            | 6FRLCMO5TUHTexlWo8ym1W | Girls Like You (feat. Cardi B)           |\n",
    "| Avril Lavigne       | 5xEM5hIgJ1jjgcEBfpkt2F | Complicated                              |\n",
    "| Katy Perry          | 5jrdCoLpJSvHHorevXBATy | Dark Horse                               |\n",
    "| Justin Bieber       | 50kpGaPAhYJ3sGmk6vplg0 | Love Yourself                            |\n",
    "| Ariana Grande       | 4kV4N9D1iKVxx1KLvtTpjS | break up with your girlfriend, i'm bored |\n",
    "| Lady Gaga           | 2VxeLyX666F8uXCJ0dZF8B | Shallow                                  |\n",
    "| Rihanna             | 2aksifNn5ph8igDOkPBA02 | Love On The Brain                        |\n",
    "| Bruno Mars          | 0KKkJNfGyhkQ5aFogxQAPU | That's What I Like                       |\n",
    "+---------------------+------------------------+------------------------------------------+\n",
    "```"
   ]
  },
  {
   "cell_type": "markdown",
   "metadata": {},
   "source": [
    "### Use Case 6 <br>\n",
    "Description: Get all the songs name,id and popularity and from the typical singers of the companies  which Singer have the most followers "
   ]
  },
  {
   "cell_type": "markdown",
   "metadata": {},
   "source": [
    "```sql\n",
    "SELECT o.song_popularity,o.song_id,o.song_name,c.Company_name,c.Typical_singers\n",
    "FROM ( Company_data c inner JOIN Spotify_songs o ON o.singer_name = c.Typical_singers)\n",
    "ORDER BY o.song_id DESC\n",
    "LIMIT 10;\n",
    "```\n",
    "\n",
    "```\n",
    "+-----------------+------------------------+------------------------------------------+---------------------+-----------------+\n",
    "| song_popularity | song_id                | song_name                                | Company_name        | Typical_singers |\n",
    "+-----------------+------------------------+------------------------------------------+---------------------+-----------------+\n",
    "|              80 | 6NFyWDv5CjfwuzoCkw47Xf | Delicate                                 | Big Machine Records | Taylor Swift    |\n",
    "|              76 | 5xEM5hIgJ1jjgcEBfpkt2F | Complicated                              | RCA Rcords          | Avril Lavigne   |\n",
    "|              77 | 5jrdCoLpJSvHHorevXBATy | Dark Horse                               | CAPITOL RECORDS.    | katy Perry      |\n",
    "|              99 | 4kV4N9D1iKVxx1KLvtTpjS | break up with your girlfriend, i'm bored | Republic Records    | Ariana Grande   |\n",
    "|              73 | 2aksifNn5ph8igDOkPBA02 | Love On The Brain                        |  Def Jam Recordings | Rihanna         |\n",
    "|              84 | 0KKkJNfGyhkQ5aFogxQAPU | That's What I Like                       | Atlantic Records    | Bruno Mars      |\n",
    "+-----------------+------------------------+------------------------------------------+---------------------+-----------------+\n",
    "```"
   ]
  },
  {
   "cell_type": "markdown",
   "metadata": {},
   "source": [
    "### Use Case 7 <br>\n",
    "Description: Get all the Spotify singers' total albums who are the typical singers the the all ompany data"
   ]
  },
  {
   "cell_type": "markdown",
   "metadata": {},
   "source": [
    "```sql\n",
    "SELECT s.Spotify_singer_name,s.Spotify_singer_total_albums,c.Company_name\n",
    "FROM (Spotify_singer_Account s inner JOIN Company_data c ON c.Typical_singers = s.Spotify_singer_name)\n",
    "ORDER BY s.Spotify_singer_name DESC\n",
    "LIMIT 10;\n",
    "```\n",
    "\n",
    "```\n",
    "+---------------------+-----------------------------+---------------------+\n",
    "| Spotify_singer_name | Spotify_singer_total_albums | Company_name        |\n",
    "+---------------------+-----------------------------+---------------------+\n",
    "| Taylor Swift        |                          49 | Big Machine Records |\n",
    "| Rihanna             |                          48 |  Def Jam Recordings |\n",
    "| Katy Perry          |                          34 | CAPITOL RECORDS.    |\n",
    "| Bruno Mars          |                           7 | Atlantic Records    |\n",
    "| Avril Lavigne       |                           7 | RCA Rcords          |\n",
    "| Ariana Grande       |                          24 | Republic Records    |\n",
    "+---------------------+-----------------------------+---------------------+\n",
    "```"
   ]
  },
  {
   "cell_type": "markdown",
   "metadata": {},
   "source": [
    "### Use Case 8 <br>\n",
    "Description: Get the Spotify singers' top 1 reliated artists'informatiob Twitter account in Twitter singers "
   ]
  },
  {
   "cell_type": "markdown",
   "metadata": {},
   "source": [
    "```sql\n",
    "SELECT t.singer_name,t.singer_name,t.singer_url,t.singer_description,t.singer_followers_count\n",
    "FROM (Twitter_singers t right JOIN Spotify_singer_Account s ON t.singer_name = s.Spotify_singer_top_1_related_artist)\n",
    "ORDER BY  t.singer_name DESC\n",
    "LIMIT 5;\n",
    "```\n",
    "\n",
    "```\n",
    "+---------------+---------------+-------------------------+---------------------------------------------------------------------------------------------------------------------------------+------------------------+\n",
    "| singer_name   | singer_name   | singer_url              | singer_description                                                                                                              | singer_followers_count |\n",
    "+---------------+---------------+-------------------------+---------------------------------------------------------------------------------------------------------------------------------+------------------------+\n",
    "| Avril Lavigne | Avril Lavigne | https://t.co/niyvkKkHrn | BMG Records. Freesolo / Vector Management. PMKBNC. Listen to my new album #HeadAboveWater ð here:https://t.co/euGdGHvWK2     | 21713427               |\n",
    "| NULL          | NULL          | NULL                    | NULL                                                                                                                            | NULL                   |\n",
    "| NULL          | NULL          | NULL                    | NULL                                                                                                                            | NULL                   |\n",
    "| NULL          | NULL          | NULL                    | NULL                                                                                                                            | NULL                   |\n",
    "| NULL          | NULL          | NULL                    | NULL                                                                                                                            | NULL                   |\n",
    "+---------------+---------------+-------------------------+---------------------------------------------------------------------------------------------------------------------------------+------------------------+\n",
    "\n",
    "```"
   ]
  },
  {
   "cell_type": "markdown",
   "metadata": {},
   "source": [
    "### Use Case 9 <br>\n",
    "Description: Get Twitter singers' spotify popularity from Spotify data"
   ]
  },
  {
   "cell_type": "markdown",
   "metadata": {},
   "source": [
    "```sql\n",
    "SELECT ts.singer_name, ts.singer_id, ss.singer_spotify_popularity  \n",
    "FROM  (Twitter_singers ts INNER JOIN Spotify_singer_Account ss ON ss.Spotify_singer_name = ts.singer_name)  \n",
    "ORDER BY ss.singer_spotify_popularity  DESC \n",
    "LIMIT 15;\n",
    "```\n",
    "\n",
    "```\n",
    "+---------------+-----------+---------------------------+\n",
    "| singer_name   | singer_id | singer_spotify_popularity |\n",
    "+---------------+-----------+---------------------------+\n",
    "| Ariana Grande | 34507480  |                       100 |\n",
    "| Lady Gaga     | 14230524  |                        91 |\n",
    "| Rihanna       | 79293791  |                        89 |\n",
    "| Bruno Mars    | 100220864 |                        89 |\n",
    "| Maroon 5      | 24886570  |                        88 |\n",
    "| Taylor Swift  | 17919972  |                        88 |\n",
    "| Chris Brown   | 119509520 |                        88 |\n",
    "| Justin Bieber | 27260086  |                        87 |\n",
    "| KATY PERRY    | 21447363  |                        83 |\n",
    "| Avril Lavigne | 73992972  |                        80 |\n",
    "+---------------+-----------+---------------------------+\n",
    "```"
   ]
  },
  {
   "cell_type": "markdown",
   "metadata": {},
   "source": [
    "### Use Case 10 <br>\n",
    "Description: Get all song' names and popularity from the album"
   ]
  },
  {
   "cell_type": "markdown",
   "metadata": {},
   "source": [
    "```sql\n",
    "SELECT S.song_name, S.singer_name, S.song_popularity, A.album_name\n",
    "FROM (Spotify_songs S INNER JOIN Spotify_album A ON S.album_name = A.album_name)\n",
    "ORDER BY S.song_popularity  DESC \n",
    "LIMIT 10;\n",
    "```\n",
    "\n",
    "```\n",
    "+-------------------------------------------------+----------------+-----------------+-------------------------------------------------+\n",
    "| song_name                                       | singer_name    | song_popularity | album_name                                      |\n",
    "+-------------------------------------------------+----------------+-----------------+-------------------------------------------------+\n",
    "| break up with your girlfriend, i'm bored        | Ariana Grande  |              99 | thank u, next                                   |\n",
    "| Taki Taki (with Selena Gomez, Ozuna & Cardi B)  | Selena Gomez   |              96 | Taki Taki (with Selena Gomez, Ozuna & Cardi B)  |\n",
    "| Shallow                                         | Lady Gaga      |              95 | A Star Is Born Soundtrack                       |\n",
    "| i'm so tired...                                 | Troye Sivan    |              93 | i'm so tired...                                 |\n",
    "| Nothing Breaks Like a Heart (feat. Miley Cyrus) | Miley Cyrus    |              92 | Nothing Breaks Like a Heart (feat. Miley Cyrus) |\n",
    "| Beautiful (feat. Camila Cabello)                | Camila Cabello |              89 | Beautiful (feat. Camila Cabello)                |\n",
    "| Girls Like You (feat. Cardi B)                  | Maroon 5       |              88 | Girls Like You (feat. Cardi B)                  |\n",
    "| Solo (feat. Demi Lovato)                        | Demi Lovato    |              87 | Solo (feat. Demi Lovato)                        |\n",
    "| Electricity (with Dua Lipa)                     | Dua Lipa       |              87 | Electricity (with Dua Lipa)                     |\n",
    "| FEFE (feat. Nicki Minaj, Murda Beatz)           | Nicki Minaj    |              86 | DUMMY BOY                                       |\n",
    "+-------------------------------------------------+----------------+-----------------+-------------------------------------------------+\n",
    "```"
   ]
  },
  {
   "cell_type": "markdown",
   "metadata": {},
   "source": [
    "## Percentage contribution in assignment"
   ]
  },
  {
   "cell_type": "markdown",
   "metadata": {},
   "source": [
    "- Hsiang-Hua Chen : 20% from the website, 80% created by myself\n",
    "- Yuan Chai : 25% from the website, 75% created by myself"
   ]
  },
  {
   "cell_type": "markdown",
   "metadata": {},
   "source": [
    "## Citations"
   ]
  },
  {
   "cell_type": "markdown",
   "metadata": {},
   "source": [
    "- https://spotipy.readthedocs.io/en/latest/\n",
    "- https://developer.spotify.com/documentation/general/guides/\n",
    "- https://docs.python.org/3/library/csv.html\n",
    "- https://developer.twitter.com/en/docs/tweets/data-dictionary/overview/intro-to-tweet-json\n",
    "- http://blog.chapagain.com.np/python-get-twitter-tweets-using-tweepy-library/"
   ]
  },
  {
   "cell_type": "markdown",
   "metadata": {},
   "source": [
    "## License"
   ]
  },
  {
   "cell_type": "markdown",
   "metadata": {},
   "source": [
    "MIT License\n",
    "\n",
    "Copyright (c) 2019 Hsiang-Hua Chen, Yuan Chai\n",
    "\n",
    "Permission is hereby granted, free of charge, to any person obtaining a copy\n",
    "of this software and associated documentation files (the \"Software\"), to deal\n",
    "in the Software without restriction, including without limitation the rights\n",
    "to use, copy, modify, merge, publish, distribute, sublicense, and/or sell\n",
    "copies of the Software, and to permit persons to whom the Software is\n",
    "furnished to do so, subject to the following conditions:\n",
    "\n",
    "The above copyright notice and this permission notice shall be included in all\n",
    "copies or substantial portions of the Software.\n",
    "\n",
    "THE SOFTWARE IS PROVIDED \"AS IS\", WITHOUT WARRANTY OF ANY KIND, EXPRESS OR\n",
    "IMPLIED, INCLUDING BUT NOT LIMITED TO THE WARRANTIES OF MERCHANTABILITY,\n",
    "FITNESS FOR A PARTICULAR PURPOSE AND NONINFRINGEMENT. IN NO EVENT SHALL THE\n",
    "AUTHORS OR COPYRIGHT HOLDERS BE LIABLE FOR ANY CLAIM, DAMAGES OR OTHER\n",
    "LIABILITY, WHETHER IN AN ACTION OF CONTRACT, TORT OR OTHERWISE, ARISING FROM,\n",
    "OUT OF OR IN CONNECTION WITH THE SOFTWARE OR THE USE OR OTHER DEALINGS IN THE\n",
    "SOFTWARE."
   ]
  }
 ],
 "metadata": {
  "kernelspec": {
   "display_name": "Python 3",
   "language": "python",
   "name": "python3"
  },
  "language_info": {
   "codemirror_mode": {
    "name": "ipython",
    "version": 3
   },
   "file_extension": ".py",
   "mimetype": "text/x-python",
   "name": "python",
   "nbconvert_exporter": "python",
   "pygments_lexer": "ipython3",
   "version": "3.7.1"
  }
 },
 "nbformat": 4,
 "nbformat_minor": 2
}
