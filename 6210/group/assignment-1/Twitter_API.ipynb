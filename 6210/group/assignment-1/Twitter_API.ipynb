{
 "cells": [
  {
   "cell_type": "code",
   "execution_count": 24,
   "metadata": {},
   "outputs": [
    {
     "name": "stdout",
     "output_type": "stream",
     "text": [
      "<twitter.api.Twitter object at 0x10f6a6f28>\n"
     ]
    }
   ],
   "source": [
    "import twitter\n",
    "\n",
    "CONSUMER_KEY = 'NDSPjwGO2oX0Z08h98ro3eSJB'\n",
    "CONSUMER_SECRET = 'hvAqEQBHIZmPTEmrgZDVu7fgqm4jTwOEUw1Fje00GYunFEVfxt'\n",
    "OAUTH_TOKEN = '1086338263206514689-h4JGnBWAIRXUAKTBLh3E9jAD5vfUNh'\n",
    "OAUTH_TOKEN_SECRET = 'scBdFvlrjQq0SHFQiG0euTDfScrfaFlTzzglfEwpgF4fW'\n",
    "\n",
    "auth = twitter.oauth.OAuth(OAUTH_TOKEN, OAUTH_TOKEN_SECRET,\n",
    "                           CONSUMER_KEY, CONSUMER_SECRET)\n",
    "\n",
    "twitter_api = twitter.Twitter(auth=auth)\n",
    "\n",
    "\n",
    "\n",
    "print(twitter_api)"
   ]
  },
  {
   "cell_type": "code",
   "execution_count": 25,
   "metadata": {},
   "outputs": [],
   "source": [
    "import re\n",
    "\n",
    "def count_occurance(word, json_to_search):\n",
    "    a = re.split(r'\\W', str(json_to_search).lower())\n",
    "    return a.count(word.lower())"
   ]
  },
  {
   "cell_type": "code",
   "execution_count": 26,
   "metadata": {},
   "outputs": [],
   "source": [
    "import json\n",
    "from urllib.parse import unquote"
   ]
  },
  {
   "cell_type": "code",
   "execution_count": 27,
   "metadata": {},
   "outputs": [],
   "source": [
    "dict_tags = ['Colour Riche Nude', 'Rouge Signature', 'True Match Lumi', 'Unlimited Waterproof', 'Infallible 24 HR',\n",
    "            'Infallible Full', 'Unlimited Washable', 'UnbelievaBrow', 'Colour Riche Stain', 'Colour Riche Lipstick',\n",
    "            'Voluminous', 'Infallible Gloss', 'Infallible Highlighter', 'Infallible Eye Shadow ', 'Voluminous Mascara', 'Infallible Foundation Sticks',\n",
    "            'Paradise Eyeshadow', 'Voluminous Eyeliner', 'Infallible Highlighter Sticks', 'Paradise Blush', 'Infallible Blush Sticks ']"
   ]
  },
  {
   "cell_type": "code",
   "execution_count": 28,
   "metadata": {},
   "outputs": [],
   "source": [
    "d = {}\n",
    "for word in dict_tags:\n",
    "    search_results = twitter_api.search.tweets(q=word, count=500)    \n",
    "    statuses = search_results['statuses']\n",
    "    d[word] = statuses\n"
   ]
  },
  {
   "cell_type": "code",
   "execution_count": 30,
   "metadata": {},
   "outputs": [
    {
     "name": "stdout",
     "output_type": "stream",
     "text": [
      "Colour Riche Nude : 0\n",
      "Rouge Signature : 0\n",
      "True Match Lumi : 0\n",
      "Unlimited Waterproof : 0\n",
      "Infallible 24 HR : 0\n",
      "Infallible Full : 0\n",
      "Unlimited Washable : 0\n",
      "UnbelievaBrow : 13\n",
      "Colour Riche Stain : 0\n",
      "Colour Riche Lipstick : 0\n",
      "Voluminous : 130\n",
      "Infallible Gloss : 0\n",
      "Infallible Highlighter : 0\n",
      "Infallible Eye Shadow  : 0\n",
      "Voluminous Mascara : 0\n",
      "Infallible Foundation Sticks : 0\n",
      "Paradise Eyeshadow : 0\n",
      "Voluminous Eyeliner : 0\n",
      "Infallible Highlighter Sticks : 0\n",
      "Paradise Blush : 0\n",
      "Infallible Blush Sticks  : 0\n"
     ]
    }
   ],
   "source": [
    "import csv\n",
    "with open('output.csv', 'w', newline='') as csvfile:\n",
    "    fieldnames = ['Twitter_Keyword', 'Twitter_Search_Result_Counts']\n",
    "    writer = csv.DictWriter(csvfile, fieldnames=fieldnames)\n",
    "    writer.writeheader()\n",
    "\n",
    "# Counting the number of occurences of the word in the json string and storing it\n",
    "    for word in dict_tags:\n",
    "        count = count_occurance(word, d[word])\n",
    "        #Write the count and the word in csv here.\n",
    "        writer.writerow({'Twitter_Keyword': word,'Twitter_Search_Result_Counts': str(count) })\n",
    "        print(word,\":\", str(count))\n",
    "    "
   ]
  },
  {
   "cell_type": "code",
   "execution_count": null,
   "metadata": {},
   "outputs": [],
   "source": []
  },
  {
   "cell_type": "code",
   "execution_count": null,
   "metadata": {},
   "outputs": [],
   "source": []
  },
  {
   "cell_type": "code",
   "execution_count": null,
   "metadata": {},
   "outputs": [],
   "source": []
  },
  {
   "cell_type": "code",
   "execution_count": null,
   "metadata": {},
   "outputs": [],
   "source": []
  },
  {
   "cell_type": "code",
   "execution_count": null,
   "metadata": {},
   "outputs": [],
   "source": []
  },
  {
   "cell_type": "code",
   "execution_count": null,
   "metadata": {},
   "outputs": [],
   "source": []
  },
  {
   "cell_type": "code",
   "execution_count": null,
   "metadata": {},
   "outputs": [],
   "source": []
  }
 ],
 "metadata": {
  "kernelspec": {
   "display_name": "Python 3",
   "language": "python",
   "name": "python3"
  },
  "language_info": {
   "codemirror_mode": {
    "name": "ipython",
    "version": 3
   },
   "file_extension": ".py",
   "mimetype": "text/x-python",
   "name": "python",
   "nbconvert_exporter": "python",
   "pygments_lexer": "ipython3",
   "version": "3.7.1"
  }
 },
 "nbformat": 4,
 "nbformat_minor": 2
}
