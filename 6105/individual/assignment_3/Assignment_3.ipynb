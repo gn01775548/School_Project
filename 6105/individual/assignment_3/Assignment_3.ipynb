{
 "cells": [
  {
   "cell_type": "markdown",
   "metadata": {},
   "source": [
    "# Abstract\n",
    "\n",
    "Collecting the data from https://www.kaggle.com/c/word2vec-nlp-tutorial/data. The labeled data set consists of 25,000 IMDB movie reviews labeled with sentiment analysis, and 75,000 review test set without sentiment analysis. \n",
    "I am training a model to distinguish the review is postive or negative. \n",
    "\n",
    "I tried four models to get the better scores as possiable. For the model 1 and model 2, I'm using Word2vec to cleaning the data and convert it into vectors. Model 1 analyzes the review's sentiment by calculating the Average Feature Vectors to. Model 2 is using Cluster Analysis. And for the model 3, I am using the Bag-of-words model to process the data. \n",
    "\n",
    "Overall, Model 3 gets the best score, which is 0.8832\n"
   ]
  },
  {
   "cell_type": "markdown",
   "metadata": {},
   "source": [
    "# Data Analysis"
   ]
  },
  {
   "cell_type": "markdown",
   "metadata": {},
   "source": [
    "## Import Libraries"
   ]
  },
  {
   "cell_type": "code",
   "execution_count": 1,
   "metadata": {},
   "outputs": [
    {
     "name": "stderr",
     "output_type": "stream",
     "text": [
      "[nltk_data] Downloading package stopwords to\n",
      "[nltk_data]     /Users/bonnie/nltk_data...\n",
      "[nltk_data]   Package stopwords is already up-to-date!\n"
     ]
    }
   ],
   "source": [
    "import pandas as pd\n",
    "import numpy as np\n",
    "import re\n",
    "from bs4 import BeautifulSoup\n",
    "import nltk.data\n",
    "from sklearn.cluster import KMeans\n",
    "import time\n",
    "from gensim.models.doc2vec import TaggedDocument\n",
    "from sklearn.linear_model import LogisticRegression\n",
    "from random import shuffle\n",
    "import heapq \n",
    "from utils.feature_select import select_feature\n",
    "from sklearn.feature_extraction.text import TfidfVectorizer\n",
    "from sklearn.feature_extraction.text import CountVectorizer\n",
    "from sklearn.model_selection import cross_val_score\n",
    "from scipy.sparse import bsr_matrix\n",
    "\n",
    "\n",
    "# download stopwords\n",
    "import nltk\n",
    "nltk.download('stopwords')\n",
    "\n",
    "# Import the stop word list\n",
    "from nltk.corpus import stopwords \n",
    "\n",
    "# word2vec\n",
    "import logging\n",
    "from gensim.models import word2vec\n",
    "\n",
    "# forest\n",
    "from sklearn.ensemble import RandomForestClassifier\n",
    "\n",
    "\n",
    "\n"
   ]
  },
  {
   "cell_type": "markdown",
   "metadata": {},
   "source": [
    "## Import Data"
   ]
  },
  {
   "cell_type": "code",
   "execution_count": 2,
   "metadata": {},
   "outputs": [
    {
     "name": "stdout",
     "output_type": "stream",
     "text": [
      "Read 25000 labeled train reviews, 25000 test reviews, and 50000 unlabeled reviews\n",
      "\n"
     ]
    }
   ],
   "source": [
    "train = pd.read_csv(\"data/labeledTrainData.tsv\", header=0, \n",
    "                     delimiter=\"\\t\", quoting=3)\n",
    "\n",
    "test = pd.read_csv( \"data/testData.tsv\", header=0, delimiter=\"\\t\", quoting=3 )\n",
    "unlabeled_train = pd.read_csv(\"data/unlabeledTrainData.tsv\", header=0, \n",
    "                              delimiter=\"\\t\", quoting=3 )\n",
    "\n",
    "# Makesure all the of reviews were read (100,000 in total)\n",
    "print(\"Read %d labeled train reviews, %d test reviews, and %d unlabeled reviews\\n\" \n",
    "      % (train[\"review\"].size, test[\"review\"].size, unlabeled_train[\"review\"].size ))"
   ]
  },
  {
   "cell_type": "code",
   "execution_count": 3,
   "metadata": {
    "scrolled": true
   },
   "outputs": [
    {
     "name": "stdout",
     "output_type": "stream",
     "text": [
      "         id  sentiment                                             review\n",
      "0  \"5814_8\"          1  \"With all this stuff going down at the moment ...\n",
      "1  \"2381_9\"          1  \"\\\"The Classic War of the Worlds\\\" by Timothy ...\n",
      "2  \"7759_3\"          0  \"The film starts with a manager (Nicholas Bell...\n",
      "3  \"3630_4\"          0  \"It must be assumed that those who praised thi...\n",
      "4  \"9495_8\"          1  \"Superbly trashy and wondrously unpretentious ...\n",
      "           id                                             review\n",
      "0  \"12311_10\"  \"Naturally in a film who's main themes are of ...\n",
      "1    \"8348_2\"  \"This movie is a disaster within a disaster fi...\n",
      "2    \"5828_4\"  \"All in all, this is a movie for kids. We saw ...\n",
      "3    \"7186_2\"  \"Afraid of the Dark left me with the impressio...\n",
      "4   \"12128_7\"  \"A very accurate depiction of small time mob l...\n"
     ]
    }
   ],
   "source": [
    "print (train.head())\n",
    "print(test.head())"
   ]
  },
  {
   "cell_type": "code",
   "execution_count": 4,
   "metadata": {
    "scrolled": true
   },
   "outputs": [
    {
     "data": {
      "text/plain": [
       "'\"With all this stuff going down at the moment with MJ i\\'ve started listening to his music, watching the odd documentary here and there, watched The Wiz and watched Moonwalker again. Maybe i just want to get a certain insight into this guy who i thought was really cool in the eighties just to maybe make up my mind whether he is guilty or innocent. Moonwalker is part biography, part feature film which i remember going to see at the cinema when it was originally released. Some of it has subtle messages about MJ\\'s feeling towards the press and also the obvious message of drugs are bad m\\'kay.<br /><br />Visually impressive but of course this is all about Michael Jackson so unless you remotely like MJ in anyway then you are going to hate this and find it boring. Some may call MJ an egotist for consenting to the making of this movie BUT MJ and most of his fans would say that he made it for the fans which if true is really nice of him.<br /><br />The actual feature film bit when it finally starts is only on for 20 minutes or so excluding the Smooth Criminal sequence and Joe Pesci is convincing as a psychopathic all powerful drug lord. Why he wants MJ dead so bad is beyond me. Because MJ overheard his plans? Nah, Joe Pesci\\'s character ranted that he wanted people to know it is he who is supplying drugs etc so i dunno, maybe he just hates MJ\\'s music.<br /><br />Lots of cool things in this like MJ turning into a car and a robot and the whole Speed Demon sequence. Also, the director must have had the patience of a saint when it came to filming the kiddy Bad sequence as usually directors hate working with one kid let alone a whole bunch of them performing a complex dance scene.<br /><br />Bottom line, this movie is for people who like MJ on one level or another (which i think is most people). If not, then stay away. It does try and give off a wholesome message and ironically MJ\\'s bestest buddy in this movie is a girl! Michael Jackson is truly one of the most talented people ever to grace this planet but is he guilty? Well, with all the attention i\\'ve gave this subject....hmmm well i don\\'t know because people can be different behind closed doors, i know this for a fact. He is either an extremely nice but stupid guy or one of the most sickest liars. I hope he is not the latter.\"'"
      ]
     },
     "execution_count": 4,
     "metadata": {},
     "output_type": "execute_result"
    }
   ],
   "source": [
    "## the first one review \n",
    "train['review'][0]"
   ]
  },
  {
   "cell_type": "markdown",
   "metadata": {},
   "source": [
    "## Word2vec Model"
   ]
  },
  {
   "cell_type": "code",
   "execution_count": 5,
   "metadata": {},
   "outputs": [],
   "source": [
    "# Function to convert data into wordlist\n",
    "def review_to_wordlist(review, remove_stopwords=False):\n",
    "    # Remove HTML\n",
    "    review_text = BeautifulSoup(review, 'lxml').get_text()\n",
    "      \n",
    "    # Remove non-letters\n",
    "    review_text = re.sub(\"[^a-zA-Z]\",\" \", review_text)\n",
    "    \n",
    "    # Convert words to lower case and split them\n",
    "    words = review_text.lower().split()\n",
    "\n",
    "    # Optionally remove stop words (false by default)\n",
    "    if remove_stopwords:\n",
    "        stops = set(stopwords.words(\"english\"))\n",
    "        words = [w for w in words if not w in stops]\n",
    "    \n",
    "    # Return a list of words\n",
    "    return(words)"
   ]
  },
  {
   "cell_type": "code",
   "execution_count": 6,
   "metadata": {},
   "outputs": [],
   "source": [
    "# Load the punkt tokenizer\n",
    "tokenizer = nltk.data.load('tokenizers/punkt/english.pickle')\n",
    "\n",
    "# Function to split a review into parsed sentences\n",
    "def review_to_sentences( review, tokenizer, remove_stopwords=False ):\n",
    "    # Use the NLTK tokenizer to split the paragraph into sentences\n",
    "    raw_sentences = tokenizer.tokenize(review.strip())\n",
    "    \n",
    "    sentences = []\n",
    "    for raw_sentence in raw_sentences:\n",
    "        if len(raw_sentence) > 0:\n",
    "            sentences.append( review_to_wordlist( raw_sentence, remove_stopwords ))\n",
    "    return sentences"
   ]
  },
  {
   "cell_type": "code",
   "execution_count": 7,
   "metadata": {},
   "outputs": [
    {
     "data": {
      "text/plain": [
       "['with',\n",
       " 'all',\n",
       " 'this',\n",
       " 'stuff',\n",
       " 'going',\n",
       " 'down',\n",
       " 'at',\n",
       " 'the',\n",
       " 'moment',\n",
       " 'with',\n",
       " 'mj',\n",
       " 'i',\n",
       " 've',\n",
       " 'started',\n",
       " 'listening',\n",
       " 'to',\n",
       " 'his',\n",
       " 'music',\n",
       " 'watching',\n",
       " 'the',\n",
       " 'odd',\n",
       " 'documentary',\n",
       " 'here',\n",
       " 'and',\n",
       " 'there',\n",
       " 'watched',\n",
       " 'the',\n",
       " 'wiz',\n",
       " 'and',\n",
       " 'watched',\n",
       " 'moonwalker',\n",
       " 'again']"
      ]
     },
     "execution_count": 7,
     "metadata": {},
     "output_type": "execute_result"
    }
   ],
   "source": [
    "# the list of the first sentense\n",
    "s1 = review_to_sentences(train['review'][0], tokenizer)\n",
    "s1[0]"
   ]
  },
  {
   "cell_type": "code",
   "execution_count": 8,
   "metadata": {},
   "outputs": [
    {
     "name": "stdout",
     "output_type": "stream",
     "text": [
      "Parsing sentences from training set\n"
     ]
    },
    {
     "name": "stderr",
     "output_type": "stream",
     "text": [
      "/Users/bonnie/anaconda3/lib/python3.7/site-packages/bs4/__init__.py:273: UserWarning: \"b'.'\" looks like a filename, not markup. You should probably open this file and pass the filehandle into Beautiful Soup.\n",
      "  ' Beautiful Soup.' % markup)\n",
      "/Users/bonnie/anaconda3/lib/python3.7/site-packages/bs4/__init__.py:336: UserWarning: \"http://www.happierabroad.com\"\" looks like a URL. Beautiful Soup is not an HTTP client. You should probably use an HTTP client like requests to get the document behind the URL, and feed that document to Beautiful Soup.\n",
      "  ' that document to Beautiful Soup.' % decoded_markup\n"
     ]
    },
    {
     "name": "stdout",
     "output_type": "stream",
     "text": [
      "Parsing sentences from unlabeled set\n"
     ]
    },
    {
     "name": "stderr",
     "output_type": "stream",
     "text": [
      "/Users/bonnie/anaconda3/lib/python3.7/site-packages/bs4/__init__.py:336: UserWarning: \"http://www.archive.org/details/LovefromaStranger\"\" looks like a URL. Beautiful Soup is not an HTTP client. You should probably use an HTTP client like requests to get the document behind the URL, and feed that document to Beautiful Soup.\n",
      "  ' that document to Beautiful Soup.' % decoded_markup\n",
      "/Users/bonnie/anaconda3/lib/python3.7/site-packages/bs4/__init__.py:336: UserWarning: \"http://www.loosechangeguide.com/LooseChangeGuide.html\"\" looks like a URL. Beautiful Soup is not an HTTP client. You should probably use an HTTP client like requests to get the document behind the URL, and feed that document to Beautiful Soup.\n",
      "  ' that document to Beautiful Soup.' % decoded_markup\n",
      "/Users/bonnie/anaconda3/lib/python3.7/site-packages/bs4/__init__.py:336: UserWarning: \"http://www.msnbc.msn.com/id/4972055/site/newsweek/\"\" looks like a URL. Beautiful Soup is not an HTTP client. You should probably use an HTTP client like requests to get the document behind the URL, and feed that document to Beautiful Soup.\n",
      "  ' that document to Beautiful Soup.' % decoded_markup\n",
      "/Users/bonnie/anaconda3/lib/python3.7/site-packages/bs4/__init__.py:273: UserWarning: \"b'..'\" looks like a filename, not markup. You should probably open this file and pass the filehandle into Beautiful Soup.\n",
      "  ' Beautiful Soup.' % markup)\n",
      "/Users/bonnie/anaconda3/lib/python3.7/site-packages/bs4/__init__.py:336: UserWarning: \"http://www.youtube.com/watch?v=a0KSqelmgN8\"\" looks like a URL. Beautiful Soup is not an HTTP client. You should probably use an HTTP client like requests to get the document behind the URL, and feed that document to Beautiful Soup.\n",
      "  ' that document to Beautiful Soup.' % decoded_markup\n",
      "/Users/bonnie/anaconda3/lib/python3.7/site-packages/bs4/__init__.py:336: UserWarning: \"http://jake-weird.blogspot.com/2007/08/beneath.html\"\" looks like a URL. Beautiful Soup is not an HTTP client. You should probably use an HTTP client like requests to get the document behind the URL, and feed that document to Beautiful Soup.\n",
      "  ' that document to Beautiful Soup.' % decoded_markup\n"
     ]
    }
   ],
   "source": [
    "sentences = []\n",
    "print(\"Parsing sentences from training set\")\n",
    "for review in train[\"review\"]:\n",
    "    sentences += review_to_sentences(review, tokenizer)\n",
    "\n",
    "print(\"Parsing sentences from unlabeled set\")\n",
    "for review in unlabeled_train[\"review\"]:\n",
    "    sentences += review_to_sentences(review, tokenizer)"
   ]
  },
  {
   "cell_type": "code",
   "execution_count": 9,
   "metadata": {},
   "outputs": [
    {
     "data": {
      "text/plain": [
       "795538"
      ]
     },
     "execution_count": 9,
     "metadata": {},
     "output_type": "execute_result"
    }
   ],
   "source": [
    "# totak amount of sentences \n",
    "len(sentences)"
   ]
  },
  {
   "cell_type": "code",
   "execution_count": 10,
   "metadata": {},
   "outputs": [
    {
     "name": "stdout",
     "output_type": "stream",
     "text": [
      "['with', 'all', 'this', 'stuff', 'going', 'down', 'at', 'the', 'moment', 'with', 'mj', 'i', 've', 'started', 'listening', 'to', 'his', 'music', 'watching', 'the', 'odd', 'documentary', 'here', 'and', 'there', 'watched', 'the', 'wiz', 'and', 'watched', 'moonwalker', 'again']\n",
      "['maybe', 'i', 'just', 'want', 'to', 'get', 'a', 'certain', 'insight', 'into', 'this', 'guy', 'who', 'i', 'thought', 'was', 'really', 'cool', 'in', 'the', 'eighties', 'just', 'to', 'maybe', 'make', 'up', 'my', 'mind', 'whether', 'he', 'is', 'guilty', 'or', 'innocent']\n"
     ]
    }
   ],
   "source": [
    "print(sentences[0])\n",
    "\n",
    "print(sentences[1])"
   ]
  },
  {
   "cell_type": "code",
   "execution_count": 13,
   "metadata": {},
   "outputs": [
    {
     "name": "stderr",
     "output_type": "stream",
     "text": [
      "2019-04-03 19:44:01,954 : INFO : collecting all words and their counts\n",
      "2019-04-03 19:44:01,956 : INFO : PROGRESS: at sentence #0, processed 0 words, keeping 0 word types\n",
      "2019-04-03 19:44:02,012 : INFO : PROGRESS: at sentence #10000, processed 225803 words, keeping 17776 word types\n",
      "2019-04-03 19:44:02,075 : INFO : PROGRESS: at sentence #20000, processed 451892 words, keeping 24948 word types\n",
      "2019-04-03 19:44:02,117 : INFO : PROGRESS: at sentence #30000, processed 671315 words, keeping 30034 word types\n"
     ]
    },
    {
     "name": "stdout",
     "output_type": "stream",
     "text": [
      "Training model...\n"
     ]
    },
    {
     "name": "stderr",
     "output_type": "stream",
     "text": [
      "2019-04-03 19:44:02,178 : INFO : PROGRESS: at sentence #40000, processed 897815 words, keeping 34348 word types\n",
      "2019-04-03 19:44:02,227 : INFO : PROGRESS: at sentence #50000, processed 1116963 words, keeping 37761 word types\n",
      "2019-04-03 19:44:02,283 : INFO : PROGRESS: at sentence #60000, processed 1338404 words, keeping 40723 word types\n",
      "2019-04-03 19:44:02,350 : INFO : PROGRESS: at sentence #70000, processed 1561580 words, keeping 43333 word types\n",
      "2019-04-03 19:44:02,405 : INFO : PROGRESS: at sentence #80000, processed 1780887 words, keeping 45714 word types\n",
      "2019-04-03 19:44:02,456 : INFO : PROGRESS: at sentence #90000, processed 2004996 words, keeping 48135 word types\n",
      "2019-04-03 19:44:02,504 : INFO : PROGRESS: at sentence #100000, processed 2226966 words, keeping 50207 word types\n",
      "2019-04-03 19:44:02,552 : INFO : PROGRESS: at sentence #110000, processed 2446580 words, keeping 52081 word types\n",
      "2019-04-03 19:44:02,600 : INFO : PROGRESS: at sentence #120000, processed 2668775 words, keeping 54119 word types\n",
      "2019-04-03 19:44:02,644 : INFO : PROGRESS: at sentence #130000, processed 2894303 words, keeping 55847 word types\n",
      "2019-04-03 19:44:02,694 : INFO : PROGRESS: at sentence #140000, processed 3107005 words, keeping 57346 word types\n",
      "2019-04-03 19:44:02,746 : INFO : PROGRESS: at sentence #150000, processed 3332627 words, keeping 59055 word types\n",
      "2019-04-03 19:44:02,791 : INFO : PROGRESS: at sentence #160000, processed 3555315 words, keeping 60617 word types\n",
      "2019-04-03 19:44:02,841 : INFO : PROGRESS: at sentence #170000, processed 3778655 words, keeping 62077 word types\n",
      "2019-04-03 19:44:02,887 : INFO : PROGRESS: at sentence #180000, processed 3999236 words, keeping 63496 word types\n",
      "2019-04-03 19:44:02,938 : INFO : PROGRESS: at sentence #190000, processed 4224449 words, keeping 64794 word types\n",
      "2019-04-03 19:44:02,982 : INFO : PROGRESS: at sentence #200000, processed 4448603 words, keeping 66087 word types\n",
      "2019-04-03 19:44:03,030 : INFO : PROGRESS: at sentence #210000, processed 4669967 words, keeping 67390 word types\n",
      "2019-04-03 19:44:03,087 : INFO : PROGRESS: at sentence #220000, processed 4894968 words, keeping 68697 word types\n",
      "2019-04-03 19:44:03,150 : INFO : PROGRESS: at sentence #230000, processed 5117545 words, keeping 69958 word types\n",
      "2019-04-03 19:44:03,216 : INFO : PROGRESS: at sentence #240000, processed 5345050 words, keeping 71167 word types\n",
      "2019-04-03 19:44:03,275 : INFO : PROGRESS: at sentence #250000, processed 5559165 words, keeping 72351 word types\n",
      "2019-04-03 19:44:03,333 : INFO : PROGRESS: at sentence #260000, processed 5779146 words, keeping 73478 word types\n",
      "2019-04-03 19:44:03,382 : INFO : PROGRESS: at sentence #270000, processed 6000435 words, keeping 74767 word types\n",
      "2019-04-03 19:44:03,428 : INFO : PROGRESS: at sentence #280000, processed 6226314 words, keeping 76369 word types\n",
      "2019-04-03 19:44:03,479 : INFO : PROGRESS: at sentence #290000, processed 6449474 words, keeping 77839 word types\n",
      "2019-04-03 19:44:03,527 : INFO : PROGRESS: at sentence #300000, processed 6674077 words, keeping 79171 word types\n",
      "2019-04-03 19:44:03,573 : INFO : PROGRESS: at sentence #310000, processed 6899391 words, keeping 80480 word types\n",
      "2019-04-03 19:44:03,617 : INFO : PROGRESS: at sentence #320000, processed 7124278 words, keeping 81808 word types\n",
      "2019-04-03 19:44:03,660 : INFO : PROGRESS: at sentence #330000, processed 7346021 words, keeping 83030 word types\n",
      "2019-04-03 19:44:03,704 : INFO : PROGRESS: at sentence #340000, processed 7575533 words, keeping 84280 word types\n",
      "2019-04-03 19:44:03,746 : INFO : PROGRESS: at sentence #350000, processed 7798803 words, keeping 85425 word types\n",
      "2019-04-03 19:44:03,788 : INFO : PROGRESS: at sentence #360000, processed 8019427 words, keeping 86596 word types\n",
      "2019-04-03 19:44:03,836 : INFO : PROGRESS: at sentence #370000, processed 8246619 words, keeping 87708 word types\n",
      "2019-04-03 19:44:03,880 : INFO : PROGRESS: at sentence #380000, processed 8471766 words, keeping 88878 word types\n",
      "2019-04-03 19:44:03,926 : INFO : PROGRESS: at sentence #390000, processed 8701497 words, keeping 89907 word types\n",
      "2019-04-03 19:44:03,988 : INFO : PROGRESS: at sentence #400000, processed 8924446 words, keeping 90916 word types\n",
      "2019-04-03 19:44:04,031 : INFO : PROGRESS: at sentence #410000, processed 9145796 words, keeping 91880 word types\n",
      "2019-04-03 19:44:04,088 : INFO : PROGRESS: at sentence #420000, processed 9366876 words, keeping 92912 word types\n",
      "2019-04-03 19:44:04,141 : INFO : PROGRESS: at sentence #430000, processed 9594413 words, keeping 93932 word types\n",
      "2019-04-03 19:44:04,204 : INFO : PROGRESS: at sentence #440000, processed 9821166 words, keeping 94906 word types\n",
      "2019-04-03 19:44:04,267 : INFO : PROGRESS: at sentence #450000, processed 10044928 words, keeping 96036 word types\n",
      "2019-04-03 19:44:04,330 : INFO : PROGRESS: at sentence #460000, processed 10277688 words, keeping 97088 word types\n",
      "2019-04-03 19:44:04,391 : INFO : PROGRESS: at sentence #470000, processed 10505613 words, keeping 97933 word types\n",
      "2019-04-03 19:44:04,438 : INFO : PROGRESS: at sentence #480000, processed 10725997 words, keeping 98862 word types\n",
      "2019-04-03 19:44:04,485 : INFO : PROGRESS: at sentence #490000, processed 10952741 words, keeping 99871 word types\n",
      "2019-04-03 19:44:04,528 : INFO : PROGRESS: at sentence #500000, processed 11174397 words, keeping 100765 word types\n",
      "2019-04-03 19:44:04,572 : INFO : PROGRESS: at sentence #510000, processed 11399672 words, keeping 101699 word types\n",
      "2019-04-03 19:44:04,618 : INFO : PROGRESS: at sentence #520000, processed 11623020 words, keeping 102598 word types\n",
      "2019-04-03 19:44:04,662 : INFO : PROGRESS: at sentence #530000, processed 11847418 words, keeping 103400 word types\n",
      "2019-04-03 19:44:04,708 : INFO : PROGRESS: at sentence #540000, processed 12072033 words, keeping 104265 word types\n",
      "2019-04-03 19:44:04,753 : INFO : PROGRESS: at sentence #550000, processed 12297571 words, keeping 105133 word types\n",
      "2019-04-03 19:44:04,796 : INFO : PROGRESS: at sentence #560000, processed 12518861 words, keeping 105997 word types\n",
      "2019-04-03 19:44:04,841 : INFO : PROGRESS: at sentence #570000, processed 12747916 words, keeping 106787 word types\n",
      "2019-04-03 19:44:04,884 : INFO : PROGRESS: at sentence #580000, processed 12969412 words, keeping 107665 word types\n",
      "2019-04-03 19:44:04,928 : INFO : PROGRESS: at sentence #590000, processed 13194937 words, keeping 108501 word types\n",
      "2019-04-03 19:44:04,971 : INFO : PROGRESS: at sentence #600000, processed 13417135 words, keeping 109218 word types\n",
      "2019-04-03 19:44:05,014 : INFO : PROGRESS: at sentence #610000, processed 13638158 words, keeping 110092 word types\n",
      "2019-04-03 19:44:05,059 : INFO : PROGRESS: at sentence #620000, processed 13864483 words, keeping 110837 word types\n",
      "2019-04-03 19:44:05,104 : INFO : PROGRESS: at sentence #630000, processed 14088769 words, keeping 111610 word types\n",
      "2019-04-03 19:44:05,149 : INFO : PROGRESS: at sentence #640000, processed 14309552 words, keeping 112416 word types\n",
      "2019-04-03 19:44:05,208 : INFO : PROGRESS: at sentence #650000, processed 14535308 words, keeping 113196 word types\n",
      "2019-04-03 19:44:05,271 : INFO : PROGRESS: at sentence #660000, processed 14758098 words, keeping 113945 word types\n",
      "2019-04-03 19:44:05,334 : INFO : PROGRESS: at sentence #670000, processed 14981482 words, keeping 114643 word types\n",
      "2019-04-03 19:44:05,402 : INFO : PROGRESS: at sentence #680000, processed 15206314 words, keeping 115354 word types\n",
      "2019-04-03 19:44:05,461 : INFO : PROGRESS: at sentence #690000, processed 15428507 words, keeping 116131 word types\n",
      "2019-04-03 19:44:05,515 : INFO : PROGRESS: at sentence #700000, processed 15657213 words, keeping 116943 word types\n",
      "2019-04-03 19:44:05,566 : INFO : PROGRESS: at sentence #710000, processed 15880202 words, keeping 117596 word types\n",
      "2019-04-03 19:44:05,610 : INFO : PROGRESS: at sentence #720000, processed 16105489 words, keeping 118221 word types\n",
      "2019-04-03 19:44:05,656 : INFO : PROGRESS: at sentence #730000, processed 16331870 words, keeping 118954 word types\n",
      "2019-04-03 19:44:05,699 : INFO : PROGRESS: at sentence #740000, processed 16552903 words, keeping 119668 word types\n",
      "2019-04-03 19:44:05,742 : INFO : PROGRESS: at sentence #750000, processed 16771230 words, keeping 120295 word types\n"
     ]
    },
    {
     "name": "stderr",
     "output_type": "stream",
     "text": [
      "2019-04-03 19:44:05,791 : INFO : PROGRESS: at sentence #760000, processed 16990622 words, keeping 120930 word types\n",
      "2019-04-03 19:44:05,837 : INFO : PROGRESS: at sentence #770000, processed 17217759 words, keeping 121703 word types\n",
      "2019-04-03 19:44:05,882 : INFO : PROGRESS: at sentence #780000, processed 17447905 words, keeping 122402 word types\n",
      "2019-04-03 19:44:05,926 : INFO : PROGRESS: at sentence #790000, processed 17674981 words, keeping 123066 word types\n",
      "2019-04-03 19:44:05,951 : INFO : collected 123504 word types from a corpus of 17798082 raw words and 795538 sentences\n",
      "2019-04-03 19:44:05,952 : INFO : Loading a fresh vocabulary\n",
      "2019-04-03 19:44:06,023 : INFO : effective_min_count=40 retains 16490 unique words (13% of original 123504, drops 107014)\n",
      "2019-04-03 19:44:06,023 : INFO : effective_min_count=40 leaves 17238940 word corpus (96% of original 17798082, drops 559142)\n",
      "2019-04-03 19:44:06,072 : INFO : deleting the raw counts dictionary of 123504 items\n",
      "2019-04-03 19:44:06,077 : INFO : sample=0.001 downsamples 48 most-common words\n",
      "2019-04-03 19:44:06,078 : INFO : downsampling leaves estimated 12749658 word corpus (74.0% of prior 17238940)\n",
      "2019-04-03 19:44:06,127 : INFO : estimated required memory for 16490 words and 300 dimensions: 47821000 bytes\n",
      "2019-04-03 19:44:06,129 : INFO : resetting layer weights\n",
      "2019-04-03 19:44:06,423 : INFO : training model with 4 workers on 16490 vocabulary and 300 features, using sg=0 hs=0 sample=0.001 negative=5 window=10\n",
      "2019-04-03 19:44:07,432 : INFO : EPOCH 1 - PROGRESS: at 5.48% examples, 700043 words/s, in_qsize 7, out_qsize 0\n",
      "2019-04-03 19:44:08,439 : INFO : EPOCH 1 - PROGRESS: at 12.68% examples, 801781 words/s, in_qsize 7, out_qsize 0\n",
      "2019-04-03 19:44:09,445 : INFO : EPOCH 1 - PROGRESS: at 20.05% examples, 842613 words/s, in_qsize 7, out_qsize 0\n",
      "2019-04-03 19:44:10,449 : INFO : EPOCH 1 - PROGRESS: at 26.69% examples, 842170 words/s, in_qsize 7, out_qsize 0\n",
      "2019-04-03 19:44:11,455 : INFO : EPOCH 1 - PROGRESS: at 34.16% examples, 861173 words/s, in_qsize 7, out_qsize 0\n",
      "2019-04-03 19:44:12,459 : INFO : EPOCH 1 - PROGRESS: at 41.31% examples, 869696 words/s, in_qsize 7, out_qsize 0\n",
      "2019-04-03 19:44:13,465 : INFO : EPOCH 1 - PROGRESS: at 48.66% examples, 879525 words/s, in_qsize 7, out_qsize 0\n",
      "2019-04-03 19:44:14,466 : INFO : EPOCH 1 - PROGRESS: at 56.00% examples, 886469 words/s, in_qsize 7, out_qsize 0\n",
      "2019-04-03 19:44:15,473 : INFO : EPOCH 1 - PROGRESS: at 62.82% examples, 884984 words/s, in_qsize 7, out_qsize 0\n",
      "2019-04-03 19:44:16,474 : INFO : EPOCH 1 - PROGRESS: at 69.99% examples, 887947 words/s, in_qsize 7, out_qsize 0\n",
      "2019-04-03 19:44:17,475 : INFO : EPOCH 1 - PROGRESS: at 77.16% examples, 890377 words/s, in_qsize 7, out_qsize 0\n",
      "2019-04-03 19:44:18,476 : INFO : EPOCH 1 - PROGRESS: at 84.12% examples, 890004 words/s, in_qsize 6, out_qsize 1\n",
      "2019-04-03 19:44:19,478 : INFO : EPOCH 1 - PROGRESS: at 91.04% examples, 889667 words/s, in_qsize 7, out_qsize 0\n",
      "2019-04-03 19:44:20,482 : INFO : EPOCH 1 - PROGRESS: at 98.06% examples, 889725 words/s, in_qsize 7, out_qsize 0\n",
      "2019-04-03 19:44:20,728 : INFO : worker thread finished; awaiting finish of 3 more threads\n",
      "2019-04-03 19:44:20,734 : INFO : worker thread finished; awaiting finish of 2 more threads\n",
      "2019-04-03 19:44:20,742 : INFO : worker thread finished; awaiting finish of 1 more threads\n",
      "2019-04-03 19:44:20,745 : INFO : worker thread finished; awaiting finish of 0 more threads\n",
      "2019-04-03 19:44:20,746 : INFO : EPOCH - 1 : training on 17798082 raw words (12750875 effective words) took 14.3s, 890786 effective words/s\n",
      "2019-04-03 19:44:21,752 : INFO : EPOCH 2 - PROGRESS: at 7.08% examples, 900331 words/s, in_qsize 7, out_qsize 0\n",
      "2019-04-03 19:44:22,756 : INFO : EPOCH 2 - PROGRESS: at 14.29% examples, 902945 words/s, in_qsize 7, out_qsize 0\n",
      "2019-04-03 19:44:23,765 : INFO : EPOCH 2 - PROGRESS: at 21.29% examples, 894731 words/s, in_qsize 7, out_qsize 0\n",
      "2019-04-03 19:44:24,785 : INFO : EPOCH 2 - PROGRESS: at 28.03% examples, 881133 words/s, in_qsize 7, out_qsize 0\n",
      "2019-04-03 19:44:25,789 : INFO : EPOCH 2 - PROGRESS: at 32.57% examples, 818897 words/s, in_qsize 6, out_qsize 1\n",
      "2019-04-03 19:44:26,800 : INFO : EPOCH 2 - PROGRESS: at 35.95% examples, 752871 words/s, in_qsize 7, out_qsize 0\n",
      "2019-04-03 19:44:27,800 : INFO : EPOCH 2 - PROGRESS: at 38.68% examples, 695750 words/s, in_qsize 7, out_qsize 0\n",
      "2019-04-03 19:44:28,802 : INFO : EPOCH 2 - PROGRESS: at 43.58% examples, 687385 words/s, in_qsize 7, out_qsize 0\n",
      "2019-04-03 19:44:29,810 : INFO : EPOCH 2 - PROGRESS: at 48.37% examples, 678707 words/s, in_qsize 8, out_qsize 0\n",
      "2019-04-03 19:44:30,820 : INFO : EPOCH 2 - PROGRESS: at 53.99% examples, 681611 words/s, in_qsize 7, out_qsize 0\n",
      "2019-04-03 19:44:31,824 : INFO : EPOCH 2 - PROGRESS: at 60.80% examples, 699209 words/s, in_qsize 7, out_qsize 0\n",
      "2019-04-03 19:44:32,827 : INFO : EPOCH 2 - PROGRESS: at 67.23% examples, 709299 words/s, in_qsize 7, out_qsize 0\n",
      "2019-04-03 19:44:33,831 : INFO : EPOCH 2 - PROGRESS: at 74.07% examples, 721564 words/s, in_qsize 7, out_qsize 0\n",
      "2019-04-03 19:44:34,840 : INFO : EPOCH 2 - PROGRESS: at 78.89% examples, 713542 words/s, in_qsize 7, out_qsize 0\n",
      "2019-04-03 19:44:35,870 : INFO : EPOCH 2 - PROGRESS: at 84.94% examples, 716055 words/s, in_qsize 7, out_qsize 0\n",
      "2019-04-03 19:44:36,875 : INFO : EPOCH 2 - PROGRESS: at 88.29% examples, 698040 words/s, in_qsize 7, out_qsize 0\n",
      "2019-04-03 19:44:37,880 : INFO : EPOCH 2 - PROGRESS: at 94.03% examples, 699667 words/s, in_qsize 7, out_qsize 0\n",
      "2019-04-03 19:44:38,882 : INFO : EPOCH 2 - PROGRESS: at 99.54% examples, 700058 words/s, in_qsize 7, out_qsize 0\n",
      "2019-04-03 19:44:38,940 : INFO : worker thread finished; awaiting finish of 3 more threads\n",
      "2019-04-03 19:44:38,950 : INFO : worker thread finished; awaiting finish of 2 more threads\n",
      "2019-04-03 19:44:38,957 : INFO : worker thread finished; awaiting finish of 1 more threads\n",
      "2019-04-03 19:44:38,961 : INFO : worker thread finished; awaiting finish of 0 more threads\n",
      "2019-04-03 19:44:38,962 : INFO : EPOCH - 2 : training on 17798082 raw words (12748988 effective words) took 18.2s, 700131 effective words/s\n",
      "2019-04-03 19:44:39,982 : INFO : EPOCH 3 - PROGRESS: at 4.70% examples, 593424 words/s, in_qsize 7, out_qsize 0\n",
      "2019-04-03 19:44:40,997 : INFO : EPOCH 3 - PROGRESS: at 8.11% examples, 507740 words/s, in_qsize 7, out_qsize 0\n",
      "2019-04-03 19:44:41,998 : INFO : EPOCH 3 - PROGRESS: at 12.18% examples, 510248 words/s, in_qsize 7, out_qsize 0\n",
      "2019-04-03 19:44:43,001 : INFO : EPOCH 3 - PROGRESS: at 16.06% examples, 505931 words/s, in_qsize 7, out_qsize 0\n",
      "2019-04-03 19:44:44,002 : INFO : EPOCH 3 - PROGRESS: at 21.07% examples, 530168 words/s, in_qsize 7, out_qsize 0\n",
      "2019-04-03 19:44:45,004 : INFO : EPOCH 3 - PROGRESS: at 25.97% examples, 545245 words/s, in_qsize 7, out_qsize 0\n",
      "2019-04-03 19:44:46,018 : INFO : EPOCH 3 - PROGRESS: at 30.50% examples, 548865 words/s, in_qsize 8, out_qsize 1\n",
      "2019-04-03 19:44:47,023 : INFO : EPOCH 3 - PROGRESS: at 35.83% examples, 563788 words/s, in_qsize 8, out_qsize 0\n",
      "2019-04-03 19:44:48,027 : INFO : EPOCH 3 - PROGRESS: at 41.31% examples, 578676 words/s, in_qsize 7, out_qsize 0\n",
      "2019-04-03 19:44:49,049 : INFO : EPOCH 3 - PROGRESS: at 46.88% examples, 590942 words/s, in_qsize 8, out_qsize 1\n",
      "2019-04-03 19:44:50,049 : INFO : EPOCH 3 - PROGRESS: at 52.27% examples, 599595 words/s, in_qsize 7, out_qsize 0\n",
      "2019-04-03 19:44:51,061 : INFO : EPOCH 3 - PROGRESS: at 57.42% examples, 604366 words/s, in_qsize 7, out_qsize 0\n",
      "2019-04-03 19:44:52,082 : INFO : EPOCH 3 - PROGRESS: at 62.99% examples, 611884 words/s, in_qsize 7, out_qsize 0\n",
      "2019-04-03 19:44:53,088 : INFO : EPOCH 3 - PROGRESS: at 67.97% examples, 613352 words/s, in_qsize 7, out_qsize 0\n",
      "2019-04-03 19:44:54,091 : INFO : EPOCH 3 - PROGRESS: at 73.79% examples, 621924 words/s, in_qsize 7, out_qsize 0\n",
      "2019-04-03 19:44:55,115 : INFO : EPOCH 3 - PROGRESS: at 78.95% examples, 623217 words/s, in_qsize 7, out_qsize 2\n",
      "2019-04-03 19:44:56,117 : INFO : EPOCH 3 - PROGRESS: at 84.83% examples, 630573 words/s, in_qsize 8, out_qsize 0\n",
      "2019-04-03 19:44:57,117 : INFO : EPOCH 3 - PROGRESS: at 91.55% examples, 643101 words/s, in_qsize 7, out_qsize 0\n",
      "2019-04-03 19:44:58,125 : INFO : EPOCH 3 - PROGRESS: at 98.29% examples, 654079 words/s, in_qsize 7, out_qsize 0\n"
     ]
    },
    {
     "name": "stderr",
     "output_type": "stream",
     "text": [
      "2019-04-03 19:44:58,354 : INFO : worker thread finished; awaiting finish of 3 more threads\n",
      "2019-04-03 19:44:58,361 : INFO : worker thread finished; awaiting finish of 2 more threads\n",
      "2019-04-03 19:44:58,369 : INFO : worker thread finished; awaiting finish of 1 more threads\n",
      "2019-04-03 19:44:58,376 : INFO : worker thread finished; awaiting finish of 0 more threads\n",
      "2019-04-03 19:44:58,378 : INFO : EPOCH - 3 : training on 17798082 raw words (12749641 effective words) took 19.4s, 656951 effective words/s\n",
      "2019-04-03 19:44:59,388 : INFO : EPOCH 4 - PROGRESS: at 6.90% examples, 878628 words/s, in_qsize 7, out_qsize 0\n",
      "2019-04-03 19:45:00,389 : INFO : EPOCH 4 - PROGRESS: at 13.99% examples, 886397 words/s, in_qsize 7, out_qsize 0\n",
      "2019-04-03 19:45:01,392 : INFO : EPOCH 4 - PROGRESS: at 21.29% examples, 897429 words/s, in_qsize 7, out_qsize 0\n",
      "2019-04-03 19:45:02,396 : INFO : EPOCH 4 - PROGRESS: at 28.43% examples, 899163 words/s, in_qsize 7, out_qsize 0\n",
      "2019-04-03 19:45:03,409 : INFO : EPOCH 4 - PROGRESS: at 35.78% examples, 902518 words/s, in_qsize 7, out_qsize 0\n",
      "2019-04-03 19:45:04,410 : INFO : EPOCH 4 - PROGRESS: at 42.86% examples, 903564 words/s, in_qsize 7, out_qsize 0\n",
      "2019-04-03 19:45:05,414 : INFO : EPOCH 4 - PROGRESS: at 50.05% examples, 905730 words/s, in_qsize 7, out_qsize 0\n",
      "2019-04-03 19:45:06,414 : INFO : EPOCH 4 - PROGRESS: at 57.10% examples, 905007 words/s, in_qsize 7, out_qsize 0\n",
      "2019-04-03 19:45:07,417 : INFO : EPOCH 4 - PROGRESS: at 64.05% examples, 903438 words/s, in_qsize 7, out_qsize 0\n",
      "2019-04-03 19:45:08,419 : INFO : EPOCH 4 - PROGRESS: at 71.22% examples, 904575 words/s, in_qsize 7, out_qsize 0\n",
      "2019-04-03 19:45:09,420 : INFO : EPOCH 4 - PROGRESS: at 78.20% examples, 903507 words/s, in_qsize 7, out_qsize 0\n",
      "2019-04-03 19:45:10,422 : INFO : EPOCH 4 - PROGRESS: at 85.40% examples, 904367 words/s, in_qsize 7, out_qsize 0\n",
      "2019-04-03 19:45:11,424 : INFO : EPOCH 4 - PROGRESS: at 92.39% examples, 903483 words/s, in_qsize 7, out_qsize 0\n",
      "2019-04-03 19:45:12,432 : INFO : EPOCH 4 - PROGRESS: at 97.95% examples, 889076 words/s, in_qsize 7, out_qsize 0\n",
      "2019-04-03 19:45:12,747 : INFO : worker thread finished; awaiting finish of 3 more threads\n",
      "2019-04-03 19:45:12,759 : INFO : worker thread finished; awaiting finish of 2 more threads\n",
      "2019-04-03 19:45:12,767 : INFO : worker thread finished; awaiting finish of 1 more threads\n",
      "2019-04-03 19:45:12,772 : INFO : worker thread finished; awaiting finish of 0 more threads\n",
      "2019-04-03 19:45:12,773 : INFO : EPOCH - 4 : training on 17798082 raw words (12750047 effective words) took 14.4s, 886380 effective words/s\n",
      "2019-04-03 19:45:13,786 : INFO : EPOCH 5 - PROGRESS: at 4.81% examples, 611754 words/s, in_qsize 7, out_qsize 0\n",
      "2019-04-03 19:45:14,793 : INFO : EPOCH 5 - PROGRESS: at 10.53% examples, 664473 words/s, in_qsize 7, out_qsize 0\n",
      "2019-04-03 19:45:15,798 : INFO : EPOCH 5 - PROGRESS: at 16.61% examples, 697104 words/s, in_qsize 7, out_qsize 0\n",
      "2019-04-03 19:45:16,801 : INFO : EPOCH 5 - PROGRESS: at 22.70% examples, 715455 words/s, in_qsize 7, out_qsize 0\n",
      "2019-04-03 19:45:17,805 : INFO : EPOCH 5 - PROGRESS: at 29.26% examples, 738689 words/s, in_qsize 7, out_qsize 0\n",
      "2019-04-03 19:45:18,812 : INFO : EPOCH 5 - PROGRESS: at 35.39% examples, 743257 words/s, in_qsize 7, out_qsize 0\n",
      "2019-04-03 19:45:19,824 : INFO : EPOCH 5 - PROGRESS: at 40.30% examples, 726010 words/s, in_qsize 7, out_qsize 0\n",
      "2019-04-03 19:45:20,832 : INFO : EPOCH 5 - PROGRESS: at 46.06% examples, 726614 words/s, in_qsize 7, out_qsize 0\n",
      "2019-04-03 19:45:21,836 : INFO : EPOCH 5 - PROGRESS: at 50.85% examples, 713974 words/s, in_qsize 6, out_qsize 1\n",
      "2019-04-03 19:45:22,858 : INFO : EPOCH 5 - PROGRESS: at 56.72% examples, 716047 words/s, in_qsize 7, out_qsize 0\n",
      "2019-04-03 19:45:23,866 : INFO : EPOCH 5 - PROGRESS: at 61.42% examples, 705784 words/s, in_qsize 7, out_qsize 0\n",
      "2019-04-03 19:45:24,879 : INFO : EPOCH 5 - PROGRESS: at 66.34% examples, 698692 words/s, in_qsize 7, out_qsize 0\n",
      "2019-04-03 19:45:25,885 : INFO : EPOCH 5 - PROGRESS: at 70.60% examples, 686542 words/s, in_qsize 7, out_qsize 0\n",
      "2019-04-03 19:45:26,891 : INFO : EPOCH 5 - PROGRESS: at 74.80% examples, 675651 words/s, in_qsize 7, out_qsize 0\n",
      "2019-04-03 19:45:27,894 : INFO : EPOCH 5 - PROGRESS: at 78.79% examples, 664377 words/s, in_qsize 7, out_qsize 0\n",
      "2019-04-03 19:45:28,951 : INFO : EPOCH 5 - PROGRESS: at 83.45% examples, 657658 words/s, in_qsize 8, out_qsize 0\n",
      "2019-04-03 19:45:29,985 : INFO : EPOCH 5 - PROGRESS: at 88.02% examples, 652230 words/s, in_qsize 7, out_qsize 0\n",
      "2019-04-03 19:45:30,989 : INFO : EPOCH 5 - PROGRESS: at 93.74% examples, 656301 words/s, in_qsize 7, out_qsize 0\n",
      "2019-04-03 19:45:31,991 : INFO : EPOCH 5 - PROGRESS: at 99.83% examples, 662651 words/s, in_qsize 3, out_qsize 1\n",
      "2019-04-03 19:45:31,992 : INFO : worker thread finished; awaiting finish of 3 more threads\n",
      "2019-04-03 19:45:32,001 : INFO : worker thread finished; awaiting finish of 2 more threads\n",
      "2019-04-03 19:45:32,015 : INFO : worker thread finished; awaiting finish of 1 more threads\n",
      "2019-04-03 19:45:32,018 : INFO : worker thread finished; awaiting finish of 0 more threads\n",
      "2019-04-03 19:45:32,019 : INFO : EPOCH - 5 : training on 17798082 raw words (12750291 effective words) took 19.2s, 662799 effective words/s\n",
      "2019-04-03 19:45:32,020 : INFO : training on a 88990410 raw words (63749842 effective words) took 85.6s, 744807 effective words/s\n",
      "2019-04-03 19:45:32,022 : INFO : precomputing L2-norms of word weight vectors\n",
      "2019-04-03 19:45:32,044 : INFO : saving Word2Vec object under model/300features_40minwords_10context, separately None\n",
      "2019-04-03 19:45:32,047 : INFO : not storing attribute vectors_norm\n",
      "2019-04-03 19:45:32,049 : INFO : not storing attribute cum_table\n",
      "2019-04-03 19:45:32,487 : INFO : saved model/300features_40minwords_10context\n"
     ]
    }
   ],
   "source": [
    "# import logging module to make output messages nicer\n",
    "logging.basicConfig(format='%(asctime)s : %(levelname)s : %(message)s', level=logging.INFO)\n",
    "\n",
    "num_features = 300    # Word vector dimensionality                      \n",
    "min_word_count = 40   # Minimum word count                        \n",
    "num_workers = 4       # Number of threads to run in parallel\n",
    "context = 10          # Context window size                                                                                    \n",
    "downsampling = 1e-3   # Downsample setting for frequent words\n",
    "\n",
    "print(\"Training model...\")\n",
    "model = word2vec.Word2Vec(sentences, workers=num_workers, \n",
    "            size=num_features, min_count = min_word_count, \n",
    "            window = context, sample = downsampling)\n",
    "\n",
    "model.init_sims(replace=True)\n",
    "model_name = 'model/300features_40minwords_10context'\n",
    "model.save(model_name)"
   ]
  },
  {
   "cell_type": "markdown",
   "metadata": {},
   "source": [
    "## MODEL 1 : Average Feature Vectors"
   ]
  },
  {
   "cell_type": "code",
   "execution_count": 15,
   "metadata": {},
   "outputs": [],
   "source": [
    "# Function to average all of the word vectors \n",
    "def makeFeatureVec(words, model, num_features):\n",
    "    # initialize an empty numpy array \n",
    "    featureVec = np.zeros((num_features,), dtype=\"float32\")\n",
    "    nwords = 0\n",
    "    \n",
    "    # Index2word is a list contains the names of the words in the model's vocabulary. \n",
    "    index2word_set = set(model.wv.index2word)\n",
    "    \n",
    "    for word in words:\n",
    "        if word in index2word_set: \n",
    "            nwords = nwords + 1\n",
    "            featureVec = np.add(featureVec, model[word])\n",
    "    \n",
    "    # Divide the result by the number of words to get the average\n",
    "    featureVec = np.divide(featureVec, nwords)\n",
    "    return featureVec\n",
    "\n",
    "# function to calculate the average feature vector for each one \n",
    "def getAvgFeatureVecs(reviews, model, num_features): \n",
    "    # Initialize a counter\n",
    "    counter = 0\n",
    "    reviewFeatureVecs = np.zeros((len(reviews),num_features),dtype=\"float32\")\n",
    "    \n",
    "    for review in reviews:\n",
    "       \n",
    "        # Print a status message every 1000th review\n",
    "        if counter%1000 == 0.:\n",
    "            print(\"Review %d of %d\" % (counter, len(reviews)))\n",
    "       \n",
    "        reviewFeatureVecs[counter] = makeFeatureVec(review, model, num_features)\n",
    "        counter = counter + 1\n",
    "    return reviewFeatureVecs"
   ]
  },
  {
   "cell_type": "code",
   "execution_count": 16,
   "metadata": {},
   "outputs": [
    {
     "name": "stdout",
     "output_type": "stream",
     "text": [
      "Review 0 of 25000\n"
     ]
    },
    {
     "name": "stderr",
     "output_type": "stream",
     "text": [
      "/Users/bonnie/anaconda3/lib/python3.7/site-packages/ipykernel_launcher.py:18: DeprecationWarning: Call to deprecated `__getitem__` (Method will be removed in 4.0.0, use self.wv.__getitem__() instead).\n"
     ]
    },
    {
     "name": "stdout",
     "output_type": "stream",
     "text": [
      "Review 1000 of 25000\n",
      "Review 2000 of 25000\n",
      "Review 3000 of 25000\n",
      "Review 4000 of 25000\n",
      "Review 5000 of 25000\n",
      "Review 6000 of 25000\n",
      "Review 7000 of 25000\n",
      "Review 8000 of 25000\n",
      "Review 9000 of 25000\n",
      "Review 10000 of 25000\n",
      "Review 11000 of 25000\n",
      "Review 12000 of 25000\n",
      "Review 13000 of 25000\n",
      "Review 14000 of 25000\n",
      "Review 15000 of 25000\n",
      "Review 16000 of 25000\n",
      "Review 17000 of 25000\n",
      "Review 18000 of 25000\n",
      "Review 19000 of 25000\n",
      "Review 20000 of 25000\n",
      "Review 21000 of 25000\n",
      "Review 22000 of 25000\n",
      "Review 23000 of 25000\n",
      "Review 24000 of 25000\n",
      "Creating average feature vecs for test reviews\n",
      "Review 0 of 25000\n",
      "Review 1000 of 25000\n",
      "Review 2000 of 25000\n",
      "Review 3000 of 25000\n",
      "Review 4000 of 25000\n",
      "Review 5000 of 25000\n",
      "Review 6000 of 25000\n",
      "Review 7000 of 25000\n",
      "Review 8000 of 25000\n",
      "Review 9000 of 25000\n",
      "Review 10000 of 25000\n",
      "Review 11000 of 25000\n",
      "Review 12000 of 25000\n",
      "Review 13000 of 25000\n",
      "Review 14000 of 25000\n",
      "Review 15000 of 25000\n",
      "Review 16000 of 25000\n",
      "Review 17000 of 25000\n",
      "Review 18000 of 25000\n",
      "Review 19000 of 25000\n",
      "Review 20000 of 25000\n",
      "Review 21000 of 25000\n",
      "Review 22000 of 25000\n",
      "Review 23000 of 25000\n",
      "Review 24000 of 25000\n"
     ]
    }
   ],
   "source": [
    "# Calculate average feature vectors for training and testing sets\n",
    "\n",
    "clean_train_reviews = []\n",
    "for review in train[\"review\"]:\n",
    "    clean_train_reviews.append( review_to_wordlist( review, remove_stopwords=True ))\n",
    "\n",
    "trainDataVecs = getAvgFeatureVecs( clean_train_reviews, model, num_features )\n",
    "\n",
    "print(\"Creating average feature vecs for test reviews\")\n",
    "\n",
    "clean_test_reviews = []\n",
    "for review in test[\"review\"]:\n",
    "    clean_test_reviews.append( review_to_wordlist( review, remove_stopwords=True ))\n",
    "\n",
    "testDataVecs = getAvgFeatureVecs( clean_test_reviews, model, num_features )"
   ]
  },
  {
   "cell_type": "code",
   "execution_count": 18,
   "metadata": {},
   "outputs": [
    {
     "name": "stdout",
     "output_type": "stream",
     "text": [
      "Fitting a random forest to labeled training data...\n"
     ]
    }
   ],
   "source": [
    "# Fit a random forest to the training data, using 100 trees\n",
    "\n",
    "forest = RandomForestClassifier( n_estimators = 100 )\n",
    "\n",
    "print(\"Fitting a random forest to labeled training data...\")\n",
    "forest = forest.fit( trainDataVecs, train[\"sentiment\"] )\n",
    "\n",
    "result = forest.predict( testDataVecs )\n",
    "output = pd.DataFrame( data={\"id\":test[\"id\"], \"sentiment\":result} )\n",
    "output.to_csv( 'result/Word2_Ave.csv', index=False, quoting=3 )"
   ]
  },
  {
   "cell_type": "markdown",
   "metadata": {},
   "source": [
    "## MODEL 1 : Conclusion\n"
   ]
  },
  {
   "cell_type": "markdown",
   "metadata": {},
   "source": [
    "![title](pic/Word2_Ave.png)"
   ]
  },
  {
   "cell_type": "markdown",
   "metadata": {},
   "source": [
    "Word2vec is the most popular way of processing the words to anaylize, that's why i am using that for the first two of my models. Analyze the data by using Average Feature Vectors, which gets socres of 0.82748."
   ]
  },
  {
   "cell_type": "markdown",
   "metadata": {},
   "source": [
    "## MODEL 2 : Cluster Analysis"
   ]
  },
  {
   "cell_type": "code",
   "execution_count": 21,
   "metadata": {},
   "outputs": [
    {
     "name": "stderr",
     "output_type": "stream",
     "text": [
      "/Users/bonnie/anaconda3/lib/python3.7/site-packages/ipykernel_launcher.py:5: DeprecationWarning: Call to deprecated `syn0` (Attribute will be removed in 4.0.0, use self.vectors instead).\n",
      "  \"\"\"\n"
     ]
    },
    {
     "name": "stdout",
     "output_type": "stream",
     "text": [
      "Time taken for K Means clustering:  402.3447847366333 seconds.\n"
     ]
    }
   ],
   "source": [
    "# Start time\n",
    "start = time.time() \n",
    "\n",
    "# Set \"k\" (num_clusters) to get an average of 5 words per cluster\n",
    "word_vectors = model.wv.syn0\n",
    "num_clusters = word_vectors.shape[0] // 5\n",
    "\n",
    "kmeans_clustering = KMeans( n_clusters = num_clusters, n_jobs=-2 )\n",
    "idx = kmeans_clustering.fit_predict( word_vectors )\n",
    "\n",
    "# Get the end time and print how long the process took\n",
    "end = time.time()\n",
    "elapsed = end - start\n",
    "print(\"Time taken for K Means clustering: \", elapsed, \"seconds.\")"
   ]
  },
  {
   "cell_type": "code",
   "execution_count": 22,
   "metadata": {},
   "outputs": [],
   "source": [
    "# Mapping each vocabulary word to a cluster number                                                                                            \n",
    "word_centroid_map = dict(zip( model.wv.index2word, idx ))"
   ]
  },
  {
   "cell_type": "code",
   "execution_count": 23,
   "metadata": {},
   "outputs": [
    {
     "name": "stdout",
     "output_type": "stream",
     "text": [
      "\n",
      "Cluster 0\n",
      "['contrasting']\n",
      "\n",
      "Cluster 1\n",
      "['fury', 'leprechaun', 'wolfman', 'knockoff']\n",
      "\n",
      "Cluster 2\n",
      "['esther', 'pammy']\n",
      "\n",
      "Cluster 3\n",
      "['sneaking']\n",
      "\n",
      "Cluster 4\n",
      "['kill', 'survive', 'destroy', 'defeat', 'defend', 'conquer', 'eliminate', 'invent', 'dispose', 'summon', 'unleash', 'consume', 'thwart']\n",
      "\n",
      "Cluster 5\n",
      "['jan', 'meyers', 'moriarty', 'pare', 'wilding', 'channeling', 'jayston']\n",
      "\n",
      "Cluster 6\n",
      "['agents', 'investigators']\n",
      "\n",
      "Cluster 7\n",
      "['helmet', 'fried', 'straw', 'torch', 'frog', 'bowling', 'horns', 'slime', 'flaming', 'grinning', 'fangs', 'statues', 'wasp', 'vinyl', 'tattoos', 'goblin', 'feces']\n",
      "\n",
      "Cluster 8\n",
      "['overt', 'metaphysical', 'freudian']\n",
      "\n",
      "Cluster 9\n",
      "['replaced', 'confronted', 'approached', 'greeted']\n"
     ]
    }
   ],
   "source": [
    "# For the first 10 clusters\n",
    "for cluster in range(0, 10):\n",
    "\n",
    "    print(\"\\nCluster %d\" % cluster)\n",
    "\n",
    "    # print all of the words for that cluster number\n",
    "    words = []\n",
    "    for i in range(0, len(word_centroid_map.values())):\n",
    "        if( list(word_centroid_map.values())[i] == cluster ):\n",
    "            words.append(list(word_centroid_map.keys())[i])\n",
    "    print(words)"
   ]
  },
  {
   "cell_type": "code",
   "execution_count": 24,
   "metadata": {},
   "outputs": [],
   "source": [
    "def create_bag_of_centroids( wordlist, word_centroid_map ):\n",
    "\n",
    "    # The number of clusters is equal to the highest cluster index\n",
    "    num_centroids = max( word_centroid_map.values() ) + 1\n",
    "    bag_of_centroids = np.zeros( num_centroids, dtype=\"float32\" )\n",
    "\n",
    "    # find which cluster it belongs to\n",
    "    for word in wordlist:\n",
    "        if word in word_centroid_map:\n",
    "            index = word_centroid_map[word]\n",
    "            bag_of_centroids[index] += 1\n",
    "\n",
    "    return bag_of_centroids"
   ]
  },
  {
   "cell_type": "code",
   "execution_count": 25,
   "metadata": {},
   "outputs": [],
   "source": [
    "train_centroids = np.zeros((train[\"review\"].size, num_clusters), dtype=\"float32\")\n",
    "\n",
    "# Transform the training set reviews into bags of centroids\n",
    "counter = 0\n",
    "for review in clean_train_reviews:\n",
    "    train_centroids[counter] = create_bag_of_centroids( review, word_centroid_map )\n",
    "    counter += 1\n",
    "\n",
    "test_centroids = np.zeros(( test[\"review\"].size, num_clusters), dtype=\"float32\" )\n",
    "\n",
    "counter = 0\n",
    "for review in clean_test_reviews:\n",
    "    test_centroids[counter] = create_bag_of_centroids(review, word_centroid_map )\n",
    "    counter += 1"
   ]
  },
  {
   "cell_type": "code",
   "execution_count": 26,
   "metadata": {},
   "outputs": [
    {
     "name": "stdout",
     "output_type": "stream",
     "text": [
      "Fitting a random forest to labeled training data...\n"
     ]
    }
   ],
   "source": [
    "# Fit a random forest and extract predictions \n",
    "forest = RandomForestClassifier(n_estimators = 100)\n",
    "\n",
    "print(\"Fitting a random forest to labeled training data...\")\n",
    "forest = forest.fit(train_centroids,train[\"sentiment\"])\n",
    "result = forest.predict(test_centroids)\n",
    "\n",
    "output = pd.DataFrame(data={\"id\":test[\"id\"], \"sentiment\":result})\n",
    "output.to_csv( \"result/BagOfCentroids.csv\", index=False, quoting=3 )"
   ]
  },
  {
   "cell_type": "markdown",
   "metadata": {},
   "source": [
    "## MODEL 2 : Conclusion"
   ]
  },
  {
   "cell_type": "markdown",
   "metadata": {},
   "source": [
    "![title](pic/BOC.png)\n"
   ]
  },
  {
   "cell_type": "markdown",
   "metadata": {},
   "source": [
    "Model 2 is based on word2vec model to analze the data by using Cluster, which gets the socre as 0.84776."
   ]
  },
  {
   "cell_type": "markdown",
   "metadata": {},
   "source": [
    "## MODEL 3 : Bag-of-words model"
   ]
  },
  {
   "cell_type": "code",
   "execution_count": 4,
   "metadata": {
    "scrolled": false
   },
   "outputs": [
    {
     "name": "stdout",
     "output_type": "stream",
     "text": [
      "feature value:  [[1 0 2 1 1 2]\n",
      " [0 1 0 0 2 0]]\n",
      "feature name:  ['do', 'hello', 'like', 'me', 'yo', 'you']\n",
      "vectorizer.vocabulary_:  {'like': 2, 'you': 5, 'yo': 4, 'do': 0, 'me': 3, 'hello': 1}\n",
      "feature count:  5000\n"
     ]
    }
   ],
   "source": [
    "# count all the vector & select the feature \n",
    "vectorizer = CountVectorizer(analyzer=\"word\",\n",
    "                             tokenizer=None,\n",
    "                             preprocessor=None,\n",
    "                             stop_words=None,\n",
    "                             max_features=5000)\n",
    " \n",
    "corpus_simple = ['I like you yo, do you like me?', 'yo yo hello']\n",
    "train_data_features = vectorizer.fit_transform(corpus_simple)\n",
    " \n",
    "print('feature value: ', train_data_features.toarray())\n",
    "print('feature name: ', vectorizer.get_feature_names())\n",
    " \n",
    "print('vectorizer.vocabulary_: ', vectorizer.vocabulary_)\n",
    " \n",
    "\n",
    "train_data_features = vectorizer.fit_transform(clean_train_reviews)\n",
    "print('feature count: ', len(vectorizer.vocabulary_))"
   ]
  },
  {
   "cell_type": "code",
   "execution_count": 5,
   "metadata": {
    "scrolled": false
   },
   "outputs": [
    {
     "name": "stdout",
     "output_type": "stream",
     "text": [
      "Start...\n",
      "term 1000 of 5000\n",
      "term 2000 of 5000\n",
      "term 3000 of 5000\n",
      "term 4000 of 5000\n",
      "term 5000 of 5000\n",
      "term 1000 of 5000\n",
      "term 2000 of 5000\n",
      "term 3000 of 5000\n",
      "term 4000 of 5000\n",
      "term 5000 of 5000\n"
     ]
    }
   ],
   "source": [
    "# function to process the word using chisquare\n",
    "def chi(term, cl, X, Y):\n",
    "    N = len(Y)\n",
    "    A = B = C = D = 0\n",
    "    for i, x in enumerate(X):\n",
    "        flag = False\n",
    "        #for k in x.keys():\n",
    "        for k in x:\n",
    "            if k == term:\n",
    "                flag = True\n",
    "                break\n",
    " \n",
    "        if flag == True:\n",
    "            if str(Y[i]) == str(cl):\n",
    "                A = A + 1\n",
    "            else:\n",
    "                B = B + 1\n",
    "        else:\n",
    "            if str(Y[i]) == str(cl):\n",
    "                C = C + 1\n",
    "            else:\n",
    "                D = D + 1\n",
    "    re = int((N * (A * D - B * C) * (A * D - B * C)) / ((A + B) * (A + C) * (B + D) * (C + D)))\n",
    "    return re\n",
    "\n",
    "## Traversing the words in bags\n",
    "def dump_feature(labels, dic, X, Y, filePath):\n",
    "\n",
    "    fp = open(filePath, 'w')\n",
    "    dic_num = len(dic)\n",
    " \n",
    "\n",
    "    for cl in labels:\n",
    "        fp.write(str(cl))\n",
    "        i = 0\n",
    "        for term in dic.keys():\n",
    "            if ((i+1)%1000 == 0):\n",
    "                print(\"term %d of %d\" % (i+1, dic_num))\n",
    "            s = chi(term, cl, X, Y)\n",
    "            fp.write(' ' + term + ':' + str(s))\n",
    "            i+=1\n",
    "        fp.write('\\n')\n",
    "        fp.flush()\n",
    "    fp.close()\n",
    "    \n",
    "labels = [0, 1]\n",
    "file_path = 'result/feature_word.txt'\n",
    "X = [review.split(' ') for review in clean_train_reviews]\n",
    " \n",
    "print('Start...')\n",
    "dump_feature(labels, vectorizer.vocabulary_, X, train['sentiment'], filePath=file_path)"
   ]
  },
  {
   "cell_type": "code",
   "execution_count": 6,
   "metadata": {},
   "outputs": [],
   "source": [
    "## select the most k features\n",
    "def select_feature(filePath, k):\n",
    "    read = open(filePath, 'r')\n",
    "    lab_fea = {}\n",
    " \n",
    "    for line in read:\n",
    "        line_arr = line.strip().split()\n",
    "        if len(line_arr) - 1 <= k:\n",
    "            lab_fea[line_arr[0]] = [kv.split(':')[0] for kv in line_arr[1:]]\n",
    "        else:\n",
    "            heap = []\n",
    "            heapq.heapify(heap)\n",
    "            for kv in line_arr[1:]:\n",
    "                key, val = kv.split(':')\n",
    "                if len(heap) < k:\n",
    "                    heapq.heappush(heap, (float(val), key))\n",
    "                else:\n",
    "                    if float(val) > heap[0][0]:\n",
    "                        heapq.heappop(heap)\n",
    "                        heapq.heappush(heap, (float(val), key))\n",
    "            lab_fea[line_arr[0]] = [heapq.heappop(heap)[1] for i in range(len(heap))]\n",
    "    read.close()\n",
    "    return lab_fea\n",
    " \n",
    "## select the top 1000\n",
    "max_feature = 1000\n",
    "fab_feature = select_feature('result/feature_word.txt', max_feature)[\"1\"]\n",
    " \n",
    "# put in tf-idf model\n",
    "vectorizer = TfidfVectorizer(analyzer = \"word\",\n",
    "                                 tokenizer = None,\n",
    "                                 preprocessor = None,\n",
    "                                 stop_words = None,\n",
    "                                 vocabulary = fab_feature,\n",
    "                                 max_features = max_feature)"
   ]
  },
  {
   "cell_type": "code",
   "execution_count": 8,
   "metadata": {},
   "outputs": [
    {
     "name": "stdout",
     "output_type": "stream",
     "text": [
      "feature value:  [[0.30851498 0.         0.61702996 0.30851498 0.21951095 0.61702996]\n",
      " [0.         0.57496187 0.         0.         0.81818021 0.        ]]\n",
      "feature value shape:  (2, 6)\n",
      "feature name:  ['do', 'hello', 'like', 'me', 'yo', 'you']\n",
      "bsr_matrix_train_data_features_simple: \n",
      "   (0, 2)\t0.6170299644182933\n",
      "  (0, 5)\t0.6170299644182933\n",
      "  (0, 4)\t0.21951095080860833\n",
      "  (0, 0)\t0.30851498220914664\n",
      "  (0, 3)\t0.30851498220914664\n",
      "  (1, 4)\t0.8181802073667197\n",
      "  (1, 1)\t0.5749618667993135\n",
      "bsr_matrix_train_data_features_simple.shape:  (2, 6)\n"
     ]
    }
   ],
   "source": [
    "vectorizer = TfidfVectorizer(analyzer = \"word\",\n",
    "                                 tokenizer = None,\n",
    "                                 preprocessor = None,\n",
    "                                 stop_words = None,\n",
    "                                 vocabulary = None, # fab_feature\n",
    "                                 max_features = None)\n",
    " \n",
    "corpus_simple = ['I like you yo, do you like me?', 'yo yo hello']\n",
    " \n",
    "train_data_features_simple = vectorizer.fit_transform(corpus_simple)\n",
    "\n",
    "print('feature value: ', train_data_features_simple.toarray())\n",
    "print('feature value shape: ', train_data_features_simple.shape)\n",
    "print('feature name: ', vectorizer.get_feature_names())\n",
    " \n",
    "train_data_features_simple = bsr_matrix(train_data_features_simple)\n",
    "print('bsr_matrix_train_data_features_simple: \\n', train_data_features_simple)\n",
    "print('bsr_matrix_train_data_features_simple.shape: ', train_data_features_simple.shape)"
   ]
  },
  {
   "cell_type": "code",
   "execution_count": 9,
   "metadata": {
    "scrolled": false
   },
   "outputs": [
    {
     "name": "stdout",
     "output_type": "stream",
     "text": [
      "train_data_features.shape:  (25000, 74047)\n",
      "bsr_matrix_train_data_features.shape:  (25000, 74047)\n"
     ]
    },
    {
     "name": "stderr",
     "output_type": "stream",
     "text": [
      "/Users/bonnie/anaconda3/lib/python3.7/site-packages/sklearn/linear_model/logistic.py:433: FutureWarning: Default solver will be changed to 'lbfgs' in 0.22. Specify a solver to silence this warning.\n",
      "  FutureWarning)\n"
     ]
    },
    {
     "data": {
      "text/plain": [
       "LogisticRegression(C=1, class_weight=None, dual=False, fit_intercept=True,\n",
       "          intercept_scaling=1.0, max_iter=100, multi_class='warn',\n",
       "          n_jobs=None, penalty='l2', random_state=None, solver='warn',\n",
       "          tol=0.0001, verbose=0, warm_start=False)"
      ]
     },
     "execution_count": 9,
     "metadata": {},
     "output_type": "execute_result"
    }
   ],
   "source": [
    "train_data_features = vectorizer.fit_transform(clean_train_reviews)\n",
    "print('train_data_features.shape: ', train_data_features.shape)\n",
    " \n",
    "train_data_features = bsr_matrix(train_data_features)\n",
    "print('bsr_matrix_train_data_features.shape: ', train_data_features.shape)\n",
    " \n",
    "# put in LR to train\n",
    "lr = LogisticRegression(penalty='l2', dual=False, tol=0.0001, C=1, fit_intercept=True, intercept_scaling=1.0, class_weight=None, random_state=None) \n",
    "lr.fit(train_data_features, list(train[\"sentiment\"]))"
   ]
  },
  {
   "cell_type": "code",
   "execution_count": 10,
   "metadata": {},
   "outputs": [],
   "source": [
    "test = pd.read_csv(\"data/testData.tsv\", header = 0, delimiter = \"\\t\", quoting = 3)\n",
    " \n",
    "clean_test_reviews = []\n",
    "for i in range(len(test)):\n",
    "    clean_review = review_to_words(test['review'][i])\n",
    "    clean_test_reviews.append(clean_review)\n",
    "   \n",
    "test_data_features = vectorizer.transform(clean_test_reviews)\n",
    "test_data_features = bsr_matrix(test_data_features)\n",
    " \n",
    "result = lr.predict(test_data_features)"
   ]
  },
  {
   "cell_type": "code",
   "execution_count": 11,
   "metadata": {},
   "outputs": [],
   "source": [
    "df = pd.DataFrame(data={\"id\": test[\"id\"], \"sentiment\": result})\n",
    "df.to_csv(\"result/bow__tfidf_lr.csv\", index=False, quoting=3)"
   ]
  },
  {
   "cell_type": "markdown",
   "metadata": {},
   "source": [
    "## MODEL 3 : Conclusion"
   ]
  },
  {
   "cell_type": "markdown",
   "metadata": {},
   "source": [
    "![title](pic/chi.png)"
   ]
  },
  {
   "cell_type": "markdown",
   "metadata": {},
   "source": [
    "Since the two models based on Word2vec model didn't get a good score. That's why, I am using another model to process the data, which is Bag-of-words model. This model taks the frequency of occurrence of words as a feature of the training classifier. And this model gets the highest score as 0.8832"
   ]
  },
  {
   "cell_type": "markdown",
   "metadata": {},
   "source": [
    "# Conclusion"
   ]
  },
  {
   "cell_type": "markdown",
   "metadata": {},
   "source": [
    "Analyzing the same dataset by using different methods can get different accuracy. The mainly different between the methods is how they processing the data. Like the first two models are using word2vec model, which put words into vector. But for the model that model 3 was using is Bag-of-words model, which is consider the frequency of occurrence of words as a feature to process. And from the way I am analyzing, the model 3 gets the highest score as 0.8832. Even though model 3 gets the highest accuracy, different combination of the method of processing data and the way to build the model might get better scores. \n",
    "\n",
    "- The different between mine work and the public kernels is that I am not just using one way to process the data. By using different methods, I get an different way to analyzing the data, which allow me to get a better scores."
   ]
  },
  {
   "cell_type": "markdown",
   "metadata": {},
   "source": [
    "# Contributions Statement\n",
    "- Hsiang-Hua Chen : 30% \n",
    "- Internet : 70%"
   ]
  },
  {
   "cell_type": "markdown",
   "metadata": {},
   "source": [
    "# Citations\n",
    "- https://www.kaggle.com/c/word2vec-nlp-tutorial\n",
    "- https://www.kaggle.com/c/word2vec-nlp-tutorial/submissions?sortBy=date&group=successful&page=1&pageSize=20\n",
    "- https://en.wikipedia.org/wiki/Word2vec\n",
    "- https://en.wikipedia.org/wiki/Bag-of-words_model\n",
    "- https://www.kaggle.com/nilanml/imdb-review-deep-model-94-89-accuracy"
   ]
  },
  {
   "cell_type": "markdown",
   "metadata": {},
   "source": [
    "# License\n",
    "\n",
    "MIT License\n",
    "\n",
    "Copyright (c) 2019 Hsiang-Hua Chen\n",
    "\n",
    "Permission is hereby granted, free of charge, to any person obtaining a copy\n",
    "of this software and associated documentation files (the \"Software\"), to deal\n",
    "in the Software without restriction, including without limitation the rights\n",
    "to use, copy, modify, merge, publish, distribute, sublicense, and/or sell\n",
    "copies of the Software, and to permit persons to whom the Software is\n",
    "furnished to do so, subject to the following conditions:\n",
    "\n",
    "The above copyright notice and this permission notice shall be included in all\n",
    "copies or substantial portions of the Software.\n",
    "\n",
    "THE SOFTWARE IS PROVIDED \"AS IS\", WITHOUT WARRANTY OF ANY KIND, EXPRESS OR\n",
    "IMPLIED, INCLUDING BUT NOT LIMITED TO THE WARRANTIES OF MERCHANTABILITY,\n",
    "FITNESS FOR A PARTICULAR PURPOSE AND NONINFRINGEMENT. IN NO EVENT SHALL THE\n",
    "AUTHORS OR COPYRIGHT HOLDERS BE LIABLE FOR ANY CLAIM, DAMAGES OR OTHER\n",
    "LIABILITY, WHETHER IN AN ACTION OF CONTRACT, TORT OR OTHERWISE, ARISING FROM,\n",
    "OUT OF OR IN CONNECTION WITH THE SOFTWARE OR THE USE OR OTHER DEALINGS IN THE\n",
    "SOFTWARE."
   ]
  }
 ],
 "metadata": {
  "kernelspec": {
   "display_name": "Python 3",
   "language": "python",
   "name": "python3"
  },
  "language_info": {
   "codemirror_mode": {
    "name": "ipython",
    "version": 3
   },
   "file_extension": ".py",
   "mimetype": "text/x-python",
   "name": "python",
   "nbconvert_exporter": "python",
   "pygments_lexer": "ipython3",
   "version": "3.7.1"
  }
 },
 "nbformat": 4,
 "nbformat_minor": 2
}
